{
 "cells": [
  {
   "cell_type": "markdown",
   "id": "ee58ea07",
   "metadata": {
    "slideshow": {
     "slide_type": "slide"
    }
   },
   "source": [
    "# Code Optimization\n",
    "\n",
    "**Author:** Nico Curti\n",
    "\n",
    "**Course:** Software and Computing for Applied Physics - 87948\n",
    "\n",
    "**Github:** [Nico-Curti](https://github.com/Nico-Curti)"
   ]
  },
  {
   "cell_type": "markdown",
   "id": "39f3f270",
   "metadata": {
    "slideshow": {
     "slide_type": "slide"
    }
   },
   "source": [
    "How to obtain the best performances from your code:\n",
    "\n",
    "1. Floating point computation\n",
    "2. Vectorization\n",
    "3. Structures"
   ]
  },
  {
   "cell_type": "markdown",
   "id": "d0966f35",
   "metadata": {
    "slideshow": {
     "slide_type": "slide"
    }
   },
   "source": [
    "## 1st Rule\n",
    "\n",
    "#### The math that you know does not exist in a computer"
   ]
  },
  {
   "cell_type": "code",
   "execution_count": 1,
   "id": "3397f160",
   "metadata": {
    "slideshow": {
     "slide_type": "fragment"
    }
   },
   "outputs": [],
   "source": [
    "assert 0.1 + 0.1 == 0.2"
   ]
  },
  {
   "cell_type": "code",
   "execution_count": 2,
   "id": "5ed134a8",
   "metadata": {
    "slideshow": {
     "slide_type": "fragment"
    }
   },
   "outputs": [
    {
     "ename": "AssertionError",
     "evalue": "",
     "output_type": "error",
     "traceback": [
      "\u001b[1;31m---------------------------------------------------------------------------\u001b[0m",
      "\u001b[1;31mAssertionError\u001b[0m                            Traceback (most recent call last)",
      "Input \u001b[1;32mIn [2]\u001b[0m, in \u001b[0;36m<cell line: 1>\u001b[1;34m()\u001b[0m\n\u001b[1;32m----> 1\u001b[0m \u001b[38;5;28;01massert\u001b[39;00m \u001b[38;5;241m0.1\u001b[39m \u001b[38;5;241m+\u001b[39m \u001b[38;5;241m0.1\u001b[39m \u001b[38;5;241m+\u001b[39m \u001b[38;5;241m0.1\u001b[39m \u001b[38;5;241m==\u001b[39m \u001b[38;5;241m0.3\u001b[39m\n",
      "\u001b[1;31mAssertionError\u001b[0m: "
     ]
    }
   ],
   "source": [
    "assert 0.1 + 0.1 + 0.1 == 0.3"
   ]
  },
  {
   "cell_type": "code",
   "execution_count": 3,
   "id": "f58e2dc1",
   "metadata": {
    "slideshow": {
     "slide_type": "slide"
    }
   },
   "outputs": [
    {
     "name": "stdout",
     "output_type": "stream",
     "text": [
      "0.100000 = 0.10000000000000000555111512312578\n",
      "0.10000000000000001 + 0.20000000000000001 = 0.30000000000000004\n",
      "0.1\n"
     ]
    }
   ],
   "source": [
    "# writing 0.1 with 32 significant digits\n",
    "print(\"{:f} = {:.32f}\".format(0.1, 0.1)) \n",
    "print(\"{:.17f} + {:.17f} = {:.17f}\".format(0.1, 0.2, 0.1 + 0.2))\n",
    "\n",
    "# python hides the horrible truth from you\n",
    "print(0.1)"
   ]
  },
  {
   "cell_type": "markdown",
   "id": "3f10a8e2",
   "metadata": {
    "slideshow": {
     "slide_type": "slide"
    }
   },
   "source": [
    "therefore:\n",
    "\n",
    "$$0.1 + 0.1 + 0.1 - 0.3$$\n",
    "    \n",
    "returns\n",
    "\n",
    "$$5.5\\ldots \\cdot 10^{-17}$$\n",
    "    \n",
    "instead of 0"
   ]
  },
  {
   "cell_type": "markdown",
   "id": "12d680a8",
   "metadata": {
    "slideshow": {
     "slide_type": "slide"
    }
   },
   "source": [
    "#### Some rules to keep in mind\n",
    "\n",
    "* as soon as you start working on a computer, you have to forget about the idea of **continuous**\n",
    "\n",
    "* any number that a computer can manipulate and output is, by necessity, with **finite precision**, and only an approximation of a **real number** (as in, a member of the real group)"
   ]
  },
  {
   "cell_type": "markdown",
   "id": "76184ef4",
   "metadata": {
    "slideshow": {
     "slide_type": "slide"
    }
   },
   "source": [
    "To represent the number we divide it in 3 components:\n",
    "\n",
    "* a field called **S**ignificant **S**\n",
    "* a field called **e**xponent **e**\n",
    "* a bit for the sign\n",
    "\n",
    "so the number will represent the following:\n",
    "\n",
    "$n = (-1)^s \\cdot S \\cdot 2^e$"
   ]
  },
  {
   "cell_type": "markdown",
   "id": "520fd476",
   "metadata": {
    "slideshow": {
     "slide_type": "slide"
    }
   },
   "source": [
    "Python works with 53 bit of precision, so the values that is working with internally are not the same as the ones that it shows using a simple print\n",
    "\n",
    "> If Python were to print the true decimal value of the binary \n",
    "> approximation stored for 0.1, it would \n",
    "> have to display \n",
    "> **0.1000000000000000055511151231257827021181583404541015625**\n",
    "> that is more digits than most people find useful.\n",
    "> \n",
    "> -- [Python documentation on the floating points](https://python.readthedocs.io/fr/latest/tutorial/floatingpoint.html)"
   ]
  },
  {
   "cell_type": "markdown",
   "id": "b3a29213",
   "metadata": {
    "slideshow": {
     "slide_type": "slide"
    }
   },
   "source": [
    "## Floating point arithmetics\n",
    "\n",
    "Due to their structure, floating point arithmetics is not equivalent to the one you are familiar with using the real numbers\n",
    "\n",
    "* associativity(+) : $(x+y)+z \\neq x + (y+z)$\n",
    "* associativity($\\times$) : $(x \\times y) \\times z \\neq x \\times (y \\times z)$\n",
    "* distributivity : $x \\times (y+z) \\neq (x \\times y)+(x \\times z)$"
   ]
  },
  {
   "cell_type": "markdown",
   "id": "f0cdcb4f",
   "metadata": {
    "slideshow": {
     "slide_type": "slide"
    }
   },
   "source": [
    "* round : $x + \\epsilon - x \\neq \\epsilon$\n",
    "* division : $a/b \\neq a \\times (1/b)$\n",
    "* algorithms : $(a+b) \\times (a-b) \\neq a^2-b^2$\n",
    "* ecc."
   ]
  },
  {
   "cell_type": "code",
   "execution_count": 4,
   "id": "353cd631",
   "metadata": {
    "slideshow": {
     "slide_type": "slide"
    }
   },
   "outputs": [
    {
     "name": "stdout",
     "output_type": "stream",
     "text": [
      "0.6000000000000001 0.6\n"
     ]
    },
    {
     "ename": "AssertionError",
     "evalue": "",
     "output_type": "error",
     "traceback": [
      "\u001b[1;31m---------------------------------------------------------------------------\u001b[0m",
      "\u001b[1;31mAssertionError\u001b[0m                            Traceback (most recent call last)",
      "Input \u001b[1;32mIn [4]\u001b[0m, in \u001b[0;36m<cell line: 6>\u001b[1;34m()\u001b[0m\n\u001b[0;32m      4\u001b[0m \u001b[38;5;28mprint\u001b[39m((a \u001b[38;5;241m+\u001b[39m b) \u001b[38;5;241m+\u001b[39m c, a \u001b[38;5;241m+\u001b[39m (b \u001b[38;5;241m+\u001b[39m c))\n\u001b[0;32m      5\u001b[0m \u001b[38;5;66;03m# verify the associative property (+) including all bits\u001b[39;00m\n\u001b[1;32m----> 6\u001b[0m \u001b[38;5;28;01massert\u001b[39;00m((a \u001b[38;5;241m+\u001b[39m b) \u001b[38;5;241m+\u001b[39m c \u001b[38;5;241m==\u001b[39m a \u001b[38;5;241m+\u001b[39m (b \u001b[38;5;241m+\u001b[39m c))\n",
      "\u001b[1;31mAssertionError\u001b[0m: "
     ]
    }
   ],
   "source": [
    "a = 0.1\n",
    "b = 0.2\n",
    "c = 0.3\n",
    "print((a + b) + c, a + (b + c))\n",
    "# verify the associative property (+) including all bits\n",
    "assert((a + b) + c == a + (b + c))"
   ]
  },
  {
   "cell_type": "markdown",
   "id": "0d817d00",
   "metadata": {
    "slideshow": {
     "slide_type": "slide"
    }
   },
   "source": [
    "Exact fractions, on the other end, are all the fractions that can be expressed as $1/2^N$:\n",
    "\n",
    "* 0.5\n",
    "* 0.25\n",
    "* 0.125\n",
    "* ...\n",
    "\n",
    "for an extensive explaination, read [What Every Computer Scientist Should Know About Floating-Point Arithmetic](https://docs.oracle.com/cd/E19957-01/806-3568/ncg_goldberg.html)"
   ]
  },
  {
   "cell_type": "markdown",
   "id": "51b667fc",
   "metadata": {
    "slideshow": {
     "slide_type": "slide"
    }
   },
   "source": [
    "if you have to test is two floating point numbers are **close enough** to be for all intent and purposes considered equal, you can use the function `math.isclose`:\n",
    "\n",
    "```python\n",
    ">>> import math\n",
    ">>> a = 5.0\n",
    ">>> b = 4.99998\n",
    ">>> math.isclose(a, b, abs_tol=0.00003)\n",
    "True\n",
    ">>> math.isclose(a, b, abs_tol=0.00001)\n",
    "False\n",
    ">>> math.isclose(a, b, rel_tol=1e-5)\n",
    "True\n",
    ">>> math.isclose(a, b, rel_tol=1e-6)\n",
    "False\n",
    "```"
   ]
  },
  {
   "cell_type": "markdown",
   "id": "792625f7",
   "metadata": {
    "slideshow": {
     "slide_type": "slide"
    }
   },
   "source": [
    "If you don't care about numerical performances, you can also use the builtins modules **decimal** and **fraction**"
   ]
  },
  {
   "cell_type": "markdown",
   "id": "e6156dc8",
   "metadata": {
    "slideshow": {
     "slide_type": "fragment"
    }
   },
   "source": [
    "```python\n",
    ">>> from decimal import getcontext, Decimal\n",
    ">>> getcontext().prec = 6\n",
    ">>> Decimal(1) / Decimal(7)\n",
    "Decimal('0.142857')\n",
    ">>> getcontext().prec = 28\n",
    ">>> Decimal(1) / Decimal(7)\n",
    "Decimal('0.1428571428571428571428571429')\n",
    "```"
   ]
  },
  {
   "cell_type": "markdown",
   "id": "d4bf52fd",
   "metadata": {
    "slideshow": {
     "slide_type": "slide"
    }
   },
   "source": [
    "```python\n",
    ">>> from fractions import Fraction\n",
    ">>> Fraction(16, -10)\n",
    "Fraction(-8, 5)\n",
    ">>> Fraction('-3/7')\n",
    "Fraction(-3, 7)\n",
    ">>> Fraction('1.414213')\n",
    "Fraction(1414213, 1000000)\n",
    ">>> Fraction('7e-6')\n",
    "Fraction(7, 1000000)\n",
    "```"
   ]
  },
  {
   "cell_type": "markdown",
   "id": "121ea956",
   "metadata": {
    "slideshow": {
     "slide_type": "slide"
    }
   },
   "source": [
    "## Floating point exceptions\n",
    "\n",
    "alongside precision errors and round offs, there are several possible exceptions that can be raised while operating with floating point numbers.\n",
    "\n",
    "They are defined by the IEEE standard\n",
    "\n",
    "* **Underflow** : the result of an operation is too small to be represented with a number\n",
    "\n",
    "* **Overflow** : the result of an operation is too big to be represented with a number\n",
    "\n",
    "* **Divide-by-zero** : when one tries to divide by 0\n",
    "\n",
    "* **Invalid** : when the operation is not well defined (es. (0.0 / 0.0).\n",
    "\n",
    "* **Inexact** : happens when the result of the operation is strongly approximated"
   ]
  },
  {
   "cell_type": "markdown",
   "id": "74f46551",
   "metadata": {
    "slideshow": {
     "slide_type": "slide"
    }
   },
   "source": [
    "## WTF Example"
   ]
  },
  {
   "cell_type": "code",
   "execution_count": 5,
   "id": "a4eb7046",
   "metadata": {
    "slideshow": {
     "slide_type": "slide"
    }
   },
   "outputs": [
    {
     "data": {
      "text/plain": [
       "True"
      ]
     },
     "execution_count": 5,
     "metadata": {},
     "output_type": "execute_result"
    }
   ],
   "source": [
    "a = 250\n",
    "b = 250\n",
    "a == b"
   ]
  },
  {
   "cell_type": "code",
   "execution_count": 6,
   "id": "0340b008",
   "metadata": {
    "slideshow": {
     "slide_type": "fragment"
    }
   },
   "outputs": [
    {
     "data": {
      "text/plain": [
       "True"
      ]
     },
     "execution_count": 6,
     "metadata": {},
     "output_type": "execute_result"
    }
   ],
   "source": [
    "a is b"
   ]
  },
  {
   "cell_type": "code",
   "execution_count": 7,
   "id": "dc43deaa",
   "metadata": {
    "slideshow": {
     "slide_type": "slide"
    }
   },
   "outputs": [
    {
     "data": {
      "text/plain": [
       "True"
      ]
     },
     "execution_count": 7,
     "metadata": {},
     "output_type": "execute_result"
    }
   ],
   "source": [
    "a = 300\n",
    "b = 300\n",
    "a == b"
   ]
  },
  {
   "cell_type": "code",
   "execution_count": 8,
   "id": "c3287df9",
   "metadata": {
    "slideshow": {
     "slide_type": "fragment"
    }
   },
   "outputs": [
    {
     "data": {
      "text/plain": [
       "False"
      ]
     },
     "execution_count": 8,
     "metadata": {},
     "output_type": "execute_result"
    }
   ],
   "source": [
    "a is b"
   ]
  },
  {
   "cell_type": "markdown",
   "id": "12ea881a",
   "metadata": {
    "slideshow": {
     "slide_type": "slide"
    }
   },
   "source": [
    "# Accuracy"
   ]
  },
  {
   "cell_type": "markdown",
   "id": "f470d915",
   "metadata": {
    "slideshow": {
     "slide_type": "slide"
    }
   },
   "source": [
    "## The algorithm matters!\n",
    "\n",
    "Given the properties of the floating point numbers, different ways of performing your calculations can yield wildly different results!\n",
    "\n",
    "Choosing the best algorithm is a craft, that needs to consider the floating point arithmetics, but also to balance it with the computational requirements in terms of memory and time!"
   ]
  },
  {
   "cell_type": "markdown",
   "id": "dd8e9d6c",
   "metadata": {
    "slideshow": {
     "slide_type": "slide"
    }
   },
   "source": [
    "## An example - the average\n",
    "\n",
    "Lets suppose that we want to evaluate the average of a vector $x$.\n",
    "\n",
    "we can estimate it using\n",
    "\n",
    "$E[x] = \\sum_{i=1}^N \\frac{x_i}{N}$\n",
    "\n",
    "or\n",
    "\n",
    "$E[x] = \\frac{1}{N}\\sum_{i=1}^N x_i$\n",
    "\n",
    "From a real number perspective these two versions are exactly equal, but for floating points they are not! "
   ]
  },
  {
   "cell_type": "code",
   "execution_count": 9,
   "id": "09dce175",
   "metadata": {
    "slideshow": {
     "slide_type": "slide"
    }
   },
   "outputs": [
    {
     "name": "stdout",
     "output_type": "stream",
     "text": [
      "Mean 1 = 0.10000000000000183741910575463407\n",
      "Mean 2 = 0.099999999999998590016758726051194\n",
      "Diff = -3.247e-15\n"
     ]
    }
   ],
   "source": [
    "N = 1000\n",
    "mean_1 = 0.0\n",
    "mean_2 = 0.0\n",
    "for i in range(N):\n",
    "    mean_1 += 0.1 / N\n",
    "    mean_2 += 0.1\n",
    "mean_2 /= N\n",
    "print(f'Mean 1 = {mean_1:.32g}')\n",
    "print(f'Mean 2 = {mean_2:.32g}')\n",
    "print(f'Diff = {mean_2 - mean_1:.4g}')"
   ]
  },
  {
   "cell_type": "markdown",
   "id": "74a67573",
   "metadata": {
    "slideshow": {
     "slide_type": "slide"
    }
   },
   "source": [
    "For the estimate of the variance the results can be even more extremes:\n",
    "\n",
    "in certain cases we can obtain a negative variance using the usual formula!\n",
    "\n",
    "if you want to read more, check [Comparing three methods of computing standard deviation](https://www.johndcook.com/blog/2008/09/26/comparing-three-methods-of-computing-standard-deviation/)"
   ]
  },
  {
   "cell_type": "markdown",
   "id": "b69c93c2",
   "metadata": {
    "slideshow": {
     "slide_type": "slide"
    }
   },
   "source": [
    "### Algorithm Stability - Example"
   ]
  },
  {
   "cell_type": "markdown",
   "id": "d52542ea",
   "metadata": {
    "slideshow": {
     "slide_type": "slide"
    }
   },
   "source": [
    "Keepin the summation (or average) as example, there are several solution to address the issue of the computational stability.\n",
    "\n",
    "The most famous example is given by the Kahan summation scheme."
   ]
  },
  {
   "cell_type": "markdown",
   "id": "47cfb048",
   "metadata": {
    "slideshow": {
     "slide_type": "slide"
    }
   },
   "source": [
    "**Standard algorithm**\n",
    "\n",
    "```python\n",
    "sum = 0.0\n",
    "for i in range(10):\n",
    "    sum = sum + 0.1\n",
    "print(sum)\n",
    ">>> 0.9999999999999999\n",
    "```"
   ]
  },
  {
   "cell_type": "markdown",
   "id": "681e6a92",
   "metadata": {
    "slideshow": {
     "slide_type": "slide"
    }
   },
   "source": [
    "**Stable algorithm (KAHAN)**\n",
    "\n",
    "```python\n",
    "sum = 0.0\n",
    "c = 0.0 # Variable to store the error\n",
    "for i in range(10):\n",
    "    y = 0.1 - c\n",
    "    t = sum + y\n",
    "    # Algebraically, c is always 0 when t is replaced by its value \n",
    "    # from the above expression.\n",
    "    # But, when there is a loss, the higher-order y is cancelled out \n",
    "    # by subtracting y from c and all that remains is the lower-order \n",
    "    # error in c\n",
    "    c = (t - sum) - y\n",
    "    sum = t\n",
    "print(t)\n",
    ">>> 1.0\n",
    "```"
   ]
  },
  {
   "cell_type": "markdown",
   "id": "fe2306c2",
   "metadata": {
    "slideshow": {
     "slide_type": "slide"
    }
   },
   "source": [
    "On the other end, sometimes a less precise algorithm can be preferred simply due to its **speed**.\n",
    "\n",
    "On a traditional CPU different operations have wildly different execution times, and this could lead to dramatic differences in approach!"
   ]
  },
  {
   "attachments": {
    "time.png": {
     "image/png": "[encoded data removed]"
    }
   },
   "cell_type": "markdown",
   "id": "3aad75df",
   "metadata": {
    "slideshow": {
     "slide_type": "slide"
    }
   },
   "source": [
    "## Cost of Operations\n",
    "\n",
    "![time.png](attachment:time.png)"
   ]
  },
  {
   "attachments": {
    "time2.png": {
     "image/png": "[encoded data removed]"
    }
   },
   "cell_type": "markdown",
   "id": "7ef48752",
   "metadata": {
    "slideshow": {
     "slide_type": "slide"
    }
   },
   "source": [
    "![time2.png](attachment:time2.png)"
   ]
  },
  {
   "cell_type": "markdown",
   "id": "aeb78ed9",
   "metadata": {
    "slideshow": {
     "slide_type": "slide"
    }
   },
   "source": [
    "A consequence of this is that performing different operations that should be the same can have massive performance gain.\n",
    "(an example with a spoiler)"
   ]
  },
  {
   "cell_type": "code",
   "execution_count": 10,
   "id": "32d60726",
   "metadata": {
    "slideshow": {
     "slide_type": "slide"
    }
   },
   "outputs": [],
   "source": [
    "import numpy as np\n",
    "\n",
    "a = np.random.randn(100_000)"
   ]
  },
  {
   "cell_type": "code",
   "execution_count": 11,
   "id": "637feae8",
   "metadata": {
    "slideshow": {
     "slide_type": "fragment"
    }
   },
   "outputs": [
    {
     "name": "stdout",
     "output_type": "stream",
     "text": [
      "62.9 µs ± 599 ns per loop (mean ± std. dev. of 7 runs, 10,000 loops each)\n"
     ]
    }
   ],
   "source": [
    "%timeit a/2"
   ]
  },
  {
   "cell_type": "code",
   "execution_count": 12,
   "id": "790c7198",
   "metadata": {
    "slideshow": {
     "slide_type": "fragment"
    }
   },
   "outputs": [
    {
     "name": "stdout",
     "output_type": "stream",
     "text": [
      "56.5 µs ± 584 ns per loop (mean ± std. dev. of 7 runs, 10,000 loops each)\n"
     ]
    }
   ],
   "source": [
    "%timeit a*0.5"
   ]
  },
  {
   "cell_type": "markdown",
   "id": "e551e1c8",
   "metadata": {
    "slideshow": {
     "slide_type": "slide"
    }
   },
   "source": [
    "this can create some mind bending effect performance wise"
   ]
  },
  {
   "cell_type": "code",
   "execution_count": 13,
   "id": "e17ff339",
   "metadata": {
    "slideshow": {
     "slide_type": "fragment"
    }
   },
   "outputs": [
    {
     "name": "stdout",
     "output_type": "stream",
     "text": [
      "119 µs ± 2.57 µs per loop (mean ± std. dev. of 7 runs, 10,000 loops each)\n"
     ]
    }
   ],
   "source": [
    "%timeit a*1/2"
   ]
  },
  {
   "cell_type": "code",
   "execution_count": 14,
   "id": "683f30ba",
   "metadata": {
    "slideshow": {
     "slide_type": "fragment"
    }
   },
   "outputs": [
    {
     "name": "stdout",
     "output_type": "stream",
     "text": [
      "52.2 µs ± 3.88 µs per loop (mean ± std. dev. of 7 runs, 10,000 loops each)\n"
     ]
    }
   ],
   "source": [
    "%timeit 1/2*a"
   ]
  },
  {
   "cell_type": "markdown",
   "id": "8c85a8ff",
   "metadata": {
    "slideshow": {
     "slide_type": "slide"
    }
   },
   "source": [
    "A classic example from computer science is the inverse of a square root of a number\n",
    "\n",
    "$$ \\frac{1}{\\sqrt{x}} $$\n",
    "\n",
    "\n",
    "you could use the standard formula, and obtain a reasonably good result:"
   ]
  },
  {
   "cell_type": "code",
   "execution_count": 15,
   "id": "cb126e8b",
   "metadata": {
    "slideshow": {
     "slide_type": "fragment"
    }
   },
   "outputs": [
    {
     "name": "stdout",
     "output_type": "stream",
     "text": [
      "0.5\n"
     ]
    }
   ],
   "source": [
    "from math import sqrt\n",
    "\n",
    "print(1/sqrt(4))"
   ]
  },
  {
   "cell_type": "markdown",
   "id": "ea768240",
   "metadata": {
    "slideshow": {
     "slide_type": "slide"
    }
   },
   "source": [
    "## But\n",
    "\n",
    "somebody (it is actually not known who) developed the following monster to do the same operation"
   ]
  },
  {
   "cell_type": "code",
   "execution_count": 16,
   "id": "152758cf",
   "metadata": {
    "slideshow": {
     "slide_type": "slide"
    }
   },
   "outputs": [
    {
     "name": "stdout",
     "output_type": "stream",
     "text": [
      "0.49915357479239103\n"
     ]
    }
   ],
   "source": [
    "def isqrt(number):\n",
    "    import numpy as np\n",
    "    assert number > 0\n",
    "    threehalfs = 1.5\n",
    "    x2 = number * 0.5\n",
    "    y = np.float32(number) # converting the number to float32\n",
    "\n",
    "    i = y.view(np.int32) #convert y to a int32 variable\n",
    "    magic = np.int32(0x5f3759df) # magic number,  nobody knows why it works\n",
    "    i = magic - np.int32(i >> 1) #difference bit-wise of the numbers\n",
    "    y = i.view(np.float32)\n",
    "\n",
    "    y = y * (threehalfs - (x2 * y * y))\n",
    "    return float(y)\n",
    "\n",
    "print(isqrt(4))"
   ]
  },
  {
   "cell_type": "markdown",
   "id": "8c1a58a3",
   "metadata": {
    "slideshow": {
     "slide_type": "slide"
    }
   },
   "source": [
    "This algorithm is less precise and more complicated, but it's so much faster than the naive implementation that is single handedly considered the code that allowed the birth of modern first person shooting games!\n",
    "\n",
    "this is because this expression appears countless times in the dynamic light computation (to decrease it with distance), and this was fast and precise enough to allow to be used in real time\n",
    "\n",
    "**NOTE**: this algorithm is actually performing the first step of a newton minimization algorithm "
   ]
  },
  {
   "cell_type": "markdown",
   "id": "5e05a988",
   "metadata": {
    "slideshow": {
     "slide_type": "slide"
    }
   },
   "source": [
    "If you are interested in some other \"fast-math\" operations, there is a longer set of examples on this topic in this [GIST](https://gist.github.com/Nico-Curti/3945d062644f458a5d39d5c16f77199b)\n",
    "\n",
    "**NOTE:** Analogous implementation can be easily extended also to other programming languages."
   ]
  },
  {
   "cell_type": "markdown",
   "id": "b5ed7425",
   "metadata": {
    "slideshow": {
     "slide_type": "slide"
    }
   },
   "source": [
    "# Speed"
   ]
  },
  {
   "cell_type": "markdown",
   "id": "4b5d5cc9",
   "metadata": {
    "slideshow": {
     "slide_type": "slide"
    }
   },
   "source": [
    "there are several ways to speed up and optimize an algorithm, and each one of them is appropriate to different situations:\n",
    "\n",
    "* **code vectorization**\n",
    "* memory access optimization\n",
    "* code parallelization"
   ]
  },
  {
   "cell_type": "markdown",
   "id": "7af716c1",
   "metadata": {
    "slideshow": {
     "slide_type": "slide"
    }
   },
   "source": [
    "The vectorization is the idea of expressing operations on entire data structures, and letting the CPU perform them on all the element at once.\n",
    "\n",
    "the performance increase comes from a reduction of the cache I/O between CPU and RAM, a huge bottleneck in operations."
   ]
  },
  {
   "cell_type": "markdown",
   "id": "cff98d47",
   "metadata": {
    "slideshow": {
     "slide_type": "slide"
    }
   },
   "source": [
    "### Single Instruction Multiple Data"
   ]
  },
  {
   "attachments": {
    "vec.png": {
     "image/png": "[encoded data removed]"
    }
   },
   "cell_type": "markdown",
   "id": "2e4f943c",
   "metadata": {
    "slideshow": {
     "slide_type": "slide"
    }
   },
   "source": [
    "![vec.png](attachment:vec.png)"
   ]
  },
  {
   "cell_type": "markdown",
   "id": "9a995d6d",
   "metadata": {
    "slideshow": {
     "slide_type": "slide"
    }
   },
   "source": [
    "So we can use vectorization when:\n",
    "\n",
    "* we have a loop over a data structure\n",
    "* each step of the loop can be executed in parallel over the elements of the structure\n",
    "\n",
    "vectorization is one of the easiest methods to implement and that have the best gain for effort... especially in high level programming languages"
   ]
  },
  {
   "cell_type": "markdown",
   "id": "da653d17",
   "metadata": {
    "slideshow": {
     "slide_type": "slide"
    }
   },
   "source": [
    "To implement vectorized code we need two main elements:\n",
    "\n",
    "1. a data structure or any kind of container able to store multiple variables into sequential slots of memory\n",
    "2. an operation which involves each element of the container independently\n",
    "\n",
    "This approach is quite close to the idea behind functional programming (Map-Reduce schedule) and in many cases can be achieved using the same scheme."
   ]
  },
  {
   "cell_type": "markdown",
   "id": "0ac49ce1",
   "metadata": {
    "slideshow": {
     "slide_type": "slide"
    }
   },
   "source": [
    "# NumPy - Numerical Python\n",
    "\n",
    "**Numpy** is the library that underpins all the python scientific ecosystem, for high performance computation and data analysis\n",
    "\n",
    "The library provides an object, the **array** (*ndarray*, to be specific), that support vectorized and parallel computation, allowing high performance math in python, to a speed that can rival C (if properly implemented) "
   ]
  },
  {
   "cell_type": "markdown",
   "id": "58344d2f",
   "metadata": {
    "slideshow": {
     "slide_type": "slide"
    }
   },
   "source": [
    "The library also provides most common manipulation algorithms (later we'll discuss the extensions with **scipy**), all implemented in a vectorized fashion, but also read and write capabilities, tabular data manipulation, linear algebra, and even C++ code wrapping!\n",
    "\n",
    "Good reference book (free online) are:\n",
    "\n",
    "* [From Python to Numpy](https://www.labri.fr/perso/nrougier/from-python-to-numpy/)\n",
    "* [Scipy Lecture Notes](https://scipy-lectures.org/)"
   ]
  },
  {
   "cell_type": "code",
   "execution_count": 17,
   "id": "22cb66db",
   "metadata": {
    "slideshow": {
     "slide_type": "slide"
    }
   },
   "outputs": [
    {
     "name": "stdout",
     "output_type": "stream",
     "text": [
      "a = [1 2 3 4]\n",
      "b = \n",
      "[[1 2 3 4]\n",
      " [5 6 7 8]]\n"
     ]
    }
   ],
   "source": [
    "import numpy as np\n",
    "# vector 1x4\n",
    "a = np.array([1, 2, 3, 4]) \n",
    "print(f'a = {a}')\n",
    "# bidimensional array (matrix) 2x4\n",
    "b = np.array([\n",
    "    [1, 2, 3, 4],\n",
    "    [5, 6, 7, 8],\n",
    "]) \n",
    "print(f'b = \\n{b}')"
   ]
  },
  {
   "cell_type": "markdown",
   "id": "85488e78",
   "metadata": {
    "slideshow": {
     "slide_type": "slide"
    }
   },
   "source": [
    "Every array has the following functions and methods available:\n",
    "\n",
    "* array.shape : returns the dimensions of the array (a tuple of lenght alongside each dimension)\n",
    "* array.dtype : returns the type of data inside the array (array are homogeneous)\n",
    "* len(array) : return the size of the **rows** (the first dimension) of a multidimensional array (the dimensione over which you can loop over)\n",
    "* np.array(list) o np.array(tuple) : convert them in a numpy array"
   ]
  },
  {
   "cell_type": "code",
   "execution_count": 18,
   "id": "702a0235",
   "metadata": {
    "slideshow": {
     "slide_type": "slide"
    }
   },
   "outputs": [
    {
     "name": "stdout",
     "output_type": "stream",
     "text": [
      "(4,)\n",
      "(4,)\n",
      "int32\n",
      "4\n"
     ]
    }
   ],
   "source": [
    "a = [1, 2, 3, 4]\n",
    "a_array = np.array(a)\n",
    "b_array = np.asarray(list(a))\n",
    "print(a_array.shape)\n",
    "print(b_array.shape)\n",
    "print(a_array.dtype)\n",
    "print(len(a_array))"
   ]
  },
  {
   "cell_type": "markdown",
   "id": "80c6e123",
   "metadata": {
    "slideshow": {
     "slide_type": "slide"
    }
   },
   "source": [
    "it is also possible to specify the type of numbers that the array should contains.\n",
    "\n",
    "**NOTE**: in a numpy array all the values **must** have the same type!\n",
    "\n",
    "[https://docs.scipy.org/doc/numpy/user/basics.types.html](https://docs.scipy.org/doc/numpy/user/basics.types.html)\n",
    "\n",
    "different data types can massively change the array size, and this could be a life saver when memory is limited!\n",
    "\n",
    "(sadly there is no simple way of managing 1-bit arrays for booleans)"
   ]
  },
  {
   "cell_type": "code",
   "execution_count": 19,
   "id": "6c03a58c",
   "metadata": {
    "slideshow": {
     "slide_type": "slide"
    }
   },
   "outputs": [
    {
     "name": "stdout",
     "output_type": "stream",
     "text": [
      "[1 2 3 4]\n",
      "[1. 2. 3. 4.]\n",
      "[1.+0.j 2.+0.j 3.+0.j 4.+0.j]\n"
     ]
    }
   ],
   "source": [
    "a = [1, 2, 3, 4]\n",
    "print(np.array(a, dtype='uint8'))\n",
    "print(np.array(a, dtype='float32'))\n",
    "print(np.array(a, dtype='complex'))"
   ]
  },
  {
   "cell_type": "code",
   "execution_count": 20,
   "id": "3aa5abe2",
   "metadata": {
    "slideshow": {
     "slide_type": "slide"
    }
   },
   "outputs": [
    {
     "name": "stdout",
     "output_type": "stream",
     "text": [
      "4 1 4\n"
     ]
    }
   ],
   "source": [
    "a = np.array([1, 2, 3, 4], dtype='uint8')\n",
    "print(a.size, a.itemsize, a.nbytes)"
   ]
  },
  {
   "cell_type": "code",
   "execution_count": 21,
   "id": "ed4ccd5a",
   "metadata": {
    "slideshow": {
     "slide_type": "-"
    }
   },
   "outputs": [
    {
     "name": "stdout",
     "output_type": "stream",
     "text": [
      "4 8 32\n"
     ]
    }
   ],
   "source": [
    "a = np.array([1, 2, 3, 4], dtype='float64')\n",
    "print(a.size, a.itemsize, a.nbytes)"
   ]
  },
  {
   "cell_type": "code",
   "execution_count": 22,
   "id": "edbb7086",
   "metadata": {
    "slideshow": {
     "slide_type": "-"
    }
   },
   "outputs": [
    {
     "name": "stdout",
     "output_type": "stream",
     "text": [
      "4 16 64\n"
     ]
    }
   ],
   "source": [
    "a = np.array([1, 2, 3, 4], dtype='complex')\n",
    "print(a.size, a.itemsize, a.nbytes)"
   ]
  },
  {
   "cell_type": "markdown",
   "id": "4c7ef832",
   "metadata": {
    "slideshow": {
     "slide_type": "slide"
    }
   },
   "source": [
    "The *array* object makes the bases of all the programming languages and you don't need to reinvent them.\n",
    "\n",
    "The possibility to store multiple variables into container can be found also in low level languages, even if some properties can be \"hidden\"..."
   ]
  },
  {
   "cell_type": "markdown",
   "id": "053d6ee8",
   "metadata": {
    "slideshow": {
     "slide_type": "slide"
    }
   },
   "source": [
    "# Vector - Standard Library\n",
    "\n",
    "The **std :: vector** library is one of the most important for the C++ code and used in combination with other **std++11, std++14, std++17, std++20** libraries is very close to the Numpy one."
   ]
  },
  {
   "cell_type": "markdown",
   "id": "e840ca63",
   "metadata": {
    "slideshow": {
     "slide_type": "slide"
    }
   },
   "source": [
    "**Vector initialization**\n",
    "\n",
    "```c++\n",
    "#include <vector>\n",
    "#include <algorithm>\n",
    "#include <iterator>\n",
    "#include <iostream>\n",
    "\n",
    "int main () {\n",
    "    std :: vector < int32_t > a {1, 2, 3, 4};\n",
    "    std :: cout << \"[\";\n",
    "    std :: copy(\n",
    "        a.begin(),\n",
    "        a.end() - 1,\n",
    "        std :: ostream_iterator < int32_t >(std :: cout, \",\"));\n",
    "    std :: cout << *(a.end() - 1);\n",
    "    std :: cout << \"]\" << std :: endl;\n",
    "    return 0;\n",
    "}\n",
    "```\n",
    "```python\n",
    ">>> [1,2,3,4]\n",
    "```"
   ]
  },
  {
   "cell_type": "markdown",
   "id": "a76258ff",
   "metadata": {
    "slideshow": {
     "slide_type": "slide"
    }
   },
   "source": [
    "**Vector Type, Size, Bitcount**\n",
    "\n",
    "```c++\n",
    "#include <vector>\n",
    "#include <iostream>\n",
    "\n",
    "int main () {\n",
    "    std :: vector < int32_t > a {1, 2, 3, 4};\n",
    "    std :: cout << a.size() << \", \" \n",
    "                << typeid(a).name() << \", \"\n",
    "                << sizeof(a)\n",
    "                << std :: endl;\n",
    "    return 0;\n",
    "}\n",
    "```\n",
    "\n",
    "```python\n",
    ">>> 4, NSt3__26vectorIfNS_9allocatorIfEEEE, 12\n",
    "```"
   ]
  },
  {
   "cell_type": "markdown",
   "id": "af7a719b",
   "metadata": {
    "slideshow": {
     "slide_type": "slide"
    }
   },
   "source": [
    "## Create an Array\n",
    "\n",
    "There are 3 important functions to create an array:"
   ]
  },
  {
   "cell_type": "code",
   "execution_count": 23,
   "id": "9533833f",
   "metadata": {
    "slideshow": {
     "slide_type": "-"
    }
   },
   "outputs": [
    {
     "name": "stdout",
     "output_type": "stream",
     "text": [
      "array_zeros = [0. 0. 0. 0. 0. 0. 0. 0. 0. 0.]\n"
     ]
    }
   ],
   "source": [
    "array_zeros = np.zeros(10) # vector of 1x10 zeros\n",
    "print(f'array_zeros = {array_zeros}')"
   ]
  },
  {
   "cell_type": "code",
   "execution_count": 24,
   "id": "6c861e88",
   "metadata": {
    "slideshow": {
     "slide_type": "-"
    }
   },
   "outputs": [
    {
     "name": "stdout",
     "output_type": "stream",
     "text": [
      "array_ones = [1. 1. 1. 1. 1. 1. 1. 1. 1. 1.]\n"
     ]
    }
   ],
   "source": [
    "array_ones = np.ones(10) # vector of 1x10 ones\n",
    "print(f'array_ones = {array_ones}')"
   ]
  },
  {
   "cell_type": "code",
   "execution_count": 25,
   "id": "0958208b",
   "metadata": {
    "slideshow": {
     "slide_type": "slide"
    }
   },
   "outputs": [
    {
     "name": "stdout",
     "output_type": "stream",
     "text": [
      "array_empty = [1.37962185e-306 8.01097889e-307 4.45057637e-308 1.42419530e-306\n",
      " 7.56603881e-307 1.11255866e-306 8.90098127e-307 7.56603881e-307\n",
      " 1.78020848e-306 6.39754570e-308 1.60219035e-306 1.37961709e-306\n",
      " 1.69109959e-306 1.69109959e-306 9.34603679e-307 1.37962049e-306\n",
      " 4.45055939e-308 8.45603441e-307 2.22812926e-312 0.00000000e+000]\n"
     ]
    }
   ],
   "source": [
    "array_empty = np.empty(20) \n",
    "# vector 1x20 of null values (from the free memory used)\n",
    "print(f'array_empty = {array_empty}')"
   ]
  },
  {
   "cell_type": "markdown",
   "id": "98113225",
   "metadata": {
    "slideshow": {
     "slide_type": "slide"
    }
   },
   "source": [
    "## Beware\n",
    "\n",
    "**np.empty** does not contains zeros, but basically random numbers.\n",
    "\n",
    "They are not properly random, but \"garbage\" remaining from the values of the previous of that section of memory"
   ]
  },
  {
   "cell_type": "markdown",
   "id": "b8e6c99a",
   "metadata": {
    "slideshow": {
     "slide_type": "slide"
    }
   },
   "source": [
    "This is analogous to the standard library counter part of the C++ language\n",
    "\n",
    "```c++\n",
    "#include <vector>\n",
    "\n",
    "const int32_t length = 10;\n",
    "std :: vector < int32_t > array_zeros(length, 0);\n",
    "std :: vector < float > array_ones(length, 1.f);\n",
    "```\n",
    "\n",
    "**or**\n",
    "\n",
    "```c++\n",
    "#include <vector>\n",
    "#include <algorithm>\n",
    "\n",
    "const int32_t length = 10;\n",
    "std :: vector < int32_t > a(length);\n",
    "std :: fill_n (a.begin(), length, 2);\n",
    "```"
   ]
  },
  {
   "cell_type": "markdown",
   "id": "48a2a56f",
   "metadata": {
    "slideshow": {
     "slide_type": "slide"
    }
   },
   "source": [
    "**NOTE:** The default initialization of the C++ is always random, if not explicitly specified.\n",
    "So you can think about the default C++ as a \"np.empty\" counter part."
   ]
  },
  {
   "cell_type": "markdown",
   "id": "475bbb10",
   "metadata": {
    "slideshow": {
     "slide_type": "slide"
    }
   },
   "source": [
    "## WTF Example"
   ]
  },
  {
   "cell_type": "code",
   "execution_count": 26,
   "id": "a9450043",
   "metadata": {
    "slideshow": {
     "slide_type": "slide"
    }
   },
   "outputs": [],
   "source": [
    "def energy_send(x):\n",
    "    # Initializing a numpy array\n",
    "    np.array([float(x)])"
   ]
  },
  {
   "cell_type": "code",
   "execution_count": 27,
   "id": "36843146",
   "metadata": {
    "slideshow": {
     "slide_type": "fragment"
    }
   },
   "outputs": [],
   "source": [
    "def energy_receive():\n",
    "    # Return an empty numpy array\n",
    "    energy = np.empty((), dtype=float)\n",
    "    return energy"
   ]
  },
  {
   "cell_type": "code",
   "execution_count": 28,
   "id": "71d5c141",
   "metadata": {
    "slideshow": {
     "slide_type": "fragment"
    }
   },
   "outputs": [
    {
     "name": "stdout",
     "output_type": "stream",
     "text": [
      "123.456\n"
     ]
    }
   ],
   "source": [
    "energy_send(123.456)\n",
    "print(energy_receive())"
   ]
  },
  {
   "cell_type": "markdown",
   "id": "f15f88ee",
   "metadata": {
    "slideshow": {
     "slide_type": "slide"
    }
   },
   "source": [
    "## Operations between arrays and scalars\n",
    "\n",
    "Numpy's array are not only simplifying the generation and management of data, but they have a huge number of operations that are already vectorized, such as **array-array** operations and **array-scalar**"
   ]
  },
  {
   "cell_type": "code",
   "execution_count": 29,
   "id": "794538ba",
   "metadata": {
    "slideshow": {
     "slide_type": "slide"
    }
   },
   "outputs": [
    {
     "name": "stdout",
     "output_type": "stream",
     "text": [
      "ARITHMETIC OPERATIONS\n",
      "a =  [1 2 3 4]\n",
      "b =  [2 3 4 5]\n",
      "a * 10 :  [10 20 30 40]\n",
      "a + 2 :  [3 4 5 6]\n",
      "a^2 :  [ 1  4  9 16]\n"
     ]
    }
   ],
   "source": [
    "a = np.array([1, 2, 3, 4])\n",
    "b = np.array([2, 3, 4, 5])\n",
    "print ('ARITHMETIC OPERATIONS')\n",
    "print ('a = ', a)\n",
    "print ('b = ', b)\n",
    "print ('a * 10 : ', a * 10)\n",
    "print ('a + 2 : ', a + 2)\n",
    "print ('a^2 : ', a**2)"
   ]
  },
  {
   "cell_type": "code",
   "execution_count": 30,
   "id": "5176cd91",
   "metadata": {
    "slideshow": {
     "slide_type": "slide"
    }
   },
   "outputs": [
    {
     "name": "stdout",
     "output_type": "stream",
     "text": [
      "OPERATIONS BETWEEN ARRAYS\n",
      "a * b :  [ 2  6 12 20]\n",
      "a ** b :  [   1    8   81 1024]\n",
      "a + b :  [3 5 7 9]\n",
      "a - b :  [-1 -1 -1 -1]\n",
      "1 / a :  [1.         0.5        0.33333333 0.25      ]\n",
      "1 / a :  [1 0 0 0]\n"
     ]
    }
   ],
   "source": [
    "print ('OPERATIONS BETWEEN ARRAYS')\n",
    "print ('a * b : ', a*b)\n",
    "print ('a ** b : ', a**b)\n",
    "print ('a + b : ', a+b)\n",
    "print ('a - b : ', a-b)\n",
    "print ('1 / a : ', 1/a) # gives floats!\n",
    "print ('1 / a : ', 1//a)"
   ]
  },
  {
   "cell_type": "markdown",
   "id": "41919b85",
   "metadata": {
    "slideshow": {
     "slide_type": "slide"
    }
   },
   "source": [
    "In these cases all the *magic* behind code vectorization is hidden in the Python library, which aims to generate the most efficient execution according to the data structure."
   ]
  },
  {
   "cell_type": "markdown",
   "id": "4b412a69",
   "metadata": {
    "slideshow": {
     "slide_type": "slide"
    }
   },
   "source": [
    "### A By-Hand code vectorization"
   ]
  },
  {
   "cell_type": "code",
   "execution_count": 48,
   "id": "de3188b9",
   "metadata": {
    "slideshow": {
     "slide_type": "slide"
    }
   },
   "outputs": [],
   "source": [
    "def standard_sum (a, b):\n",
    "    assert len(a) == len(b)\n",
    "    s = np.empty_like(a)\n",
    "    for i in range(len(a)):\n",
    "        s[i] = a[i] + b[i]\n",
    "    return s\n",
    "\n",
    "def vectorized_sum (a, b, step=1):\n",
    "    assert len(a) == len(b)\n",
    "    s = np.empty_like(a)\n",
    "    for start in range(0, len(a), step):\n",
    "        for j in range(start, start + step):\n",
    "            s[j] = a[j] + b[j]\n",
    "    return s\n",
    "\n",
    "a = np.arange(0, 800)\n",
    "b = np.arange(800, 1600)\n",
    "np.testing.assert_allclose(standard_sum(a, b), vectorized_sum(a, b, step=2))"
   ]
  },
  {
   "cell_type": "code",
   "execution_count": 49,
   "id": "68fae3d1",
   "metadata": {
    "slideshow": {
     "slide_type": "slide"
    }
   },
   "outputs": [
    {
     "name": "stdout",
     "output_type": "stream",
     "text": [
      "163 µs ± 2.58 µs per loop (mean ± std. dev. of 7 runs, 10,000 loops each)\n"
     ]
    }
   ],
   "source": [
    "%timeit standard_sum(a, b)"
   ]
  },
  {
   "cell_type": "code",
   "execution_count": 50,
   "id": "ffe1f972",
   "metadata": {
    "slideshow": {
     "slide_type": "fragment"
    }
   },
   "outputs": [
    {
     "name": "stdout",
     "output_type": "stream",
     "text": [
      "200 µs ± 1.31 µs per loop (mean ± std. dev. of 7 runs, 1,000 loops each)\n"
     ]
    }
   ],
   "source": [
    "%timeit vectorized_sum(a, b, step=4)"
   ]
  },
  {
   "cell_type": "code",
   "execution_count": 53,
   "id": "5c7fb2c4",
   "metadata": {
    "slideshow": {
     "slide_type": "fragment"
    }
   },
   "outputs": [
    {
     "name": "stdout",
     "output_type": "stream",
     "text": [
      "189 µs ± 722 ns per loop (mean ± std. dev. of 7 runs, 10,000 loops each)\n"
     ]
    }
   ],
   "source": [
    "%timeit vectorized_sum(a, b, step=5)"
   ]
  },
  {
   "cell_type": "code",
   "execution_count": 54,
   "id": "a1228c18",
   "metadata": {
    "slideshow": {
     "slide_type": "fragment"
    }
   },
   "outputs": [
    {
     "name": "stdout",
     "output_type": "stream",
     "text": [
      "166 µs ± 1.88 µs per loop (mean ± std. dev. of 7 runs, 10,000 loops each)\n"
     ]
    }
   ],
   "source": [
    "%timeit vectorized_sum(a, b, step=32)"
   ]
  },
  {
   "attachments": {
    "cache.png": {
     "image/png": "[encoded data removed]"
    }
   },
   "cell_type": "markdown",
   "id": "fa61596e",
   "metadata": {
    "slideshow": {
     "slide_type": "slide"
    }
   },
   "source": [
    "![cache.png](attachment:cache.png)"
   ]
  },
  {
   "cell_type": "markdown",
   "id": "5fa8ea63",
   "metadata": {
    "slideshow": {
     "slide_type": "slide"
    }
   },
   "source": [
    "## Going back to the example of the averages\n",
    "\n",
    "let's see how much faster the numpy array can get\n",
    "\n",
    "Numpy provides an already optimized version of the mean (as with a lot of other functions)\n",
    "\n",
    "    np.mean(array)"
   ]
  },
  {
   "cell_type": "code",
   "execution_count": 55,
   "id": "e4cd652c",
   "metadata": {
    "slideshow": {
     "slide_type": "slide"
    }
   },
   "outputs": [
    {
     "name": "stdout",
     "output_type": "stream",
     "text": [
      "Mean 1 = 0.50013077980745335171519627692760\n",
      "Mean 2 = 0.50013077980743791961515398725169\n",
      "Calculated in 2.6 sec\n",
      "Mean from numpy = 0.50013077980744380379718450058135\n",
      "Calculated in 0.014 sec\n"
     ]
    }
   ],
   "source": [
    "from time import time as now\n",
    "\n",
    "tic = now() # start the clock\n",
    "N = int(1e7)\n",
    "x = np.random.rand(N)\n",
    "mean_for_1, mean_for_2 = 0.0, 0.0\n",
    "\n",
    "for x_i in x:\n",
    "    mean_for_1 += x_i/N\n",
    "    mean_for_2 += x_i\n",
    "mean_for_2 /= N\n",
    "toc = now()\n",
    "print (f'Mean 1 = {mean_for_1:.32f}')\n",
    "print (f'Mean 2 = {mean_for_2:.32f}')\n",
    "print (f'Calculated in {toc - tic:.2g} sec')\n",
    "\n",
    "tic = now()\n",
    "mean_vec = np.mean(x)\n",
    "toc = now()\n",
    "print (f'Mean from numpy = {mean_vec:.32f}')\n",
    "print (f'Calculated in {toc - tic:.2g} sec')"
   ]
  },
  {
   "cell_type": "markdown",
   "id": "9488d895",
   "metadata": {
    "slideshow": {
     "slide_type": "slide"
    }
   },
   "source": [
    "## When and Where code vectorization\n",
    "\n",
    "The code vectorization is a very powerful tool to speedup your code and in many cases is already implemented in the most common libraries.\n",
    "\n",
    "So the best advice is to check if some operations are already implemented **or** can be easily implemented combining ready-to-use operations."
   ]
  },
  {
   "cell_type": "markdown",
   "id": "fd21ea4a",
   "metadata": {
    "slideshow": {
     "slide_type": "slide"
    }
   },
   "source": [
    "This could **NOT** be true if we talk about modern C++ (the classical low-level language!) standard libraries!"
   ]
  },
  {
   "cell_type": "markdown",
   "id": "9e254e02",
   "metadata": {
    "slideshow": {
     "slide_type": "fragment"
    }
   },
   "source": [
    "```c++\n",
    "#include <vector>\n",
    "#include <chrono>\n",
    "#include <algorithm>\n",
    "#include <iostream>\n",
    "\n",
    "int main () {\n",
    "    const int32_t length = 10000;\n",
    "    std :: vector < float > a(length, 0.1f);\n",
    "    std :: vector < float > b(length, 0.2f);\n",
    "    std :: vector < float > s(length);\n",
    "\n",
    "    std :: chrono :: steady_clock :: time_point tic = std :: chrono :: steady_clock :: now();\n",
    "\n",
    "    std :: transform(a.begin(), a.end(), b.begin(), s.begin(), std :: plus < >{});\n",
    "\n",
    "    std :: chrono :: steady_clock :: time_point toc = std :: chrono :: steady_clock :: now();\n",
    "    std :: cout << std :: chrono :: duration_cast < std :: chrono :: microseconds >(toc - tic).count() << \"[µs]\" << std :: endl;\n",
    "    return 0;\n",
    "}\n",
    "```\n",
    "\n",
    "```bash\n",
    ">>> 840 [µs]\n",
    "```"
   ]
  },
  {
   "cell_type": "markdown",
   "id": "b84b7023",
   "metadata": {
    "slideshow": {
     "slide_type": "slide"
    }
   },
   "source": [
    "\n",
    "```c++\n",
    "#include <vector>\n",
    "#include <chrono>\n",
    "#include <iostream>\n",
    "\n",
    "int main () {\n",
    "    const int32_t length = 10000;\n",
    "    std :: vector < float > a(length, 0.1f);\n",
    "    std :: vector < float > b(length, 0.2f);\n",
    "    std :: vector < float > s(length);\n",
    "\n",
    "    std :: chrono :: steady_clock :: time_point tic = std :: chrono :: steady_clock :: now();\n",
    "\n",
    "    for (int32_t i = 0; i < length; ++i)\n",
    "        s[i] = a[i] + b[i];\n",
    "\n",
    "    std :: chrono :: steady_clock :: time_point toc = std :: chrono :: steady_clock :: now();\n",
    "    std :: cout << std :: chrono :: duration_cast < std :: chrono :: microseconds >(toc - tic).count() << \"[µs]\" << std :: endl;\n",
    "    return 0;\n",
    "}\n",
    "```\n",
    "\n",
    "```bash\n",
    ">>> 340 [µs]\n",
    "```"
   ]
  },
  {
   "cell_type": "markdown",
   "id": "b5247186",
   "metadata": {
    "slideshow": {
     "slide_type": "slide"
    }
   },
   "source": [
    "We have seen code vectorization using standard variable containers, but what happens with custom containers?"
   ]
  },
  {
   "cell_type": "markdown",
   "id": "9c661e89",
   "metadata": {
    "slideshow": {
     "slide_type": "fragment"
    }
   },
   "source": [
    "An example of custom container is an object class, defined to store multiple items together."
   ]
  },
  {
   "cell_type": "markdown",
   "id": "b3cd38fa",
   "metadata": {
    "slideshow": {
     "slide_type": "slide"
    }
   },
   "source": [
    "## Structured array\n",
    "\n",
    "Numpy provides functionalities for managing tabular records of data, with the [**structured array**](https://docs.scipy.org/doc/numpy/user/basics.rec.html) data (and the more specialized **record array**).\n",
    "\n",
    "It allows to store arbitrary tuples are items inside an array (including sub-structures or arrays)\n",
    "\n",
    "This could be useful in some cases, but in general it would be better to use the library **pandas**."
   ]
  },
  {
   "cell_type": "code",
   "execution_count": 66,
   "id": "302b552b",
   "metadata": {
    "slideshow": {
     "slide_type": "slide"
    }
   },
   "outputs": [
    {
     "name": "stdout",
     "output_type": "stream",
     "text": [
      "[('Rex', 9, 81.) ('Fido', 3, 27.)]\n",
      "['Rex' 'Fido']\n",
      "Rex Rex\n"
     ]
    }
   ],
   "source": [
    "data = [\n",
    "    ('Rex', 9, 81.0),\n",
    "    ('Fido', 3, 27.0),\n",
    "]\n",
    "mydtype = [\n",
    "    ('name', 'U10'), # a string\n",
    "    ('age', 'i4'), # an integer\n",
    "    ('weight', 'f4'), # a float\n",
    "]\n",
    "x = np.array(data, dtype=mydtype)\n",
    "print(x)\n",
    "print(x['name'])\n",
    "print(x['name'][0], x[0]['name'])"
   ]
  },
  {
   "cell_type": "markdown",
   "id": "7119b223",
   "metadata": {
    "slideshow": {
     "slide_type": "slide"
    }
   },
   "source": [
    "### The two schools of thought\n",
    "\n",
    "When we write a code we need to balance the *readability* of our script with the *performances* that we want/need to achieve.\n",
    "\n",
    "In the majority of the cases the readability wins this challenge, but it does not mean that we are forced to write unefficient codes!"
   ]
  },
  {
   "cell_type": "markdown",
   "id": "84ea7d7c",
   "metadata": {
    "slideshow": {
     "slide_type": "slide"
    }
   },
   "source": [
    "The object programming relies on the possibility to define very simple and understandable types, building more complex structures simply combining together naive structures.\n",
    "\n",
    "Example: \n",
    "\n",
    "point object $\\rightarrow$ geometrical shape $\\rightarrow$ 3D structure $\\rightarrow$ high level geometry"
   ]
  },
  {
   "cell_type": "markdown",
   "id": "85b56e31",
   "metadata": {
    "slideshow": {
     "slide_type": "slide"
    }
   },
   "source": [
    "This approach could be summarized with the term\n",
    "\n",
    "#### Structure of Arrays (SOA)"
   ]
  },
  {
   "cell_type": "markdown",
   "id": "94c09180",
   "metadata": {
    "slideshow": {
     "slide_type": "fragment"
    }
   },
   "source": [
    "against the less intuitive and generalizable\n",
    "\n",
    "#### Array of Structures (AOS)"
   ]
  },
  {
   "cell_type": "markdown",
   "id": "52c28b71",
   "metadata": {
    "slideshow": {
     "slide_type": "slide"
    }
   },
   "source": [
    "## Structure of Arrays"
   ]
  },
  {
   "cell_type": "code",
   "execution_count": 68,
   "id": "0dc7f99e",
   "metadata": {
    "slideshow": {
     "slide_type": "fragment"
    }
   },
   "outputs": [],
   "source": [
    "class Point:\n",
    "    def __init__ (self, x : float, y : float):\n",
    "        self.x = x\n",
    "        self.y = y\n",
    "        \n",
    "class Segment:\n",
    "    def __init__ (self, src : Point, dst : Point):\n",
    "        self.src = src\n",
    "        self.dst = dst\n",
    "        \n",
    "class Line:\n",
    "    def __init__ (self, pts : list):\n",
    "        assert all(isinstance(pt, Point) for pt in pts)\n",
    "        self.points = pts        "
   ]
  },
  {
   "cell_type": "markdown",
   "id": "d02273d6",
   "metadata": {
    "slideshow": {
     "slide_type": "slide"
    }
   },
   "source": [
    "The most famous libraries are built with this criteria\n",
    "\n",
    "For example [OpenCV](https://opencv.org/), one of the most useful library for image processing"
   ]
  },
  {
   "cell_type": "code",
   "execution_count": 80,
   "id": "3233e38f",
   "metadata": {
    "slideshow": {
     "slide_type": "slide"
    }
   },
   "outputs": [
    {
     "name": "stdout",
     "output_type": "stream",
     "text": [
      "Elapsed Time: 1.37 sec\n"
     ]
    }
   ],
   "source": [
    "class AoS_Point:\n",
    "    def __init__ (self, x : float, y : float, z : float):\n",
    "        self.x, self.y, self.z = x, y, z\n",
    "        \n",
    "N = 1000000\n",
    "random_points = [AoS_Point(*np.random.randn(3)) for i in range(N)]\n",
    "\n",
    "tic = now()\n",
    "distances = np.empty(shape=N)\n",
    "for i in range(0, N):\n",
    "    x = random_points[i].x\n",
    "    y = random_points[i].y\n",
    "    z = random_points[i].z\n",
    "    d = np.sqrt(x**2 + y**2 + z**2)\n",
    "    distances[i] = d\n",
    "\n",
    "toc = now()\n",
    "print(f'Elapsed Time: {toc - tic:.4g} sec')"
   ]
  },
  {
   "cell_type": "markdown",
   "id": "bd24b56b",
   "metadata": {
    "slideshow": {
     "slide_type": "slide"
    }
   },
   "source": [
    "The opposite approach is given by re-thinking the structure of the objects according to the computation that we need to perform.\n",
    "\n",
    "In this way we can **optimize** the accesses to the memory, forcing the object to have a contiguous memory locations!"
   ]
  },
  {
   "cell_type": "code",
   "execution_count": 81,
   "id": "4eea96f0",
   "metadata": {
    "slideshow": {
     "slide_type": "slide"
    }
   },
   "outputs": [
    {
     "name": "stdout",
     "output_type": "stream",
     "text": [
      "Elapsed Time: 1.553 sec\n"
     ]
    }
   ],
   "source": [
    "class SoA_Point:\n",
    "    def __init__ (self, x : list, y : list, z : list):\n",
    "        self.x, self.y, self.z = x, y, z\n",
    "        \n",
    "N = 1000000\n",
    "random_points = SoA_Point(x=np.random.randn(N), \n",
    "                          y=np.random.randn(N), \n",
    "                          z=np.random.randn(N))\n",
    "\n",
    "tic = now()\n",
    "distances = np.empty(shape=N)\n",
    "for i in range(0, N):\n",
    "    x = random_points.x[i]\n",
    "    y = random_points.y[i]\n",
    "    z = random_points.z[i]\n",
    "    d = np.sqrt(x**2 + y**2 + z**2)\n",
    "    distances[i] = d\n",
    "\n",
    "toc = now()\n",
    "print(f'Elapsed Time: {toc - tic:.4g} sec')"
   ]
  },
  {
   "cell_type": "markdown",
   "id": "50afe92b",
   "metadata": {
    "slideshow": {
     "slide_type": "slide"
    }
   },
   "source": [
    "## Why is it slower?!?!"
   ]
  },
  {
   "cell_type": "markdown",
   "id": "686ede48",
   "metadata": {
    "slideshow": {
     "slide_type": "slide"
    }
   },
   "source": [
    "There are several aspects to take in mind when we want to optimize a code:\n",
    "\n",
    "1. The variable types could be homogeneous or not\n",
    "2. There could be sequential accesses to the memory or not\n",
    "3. There are optimizations hidden in our interpreter\n",
    "4. etc..\n",
    "\n",
    "**“Premature optimization is the root of all evil”** (cit. Donald Knuth)"
   ]
  },
  {
   "cell_type": "markdown",
   "id": "e36bb352",
   "metadata": {
    "slideshow": {
     "slide_type": "slide"
    }
   },
   "source": [
    "```c++\n",
    "#include <vector>\n",
    "#include <chrono>\n",
    "#include <algorithm>\n",
    "#include <iostream>\n",
    "#define N 1000\n",
    "\n",
    "struct AoS_Point {\n",
    "    float x = 3.14f;\n",
    "    int y = 3;\n",
    "    double z = 3.14;\n",
    "};\n",
    "\n",
    "int main () {\n",
    "    std :: vector < AoS_Point > pts(N);\n",
    "    std :: vector < float > res(N);\n",
    "    std :: chrono :: high_resolution_clock :: time_point tic = std :: chrono :: high_resolution_clock :: now();\n",
    "    for (int i = 0; i < N; ++i) {\n",
    "        for (int j = 0; j < N; ++j) {\n",
    "            float x = pts[j].x;\n",
    "            float y = pts[j].y;\n",
    "            float z = pts[j].z;\n",
    "            float d = std :: sqrt(x * x + y * y + z * z);\n",
    "            res[j] = d;\n",
    "        }    \n",
    "    }\n",
    "    std :: chrono :: high_resolution_clock :: time_point toc = std :: chrono :: high_resolution_clock :: now();\n",
    "    std :: cout << std :: chrono :: duration_cast < std :: chrono :: microseconds >(toc - tic).count() << \" micro sec\" << std :: endl;\n",
    "    return 0;\n",
    "}\n",
    "```\n",
    "\n",
    "```python\n",
    ">>> 43760 micro sec\n",
    "```"
   ]
  },
  {
   "cell_type": "markdown",
   "id": "71463b82",
   "metadata": {
    "slideshow": {
     "slide_type": "slide"
    }
   },
   "source": [
    "```c++\n",
    "#include <vector>\n",
    "#include <chrono>\n",
    "#include <algorithm>\n",
    "#include <iostream>\n",
    "#define N 1000\n",
    "\n",
    "struct SoA_Point {\n",
    "    std :: vector < float > x {N, 3.14f};\n",
    "    std :: vector < int > y {N, 3};\n",
    "    std :: vector < double > z {N, 3.14};\n",
    "};\n",
    "\n",
    "int main () {\n",
    "    SoA_Point soa;\n",
    "    std :: vector < float > res(N);\n",
    "    std :: chrono :: high_resolution_clock :: time_point tic = std :: chrono :: high_resolution_clock :: now();\n",
    "    for (int i = 0; i < N; ++i) {\n",
    "        for (int j = 0; j < N; ++j) {\n",
    "            float x = soa.x[j];\n",
    "            float y = soa.y[j];\n",
    "            float z = soa.z[j];\n",
    "            float d = std :: sqrt(x * x + y * y + z * z);\n",
    "            res[j] = d;\n",
    "        }    \n",
    "    }\n",
    "    std :: chrono :: high_resolution_clock :: time_point toc = std :: chrono :: high_resolution_clock :: now();\n",
    "    std :: cout << std :: chrono :: duration_cast < std :: chrono :: microseconds >(toc - tic).count() << \" micro sec\" << std :: endl;\n",
    "    return 0;\n",
    "}\n",
    "```\n",
    "\n",
    "```python\n",
    ">>> 34420 micro sec\n",
    "```"
   ]
  },
  {
   "cell_type": "markdown",
   "id": "7ba2a017",
   "metadata": {
    "slideshow": {
     "slide_type": "slide"
    }
   },
   "source": [
    "## Let's try to optimize a code together"
   ]
  },
  {
   "cell_type": "markdown",
   "id": "96686f9d",
   "metadata": {
    "slideshow": {
     "slide_type": "fragment"
    }
   },
   "source": [
    "Since we want to understand the finer details of optimization, we will check out a snippet of the low-level programming language, aka C++.\n",
    "\n",
    "Let's see the \"initial.cpp\" code in the project folder."
   ]
  },
  {
   "cell_type": "markdown",
   "id": "e78a9a3c",
   "metadata": {
    "slideshow": {
     "slide_type": "slide"
    }
   },
   "source": [
    "#### Default command line\n",
    "\n",
    "```bash\n",
    "$ make initial\n",
    "/usr/bin/g++-10 -std=c++11 initial.cpp -o initial\n",
    "./initial\n",
    "\n",
    "# Number of particles        : 1024\n",
    "# Number of simulations      : 100\n",
    "# Total Time (s)             : 4.64\n",
    "# Average Time per iteration : 0.0464\n",
    "```"
   ]
  },
  {
   "cell_type": "markdown",
   "id": "eba9835b",
   "metadata": {
    "slideshow": {
     "slide_type": "slide"
    }
   },
   "source": [
    "#### Optimized command line\n",
    "\n",
    "```bash\n",
    "$ make optimized\n",
    "/usr/bin/g++-10 -std=c++11 -O3 initial.cpp -o initial_optimized\n",
    "./initial_optimized\n",
    "\n",
    "# Number of particles        : 1024\n",
    "# Number of simulations      : 100\n",
    "# Total Time (s)             : 0.804\n",
    "# Average Time per iteration : 0.00804\n",
    "```\n",
    "\n",
    "Speed Up: $\\sim$6x"
   ]
  },
  {
   "cell_type": "markdown",
   "id": "36040c6e",
   "metadata": {
    "slideshow": {
     "slide_type": "slide"
    }
   },
   "source": [
    "#### Optimized command line\n",
    "\n",
    "```bash\n",
    "$ make vectorized\n",
    "/usr/bin/g++-10 -std=c++11 -Ofast -mavx vect.cpp -o vectorized\n",
    "./vectorized\n",
    "\n",
    "# Number of particles        : 1024\n",
    "# Number of simulations      : 100\n",
    "# Total Time (s)             : 0.304\n",
    "# Average Time per iteration : 0.00304\n",
    "```\n",
    "\n",
    "Speed Up: $\\sim$3x"
   ]
  },
  {
   "cell_type": "markdown",
   "id": "fb5a8fb6",
   "metadata": {
    "slideshow": {
     "slide_type": "slide"
    }
   },
   "source": [
    "#### SoA refactory\n",
    "\n",
    "```bash\n",
    "$ make soa\n",
    "/usr/bin/g++-10 -std=c++11 -Ofast -mavx soa.cpp -o soa\n",
    "./soa\n",
    "\n",
    "# Number of particles        : 1024\n",
    "# Number of simulations      : 100\n",
    "# Total Time (s)             : 0.402\n",
    "# Average Time per iteration : 0.00402\n",
    "```\n",
    "\n",
    "Speed Up: $\\sim$2x"
   ]
  },
  {
   "cell_type": "markdown",
   "id": "1544e06f",
   "metadata": {
    "slideshow": {
     "slide_type": "slide"
    }
   },
   "source": [
    "A little spoiler:\n",
    "\n",
    "> Have you ever check the command line of your Python interpreter?!"
   ]
  },
  {
   "cell_type": "code",
   "execution_count": 99,
   "id": "cbf253a0",
   "metadata": {
    "slideshow": {
     "slide_type": "slide"
    }
   },
   "outputs": [
    {
     "name": "stdout",
     "output_type": "stream",
     "text": [
      "usage: python [option] ... [-c cmd | -m mod | file | -] [arg] ...\n",
      "Options and arguments (and corresponding environment variables):\n",
      "-b     : issue warnings about str(bytes_instance), str(bytearray_instance)\n",
      "         and comparing bytes/bytearray with str. (-bb: issue errors)\n",
      "-B     : don't write .pyc files on import; also PYTHONDONTWRITEBYTECODE=x\n",
      "-c cmd : program passed in as string (terminates option list)\n",
      "-d     : turn on parser debugging output (for experts only, only works on\n",
      "         debug builds); also PYTHONDEBUG=x\n",
      "-E     : ignore PYTHON* environment variables (such as PYTHONPATH)\n",
      "-h     : print this help message and exit (also --help)\n",
      "-i     : inspect interactively after running script; forces a prompt even\n",
      "         if stdin does not appear to be a terminal; also PYTHONINSPECT=x\n",
      "-I     : isolate Python from the user's environment (implies -E and -s)\n",
      "-m mod : run library module as a script (terminates option list)\n",
      "-O     : remove assert and __debug__-dependent statements; add .opt-1 before\n",
      "         .pyc extension; also PYTHONOPTIMIZE=x\n",
      "-OO    : do -O changes and also discard docstrings; add .opt-2 before\n",
      "         .pyc extension\n",
      "-q     : don't print version and copyright messages on interactive startup\n",
      "-s     : don't add user site directory to sys.path; also PYTHONNOUSERSITE\n",
      "-S     : don't imply 'import site' on initialization\n",
      "-u     : force the stdout and stderr streams to be unbuffered;\n",
      "         this option has no effect on stdin; also PYTHONUNBUFFERED=x\n",
      "-v     : verbose (trace import statements); also PYTHONVERBOSE=x\n",
      "         can be supplied multiple times to increase verbosity\n",
      "-V     : print the Python version number and exit (also --version)\n",
      "         when given twice, print more information about the build\n",
      "-W arg : warning control; arg is action:message:category:module:lineno\n",
      "         also PYTHONWARNINGS=arg\n",
      "-x     : skip first line of source, allowing use of non-Unix forms of #!cmd\n",
      "-X opt : set implementation-specific option. The following options are available:\n",
      "\n",
      "         -X faulthandler: enable faulthandler\n",
      "         -X showrefcount: output the total reference count and number of used\n",
      "             memory blocks when the program finishes or after each statement in the\n",
      "             interactive interpreter. This only works on debug builds\n",
      "         -X tracemalloc: start tracing Python memory allocations using the\n",
      "             tracemalloc module. By default, only the most recent frame is stored in a\n",
      "             traceback of a trace. Use -X tracemalloc=NFRAME to start tracing with a\n",
      "             traceback limit of NFRAME frames\n",
      "         -X importtime: show how long each import takes. It shows module name,\n",
      "             cumulative time (including nested imports) and self time (excluding\n",
      "             nested imports). Note that its output may be broken in multi-threaded\n",
      "             application. Typical usage is python3 -X importtime -c 'import asyncio'\n",
      "         -X dev: enable CPython's \"development mode\", introducing additional runtime\n",
      "             checks which are too expensive to be enabled by default. Effect of the\n",
      "             developer mode:\n",
      "                * Add default warning filter, as -W default\n",
      "                * Install debug hooks on memory allocators: see the PyMem_SetupDebugHooks() C function\n",
      "                * Enable the faulthandler module to dump the Python traceback on a crash\n",
      "                * Enable asyncio debug mode\n",
      "                * Set the dev_mode attribute of sys.flags to True\n",
      "                * io.IOBase destructor logs close() exceptions\n",
      "         -X utf8: enable UTF-8 mode for operating system interfaces, overriding the default\n",
      "             locale-aware mode. -X utf8=0 explicitly disables UTF-8 mode (even when it would\n",
      "             otherwise activate automatically)\n",
      "         -X pycache_prefix=PATH: enable writing .pyc files to a parallel tree rooted at the\n",
      "             given directory instead of to the code tree\n",
      "         -X warn_default_encoding: enable opt-in EncodingWarning for 'encoding=None'\n",
      "\n",
      "--check-hash-based-pycs always|default|never:\n",
      "    control how Python invalidates hash-based .pyc files\n",
      "file   : program read from script file\n",
      "-      : program read from stdin (default; interactive mode if a tty)\n",
      "arg ...: arguments passed to program in sys.argv[1:]\n",
      "\n",
      "Other environment variables:\n",
      "PYTHONSTARTUP: file executed on interactive startup (no default)\n",
      "PYTHONPATH   : ';'-separated list of directories prefixed to the\n",
      "               default module search path.  The result is sys.path.\n",
      "PYTHONHOME   : alternate <prefix> directory (or <prefix>;<exec_prefix>).\n",
      "               The default module search path uses <prefix>\\python{major}{minor}.\n",
      "PYTHONPLATLIBDIR : override sys.platlibdir.\n",
      "PYTHONCASEOK : ignore case in 'import' statements (Windows).\n",
      "PYTHONUTF8: if set to 1, enable the UTF-8 mode.\n",
      "PYTHONIOENCODING: Encoding[:errors] used for stdin/stdout/stderr.\n",
      "PYTHONFAULTHANDLER: dump the Python traceback on fatal errors.\n",
      "PYTHONHASHSEED: if this variable is set to 'random', a random value is used\n",
      "   to seed the hashes of str and bytes objects.  It can also be set to an\n",
      "   integer in the range [0,4294967295] to get hash values with a\n",
      "   predictable seed.\n",
      "PYTHONMALLOC: set the Python memory allocators and/or install debug hooks\n",
      "   on Python memory allocators. Use PYTHONMALLOC=debug to install debug\n",
      "   hooks.\n",
      "PYTHONCOERCECLOCALE: if this variable is set to 0, it disables the locale\n",
      "   coercion behavior. Use PYTHONCOERCECLOCALE=warn to request display of\n",
      "   locale coercion and locale compatibility warnings on stderr.\n",
      "PYTHONBREAKPOINT: if this variable is set to 0, it disables the default\n",
      "   debugger. It can be set to the callable of your debugger of choice.\n",
      "PYTHONDEVMODE: enable the development mode.\n",
      "PYTHONPYCACHEPREFIX: root directory for bytecode cache (pyc) files.\n",
      "PYTHONWARNDEFAULTENCODING: enable opt-in EncodingWarning for 'encoding=None'.\n"
     ]
    }
   ],
   "source": [
    "!python --help"
   ]
  },
  {
   "cell_type": "markdown",
   "id": "c6a2264f",
   "metadata": {
    "slideshow": {
     "slide_type": "slide"
    }
   },
   "source": [
    "# Hands On Exercise"
   ]
  },
  {
   "cell_type": "markdown",
   "id": "74ee42fa",
   "metadata": {
    "slideshow": {
     "slide_type": "slide"
    }
   },
   "source": [
    "### Metropolis - Hastings algorithm\n",
    "\n",
    "> In statistics and statistical physics, the Metropolis–Hastings algorithm is a Markov chain Monte Carlo (MCMC) method for obtaining a sequence of random samples from a probability distribution from which direct sampling is difficult.\n",
    "> A classical example of its application is the numerical evaluation of $\\pi$ value."
   ]
  },
  {
   "cell_type": "markdown",
   "id": "c6a338c2",
   "metadata": {
    "slideshow": {
     "slide_type": "slide"
    }
   },
   "source": [
    "#### Data\n",
    "\n",
    "We have a squared domain in which play our pebble game"
   ]
  },
  {
   "cell_type": "code",
   "execution_count": 98,
   "id": "6da453b0",
   "metadata": {
    "slideshow": {
     "slide_type": "fragment"
    }
   },
   "outputs": [
    {
     "data": {
      "image/png": "[encoded data removed]",
      "text/plain": [
       "<Figure size 360x360 with 1 Axes>"
      ]
     },
     "metadata": {
      "needs_background": "light"
     },
     "output_type": "display_data"
    }
   ],
   "source": [
    "import pylab as plt\n",
    "a = np.linspace(-1, 1)\n",
    "fig, ax = plt.subplots(nrows=1, ncols=1, figsize=(5, 5))\n",
    "_ = ax.plot(a, np.zeros_like(a) -1, 'k')\n",
    "_ = ax.plot(np.zeros_like(a) -1, a, 'k')\n",
    "_ = ax.plot(a, np.ones_like(a), 'k')\n",
    "_ = ax.plot(np.ones_like(a), a, 'k')\n",
    "_ = ax.scatter([0], [0], marker='o', facecolor='none', edgecolor='k', s=100)"
   ]
  },
  {
   "cell_type": "markdown",
   "id": "ef8bb6b1",
   "metadata": {
    "slideshow": {
     "slide_type": "slide"
    }
   },
   "source": [
    "Inside this domain we will \"throw\" numbers sampled from a uniform distribution in this domain.\n",
    "\n",
    "For each extraction we will evaluate its distance from the center, according to these two criteria:\n",
    "\n",
    "1. distance less (or equal) than 1 leads to a **valid** extraction and it will be accepted\n",
    "2. distance greater than 1 leads to an **invalid** extraction and it will be rejected"
   ]
  },
  {
   "cell_type": "code",
   "execution_count": 57,
   "id": "3a079d81",
   "metadata": {
    "slideshow": {
     "slide_type": "slide"
    }
   },
   "outputs": [
    {
     "data": {
      "image/png": "[encoded data removed]",
      "text/plain": [
       "<Figure size 360x360 with 1 Axes>"
      ]
     },
     "execution_count": 57,
     "metadata": {},
     "output_type": "execute_result"
    }
   ],
   "source": [
    "_ = ax.scatter([0.2], [0.2], marker='x', color='r', s=100)\n",
    "_ = ax.scatter([0.75], [-0.75], marker='x', color='b', s=100)\n",
    "fig"
   ]
  },
  {
   "cell_type": "markdown",
   "id": "8a233b03",
   "metadata": {
    "slideshow": {
     "slide_type": "slide"
    }
   },
   "source": [
    "According to the Monte Carlo simulation scheme, if we will consider a lot of extraction we will be able to evaluate the integral of the circle with a sufficient precision and from the comparison with the total amount of extraction we will compute:\n",
    "\n",
    "$$\n",
    "A_{\\mbox{square}} : N_{\\mbox{trials}} = A_{\\mbox{circle}} : N_{\\mbox{hits}}\n",
    "$$\n",
    "\n",
    "where\n",
    "\n",
    "$$\n",
    "A_{\\mbox{circle}} = r \\times r \\times \\pi = \\pi \\quad \\mbox{AND} \\quad A_{\\mbox{square}} = 4\n",
    "$$\n",
    "\n",
    "So, in conclusion\n",
    "\n",
    "$$\n",
    "\\pi = 4 \\times \\frac{N_{\\mbox{hits}}}{N_{\\mbox{trials}}}\n",
    "$$"
   ]
  },
  {
   "cell_type": "markdown",
   "id": "5dcc08f1",
   "metadata": {
    "slideshow": {
     "slide_type": "slide"
    }
   },
   "source": [
    "## Are you ready to play???"
   ]
  },
  {
   "cell_type": "markdown",
   "id": "b0104882",
   "metadata": {
    "slideshow": {
     "slide_type": "slide"
    }
   },
   "source": [
    "**Worst Possible Python Code**"
   ]
  },
  {
   "cell_type": "code",
   "execution_count": 63,
   "id": "60757729",
   "metadata": {
    "slideshow": {
     "slide_type": "fragment"
    }
   },
   "outputs": [
    {
     "name": "stdout",
     "output_type": "stream",
     "text": [
      "Value of PI: 3.1356\n",
      "Elapsed time: 0.010000 sec\n"
     ]
    }
   ],
   "source": [
    "import numpy as np\n",
    "from time import time as now\n",
    "\n",
    "N = 10000\n",
    "Nhits = 0.0\n",
    "tic = now()\n",
    "for i in range(N):\n",
    "    x = np.random.rand() * 2 - 1\n",
    "    y = np.random.rand() * 2 - 1\n",
    "    distance = x*x + y*y\n",
    "    if distance < 1:\n",
    "        Nhits += 1.0\n",
    "toc = now()\n",
    "print(f'Value of PI: {4 * Nhits /N:4g}')\n",
    "print(f'Elapsed time: {toc - tic:3f} sec')"
   ]
  },
  {
   "cell_type": "markdown",
   "id": "4ee48f7b",
   "metadata": {
    "slideshow": {
     "slide_type": "slide"
    }
   },
   "source": [
    "The idea is valid...\n",
    "\n",
    "... but a larger statistic could help the stability of the result!\n",
    "\n",
    "We can re-iterate the same evaluation several times to get the average value as more stable result"
   ]
  },
  {
   "cell_type": "code",
   "execution_count": 65,
   "id": "f884ebc2",
   "metadata": {
    "slideshow": {
     "slide_type": "slide"
    }
   },
   "outputs": [
    {
     "name": "stdout",
     "output_type": "stream",
     "text": [
      "pi with 10000 steps for 1000 runs is 3.1409507999999997 in 8.405994415283203 sec\n"
     ]
    }
   ],
   "source": [
    "N = 10000 # number of MC events\n",
    "N_run = 1000 # number of runs\n",
    "pi = np.zeros(N_run) # values of pi\n",
    "tic = now()\n",
    "for I in range(N_run):\n",
    "    Nhits = 0.0\n",
    "    for i in range(N):\n",
    "        x = np.random.rand() * 2 - 1\n",
    "        y = np.random.rand() * 2 - 1\n",
    "        distance = x*x + y*y\n",
    "        if distance < 1:\n",
    "            Nhits += 1.0\n",
    "    pi[I] = 4. * Nhits / N\n",
    "        \n",
    "toc = now()\n",
    "print('pi with', N, 'steps for', N_run, \n",
    "      'runs is', np.mean(pi), 'in', toc-tic, 'sec'\n",
    "     )"
   ]
  },
  {
   "cell_type": "markdown",
   "id": "1aee8210",
   "metadata": {
    "slideshow": {
     "slide_type": "slide"
    }
   },
   "source": [
    "### How can it be optimized?\n",
    "\n",
    "Now it is your turn..."
   ]
  },
  {
   "cell_type": "markdown",
   "id": "28a8acf1",
   "metadata": {
    "slideshow": {
     "slide_type": "slide"
    }
   },
   "source": [
    "One possible solution:"
   ]
  },
  {
   "cell_type": "code",
   "execution_count": 62,
   "id": "e6aa1e04",
   "metadata": {
    "slideshow": {
     "slide_type": "fragment"
    }
   },
   "outputs": [
    {
     "name": "stdout",
     "output_type": "stream",
     "text": [
      "pi with 10000 steps for 1000 runs is 3.141826 in 0.33299994468688965 sec\n"
     ]
    }
   ],
   "source": [
    "N = 10000 # number of MC events\n",
    "N_run = 1000 # number of runs\n",
    "tic = now() # start clock\n",
    "pi = 4. * np.sum(\n",
    "    np.where(\n",
    "        (np.random.rand(N_run, N)*2 - 1)**2 + \\\n",
    "        (np.random.rand(N_run, N)*2 - 1)**2 < 1, \n",
    "        1, \n",
    "        0\n",
    "    )\n",
    ") / (N * N_run)\n",
    "toc = now()\n",
    "print('pi with', N, 'steps for', N_run, \n",
    "      'runs is', np.mean(pi), 'in', toc-tic, 'sec'\n",
    "     )"
   ]
  },
  {
   "cell_type": "markdown",
   "id": "99ab61ab",
   "metadata": {
    "slideshow": {
     "slide_type": "slide"
    }
   },
   "source": [
    "Another improvement:"
   ]
  },
  {
   "cell_type": "code",
   "execution_count": 61,
   "id": "69454a80",
   "metadata": {
    "slideshow": {
     "slide_type": "slide"
    }
   },
   "outputs": [
    {
     "name": "stdout",
     "output_type": "stream",
     "text": [
      "pi with 10000 steps for 1000 runs is 3.1417232000000004 in 0.24599099159240723 sec\n"
     ]
    }
   ],
   "source": [
    "N = 10000 # number of MC events\n",
    "N_run = 1000 # number of runs\n",
    "tic = now() # start clock\n",
    "pi = np.mean(\n",
    "    (\n",
    "        np.sum(\n",
    "            np.random.uniform(\n",
    "                low=-1, \n",
    "                high=1, \n",
    "                size=(2, N_run, N)\n",
    "            )**2, \n",
    "            axis=0\n",
    "        ) < 1\n",
    "    ), \n",
    "    axis=1\n",
    ") * 4\n",
    "toc = now()\n",
    "print('pi with', N, 'steps for', N_run, \n",
    "      'runs is', np.mean(pi), 'in', toc-tic, 'sec'\n",
    "     )"
   ]
  },
  {
   "cell_type": "markdown",
   "id": "11adfc70",
   "metadata": {
    "slideshow": {
     "slide_type": "slide"
    }
   },
   "source": [
    "## Can it be improved further?"
   ]
  },
  {
   "cell_type": "markdown",
   "id": "aaf270a8",
   "metadata": {
    "slideshow": {
     "slide_type": "fragment"
    }
   },
   "source": [
    "**YES** ... but the next time"
   ]
  }
 ],
 "metadata": {
  "celltoolbar": "Slideshow",
  "kernelspec": {
   "display_name": "Python 3 (ipykernel)",
   "language": "python",
   "name": "python3"
  },
  "language_info": {
   "codemirror_mode": {
    "name": "ipython",
    "version": 3
   },
   "file_extension": ".py",
   "mimetype": "text/x-python",
   "name": "python",
   "nbconvert_exporter": "python",
   "pygments_lexer": "ipython3",
   "version": "3.10.4"
  }
 },
 "nbformat": 4,
 "nbformat_minor": 5
}
