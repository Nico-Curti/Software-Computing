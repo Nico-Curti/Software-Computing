{
 "cells": [
  {
   "cell_type": "markdown",
   "id": "91b80ed3",
   "metadata": {
    "slideshow": {
     "slide_type": "slide"
    }
   },
   "source": [
    "# Multi Language Integration\n",
    "\n",
    "**Author:** Nico Curti\n",
    "\n",
    "**Course:** Software and Computing for Applied Physics - 87948\n",
    "\n",
    "**Github:** [Nico-Curti](https://github.com/Nico-Curti)"
   ]
  },
  {
   "cell_type": "markdown",
   "id": "edc07a4d",
   "metadata": {
    "slideshow": {
     "slide_type": "slide"
    }
   },
   "source": [
    "All the programming languages can be broadly split into two main classes:\n",
    "\n",
    "* Low level programming languages\n",
    "* High level programming languages"
   ]
  },
  {
   "cell_type": "markdown",
   "id": "c84ad843",
   "metadata": {
    "slideshow": {
     "slide_type": "slide"
    }
   },
   "source": [
    "The \"height\" of the language is evaluated in relation to the \"distance\" between programmer and CPU.\n",
    "\n",
    "As conseguence, low level languages are typically harder to write **but** they provide higher degree of freedoms and higher performances if used correctly.\n",
    "\n",
    "In contrary, high level languages are typically simpler to write **but** they provide lower degree of freedoms and lower performances, even if used correctly."
   ]
  },
  {
   "cell_type": "markdown",
   "id": "cbc21b00",
   "metadata": {
    "slideshow": {
     "slide_type": "slide"
    }
   },
   "source": [
    "Or, in other words...\n",
    "\n",
    "    \"With great power comes great responsibility\"\n",
    "    (cit. Uncle Ben)"
   ]
  },
  {
   "cell_type": "markdown",
   "id": "c1cddc57",
   "metadata": {
    "slideshow": {
     "slide_type": "slide"
    }
   },
   "source": [
    "As example\n",
    "\n",
    "* Low level programming languages $\\rightarrow$ Python\n",
    "\n",
    "* High level programming languages $\\rightarrow$ C++"
   ]
  },
  {
   "cell_type": "markdown",
   "id": "f8c53dec",
   "metadata": {
    "slideshow": {
     "slide_type": "slide"
    }
   },
   "source": [
    "### An Example"
   ]
  },
  {
   "cell_type": "code",
   "execution_count": 9,
   "id": "78047706",
   "metadata": {
    "slideshow": {
     "slide_type": "slide"
    }
   },
   "outputs": [
    {
     "name": "stdout",
     "output_type": "stream",
     "text": [
      "6.63 s ± 18.8 ms per loop (mean ± std. dev. of 7 runs, 1 loop each)\n"
     ]
    }
   ],
   "source": [
    "import numpy as np\n",
    "from scipy.spatial.distance import euclidean\n",
    "\n",
    "def point_distance (N):\n",
    "    pt = np.random.uniform(0, 1, size=(N, 2))    \n",
    "    for i in range(N):\n",
    "        for j in range(N):\n",
    "            x1, y1 = pt[i]\n",
    "            x2, y2 = pt[j]\n",
    "            d = euclidean([x1, y1], [x2, y2])\n",
    "\n",
    "%timeit point_distance(N=1000)"
   ]
  },
  {
   "cell_type": "markdown",
   "id": "85331a4a",
   "metadata": {
    "slideshow": {
     "slide_type": "slide"
    }
   },
   "source": [
    "```cpp\n",
    "#define N 1000\n",
    "int main () {\n",
    "    std :: unique_ptr < std :: tuple < float, float> [] > pt(new std :: tuple < float, float >[N]);    \n",
    "    std :: mt19937 gen(42);\n",
    "    std :: uniform_real_distribution < float > unif_d(0.f, 1.f);\n",
    "    std :: generate_n(pt.get(), N, [&]{ return std :: pair(unif_d(gen), unif_d(gen)); });\n",
    "    \n",
    "    for (int i = 0; i < N; ++i)\n",
    "        for (int j = 0; j < N; ++j) {\n",
    "            float x1 = std :: get <0>(pt[i]); \n",
    "            float y1 = std :: get <1>(pt[i]);\n",
    "            float x2 = std :: get <0>(pt[j]); \n",
    "            float y2 = std :: get <1>(pt[j]);\n",
    "            float d = std :: sqrtf((x1 - x2) * (x1 - x2) + (y1 - y2) * (y1 - y2));\n",
    "        }\n",
    "    return 0;\n",
    "}\n",
    "```\n",
    "\n",
    "```python\n",
    ">>> 0.04 ms\n",
    "```"
   ]
  },
  {
   "cell_type": "markdown",
   "id": "04b7d426",
   "metadata": {
    "slideshow": {
     "slide_type": "slide"
    }
   },
   "source": [
    "Ok but Python is so nice..."
   ]
  },
  {
   "cell_type": "markdown",
   "id": "b0a376c3",
   "metadata": {
    "slideshow": {
     "slide_type": "slide"
    }
   },
   "source": [
    "## Some notes about optimization\n",
    "\n",
    "    “Premature optimization is the root of all evil” (cit. Donald Knuth)\n",
    "\n",
    "1. Re-think your implementation, trying to optimize it\n",
    "2. Use built-in libraries\n",
    "3. Check if all the operations are usefull or not\n",
    "4. Optimize the memory accesses: less memory typically leads to poor performances, more memory is often the best approach so do not be greedy!"
   ]
  },
  {
   "cell_type": "markdown",
   "id": "cf94b86c",
   "metadata": {
    "slideshow": {
     "slide_type": "slide"
    }
   },
   "source": [
    "## Re-think your implementation\n",
    "\n",
    "We have already seen how the Numpy approach could be very useful to speedup your code and also improve the readability of your snippets."
   ]
  },
  {
   "cell_type": "markdown",
   "id": "6b3eaeb9",
   "metadata": {
    "slideshow": {
     "slide_type": "slide"
    }
   },
   "source": [
    "* [x] Generate the points using numpy functions"
   ]
  },
  {
   "cell_type": "markdown",
   "id": "a303c69f",
   "metadata": {
    "slideshow": {
     "slide_type": "fragment"
    }
   },
   "source": [
    "```python\n",
    "pt = np.random.uniform(low=0, high=1, size=(N, 2))\n",
    "```"
   ]
  },
  {
   "cell_type": "markdown",
   "id": "1f091333",
   "metadata": {
    "slideshow": {
     "slide_type": "slide"
    }
   },
   "source": [
    "* [ ] We need to evaluate distance and we have already used the scipy function for pairs of points.\n",
    "    Could be useful to check the documentation of this function..."
   ]
  },
  {
   "cell_type": "code",
   "execution_count": 2,
   "id": "9ec884b2",
   "metadata": {
    "slideshow": {
     "slide_type": "fragment"
    }
   },
   "outputs": [
    {
     "name": "stdout",
     "output_type": "stream",
     "text": [
      "Help on function euclidean in module scipy.spatial.distance:\n",
      "\n",
      "euclidean(u, v, w=None)\n",
      "    Computes the Euclidean distance between two 1-D arrays.\n",
      "    \n",
      "    The Euclidean distance between 1-D arrays `u` and `v`, is defined as\n",
      "    \n",
      "    .. math::\n",
      "    \n",
      "       {\\|u-v\\|}_2\n",
      "    \n",
      "       \\left(\\sum{(w_i |(u_i - v_i)|^2)}\\right)^{1/2}\n",
      "    \n",
      "    Parameters\n",
      "    ----------\n",
      "    u : (N,) array_like\n",
      "        Input array.\n",
      "    v : (N,) array_like\n",
      "        Input array.\n",
      "    w : (N,) array_like, optional\n",
      "        The weights for each value in `u` and `v`. Default is None,\n",
      "        which gives each value a weight of 1.0\n",
      "    \n",
      "    Returns\n",
      "    -------\n",
      "    euclidean : double\n",
      "        The Euclidean distance between vectors `u` and `v`.\n",
      "    \n",
      "    Examples\n",
      "    --------\n",
      "    >>> from scipy.spatial import distance\n",
      "    >>> distance.euclidean([1, 0, 0], [0, 1, 0])\n",
      "    1.4142135623730951\n",
      "    >>> distance.euclidean([1, 1, 0], [0, 1, 0])\n",
      "    1.0\n",
      "\n"
     ]
    }
   ],
   "source": [
    "help(euclidean)"
   ]
  },
  {
   "cell_type": "markdown",
   "id": "c9622090",
   "metadata": {
    "slideshow": {
     "slide_type": "slide"
    }
   },
   "source": [
    "Can we use it to compute the distances between the entire list of points?\n",
    "\n",
    "If the documentation is not clear enough, we can always check it ourself!\n",
    "\n",
    "**This is one of the most useful feature of high-level programming: an easy and fast way to check our idea**"
   ]
  },
  {
   "cell_type": "code",
   "execution_count": 10,
   "id": "3353dcab",
   "metadata": {
    "slideshow": {
     "slide_type": "slide"
    }
   },
   "outputs": [
    {
     "ename": "ValueError",
     "evalue": "Input vector should be 1-D.",
     "output_type": "error",
     "traceback": [
      "\u001b[1;31m---------------------------------------------------------------------------\u001b[0m",
      "\u001b[1;31mValueError\u001b[0m                                Traceback (most recent call last)",
      "Input \u001b[1;32mIn [10]\u001b[0m, in \u001b[0;36m<cell line: 4>\u001b[1;34m()\u001b[0m\n\u001b[0;32m      1\u001b[0m N \u001b[38;5;241m=\u001b[39m \u001b[38;5;241m10\u001b[39m\n\u001b[0;32m      2\u001b[0m pt \u001b[38;5;241m=\u001b[39m np\u001b[38;5;241m.\u001b[39mrandom\u001b[38;5;241m.\u001b[39muniform(low\u001b[38;5;241m=\u001b[39m\u001b[38;5;241m0\u001b[39m, high\u001b[38;5;241m=\u001b[39m\u001b[38;5;241m1\u001b[39m, size\u001b[38;5;241m=\u001b[39m(N, \u001b[38;5;241m2\u001b[39m))\n\u001b[1;32m----> 4\u001b[0m \u001b[43meuclidean\u001b[49m\u001b[43m(\u001b[49m\u001b[43mpt\u001b[49m\u001b[43m,\u001b[49m\u001b[43m \u001b[49m\u001b[43mpt\u001b[49m\u001b[43m)\u001b[49m\n",
      "File \u001b[1;32mc:\\python310\\lib\\site-packages\\scipy\\spatial\\distance.py:528\u001b[0m, in \u001b[0;36meuclidean\u001b[1;34m(u, v, w)\u001b[0m\n\u001b[0;32m    492\u001b[0m \u001b[38;5;28;01mdef\u001b[39;00m \u001b[38;5;21meuclidean\u001b[39m(u, v, w\u001b[38;5;241m=\u001b[39m\u001b[38;5;28;01mNone\u001b[39;00m):\n\u001b[0;32m    493\u001b[0m \u001b[38;5;250m    \u001b[39m\u001b[38;5;124;03m\"\"\"\u001b[39;00m\n\u001b[0;32m    494\u001b[0m \u001b[38;5;124;03m    Computes the Euclidean distance between two 1-D arrays.\u001b[39;00m\n\u001b[0;32m    495\u001b[0m \n\u001b[1;32m   (...)\u001b[0m\n\u001b[0;32m    526\u001b[0m \n\u001b[0;32m    527\u001b[0m \u001b[38;5;124;03m    \"\"\"\u001b[39;00m\n\u001b[1;32m--> 528\u001b[0m     \u001b[38;5;28;01mreturn\u001b[39;00m \u001b[43mminkowski\u001b[49m\u001b[43m(\u001b[49m\u001b[43mu\u001b[49m\u001b[43m,\u001b[49m\u001b[43m \u001b[49m\u001b[43mv\u001b[49m\u001b[43m,\u001b[49m\u001b[43m \u001b[49m\u001b[43mp\u001b[49m\u001b[38;5;241;43m=\u001b[39;49m\u001b[38;5;241;43m2\u001b[39;49m\u001b[43m,\u001b[49m\u001b[43m \u001b[49m\u001b[43mw\u001b[49m\u001b[38;5;241;43m=\u001b[39;49m\u001b[43mw\u001b[49m\u001b[43m)\u001b[49m\n",
      "File \u001b[1;32mc:\\python310\\lib\\site-packages\\scipy\\spatial\\distance.py:471\u001b[0m, in \u001b[0;36mminkowski\u001b[1;34m(u, v, p, w)\u001b[0m\n\u001b[0;32m    421\u001b[0m \u001b[38;5;28;01mdef\u001b[39;00m \u001b[38;5;21mminkowski\u001b[39m(u, v, p\u001b[38;5;241m=\u001b[39m\u001b[38;5;241m2\u001b[39m, w\u001b[38;5;241m=\u001b[39m\u001b[38;5;28;01mNone\u001b[39;00m):\n\u001b[0;32m    422\u001b[0m \u001b[38;5;250m    \u001b[39m\u001b[38;5;124;03m\"\"\"\u001b[39;00m\n\u001b[0;32m    423\u001b[0m \u001b[38;5;124;03m    Compute the Minkowski distance between two 1-D arrays.\u001b[39;00m\n\u001b[0;32m    424\u001b[0m \n\u001b[1;32m   (...)\u001b[0m\n\u001b[0;32m    469\u001b[0m \n\u001b[0;32m    470\u001b[0m \u001b[38;5;124;03m    \"\"\"\u001b[39;00m\n\u001b[1;32m--> 471\u001b[0m     u \u001b[38;5;241m=\u001b[39m \u001b[43m_validate_vector\u001b[49m\u001b[43m(\u001b[49m\u001b[43mu\u001b[49m\u001b[43m)\u001b[49m\n\u001b[0;32m    472\u001b[0m     v \u001b[38;5;241m=\u001b[39m _validate_vector(v)\n\u001b[0;32m    473\u001b[0m     \u001b[38;5;28;01mif\u001b[39;00m p \u001b[38;5;241m<\u001b[39m\u001b[38;5;241m=\u001b[39m \u001b[38;5;241m0\u001b[39m:\n",
      "File \u001b[1;32mc:\\python310\\lib\\site-packages\\scipy\\spatial\\distance.py:306\u001b[0m, in \u001b[0;36m_validate_vector\u001b[1;34m(u, dtype)\u001b[0m\n\u001b[0;32m    304\u001b[0m u \u001b[38;5;241m=\u001b[39m np\u001b[38;5;241m.\u001b[39matleast_1d(u\u001b[38;5;241m.\u001b[39msqueeze())\n\u001b[0;32m    305\u001b[0m \u001b[38;5;28;01mif\u001b[39;00m u\u001b[38;5;241m.\u001b[39mndim \u001b[38;5;241m>\u001b[39m \u001b[38;5;241m1\u001b[39m:\n\u001b[1;32m--> 306\u001b[0m     \u001b[38;5;28;01mraise\u001b[39;00m \u001b[38;5;167;01mValueError\u001b[39;00m(\u001b[38;5;124m\"\u001b[39m\u001b[38;5;124mInput vector should be 1-D.\u001b[39m\u001b[38;5;124m\"\u001b[39m)\n\u001b[0;32m    307\u001b[0m warnings\u001b[38;5;241m.\u001b[39mwarn(\n\u001b[0;32m    308\u001b[0m     \u001b[38;5;124m\"\u001b[39m\u001b[38;5;124mscipy.spatial.distance metrics ignoring length-1 dimensions is \u001b[39m\u001b[38;5;124m\"\u001b[39m\n\u001b[0;32m    309\u001b[0m     \u001b[38;5;124m\"\u001b[39m\u001b[38;5;124mdeprecated in SciPy 1.7 and will raise an error in SciPy 1.9.\u001b[39m\u001b[38;5;124m\"\u001b[39m,\n\u001b[0;32m    310\u001b[0m     \u001b[38;5;167;01mDeprecationWarning\u001b[39;00m)\n\u001b[0;32m    311\u001b[0m \u001b[38;5;28;01mreturn\u001b[39;00m u\n",
      "\u001b[1;31mValueError\u001b[0m: Input vector should be 1-D."
     ]
    }
   ],
   "source": [
    "N = 10\n",
    "pt = np.random.uniform(low=0, high=1, size=(N, 2))\n",
    "\n",
    "euclidean(pt, pt)"
   ]
  },
  {
   "cell_type": "markdown",
   "id": "2c1e2880",
   "metadata": {
    "slideshow": {
     "slide_type": "slide"
    }
   },
   "source": [
    "Ok, it doesn't work... but maybe there are other function that can address the same purpose\n",
    "\n",
    "Check [scipy.spatial](https://docs.scipy.org/doc/scipy/reference/spatial.html) documentation"
   ]
  },
  {
   "cell_type": "code",
   "execution_count": 5,
   "id": "67d03e96",
   "metadata": {
    "slideshow": {
     "slide_type": "slide"
    }
   },
   "outputs": [
    {
     "name": "stdout",
     "output_type": "stream",
     "text": [
      "Help on function distance_matrix in module scipy.spatial._kdtree:\n",
      "\n",
      "distance_matrix(x, y, p=2, threshold=1000000)\n",
      "    Compute the distance matrix.\n",
      "    \n",
      "    Returns the matrix of all pair-wise distances.\n",
      "    \n",
      "    Parameters\n",
      "    ----------\n",
      "    x : (M, K) array_like\n",
      "        Matrix of M vectors in K dimensions.\n",
      "    y : (N, K) array_like\n",
      "        Matrix of N vectors in K dimensions.\n",
      "    p : float, 1 <= p <= infinity\n",
      "        Which Minkowski p-norm to use.\n",
      "    threshold : positive int\n",
      "        If ``M * N * K`` > `threshold`, algorithm uses a Python loop instead\n",
      "        of large temporary arrays.\n",
      "    \n",
      "    Returns\n",
      "    -------\n",
      "    result : (M, N) ndarray\n",
      "        Matrix containing the distance from every vector in `x` to every vector\n",
      "        in `y`.\n",
      "    \n",
      "    Examples\n",
      "    --------\n",
      "    >>> from scipy.spatial import distance_matrix\n",
      "    >>> distance_matrix([[0,0],[0,1]], [[1,0],[1,1]])\n",
      "    array([[ 1.        ,  1.41421356],\n",
      "           [ 1.41421356,  1.        ]])\n",
      "\n"
     ]
    }
   ],
   "source": [
    "from scipy.spatial import distance_matrix\n",
    "\n",
    "help(distance_matrix)"
   ]
  },
  {
   "cell_type": "code",
   "execution_count": 13,
   "id": "3b34ebda",
   "metadata": {
    "slideshow": {
     "slide_type": "slide"
    }
   },
   "outputs": [
    {
     "data": {
      "text/plain": [
       "array([[0.        , 0.38862428, 0.46907901, 0.40125491, 0.76886231],\n",
       "       [0.38862428, 0.        , 0.58908841, 0.69620029, 0.94636221],\n",
       "       [0.46907901, 0.58908841, 0.        , 0.28631425, 0.35745467],\n",
       "       [0.40125491, 0.69620029, 0.28631425, 0.        , 0.40968752],\n",
       "       [0.76886231, 0.94636221, 0.35745467, 0.40968752, 0.        ]])"
      ]
     },
     "execution_count": 13,
     "metadata": {},
     "output_type": "execute_result"
    }
   ],
   "source": [
    "N = 5\n",
    "pt = np.random.uniform(low=0, high=1, size=(N, 2))\n",
    "\n",
    "distance_matrix(pt, pt)"
   ]
  },
  {
   "cell_type": "markdown",
   "id": "c0bee687",
   "metadata": {
    "slideshow": {
     "slide_type": "slide"
    }
   },
   "source": [
    "Check if it works better now"
   ]
  },
  {
   "cell_type": "code",
   "execution_count": 14,
   "id": "6ab1e633",
   "metadata": {
    "slideshow": {
     "slide_type": "slide"
    }
   },
   "outputs": [
    {
     "name": "stdout",
     "output_type": "stream",
     "text": [
      "40.3 ms ± 389 µs per loop (mean ± std. dev. of 7 runs, 10 loops each)\n"
     ]
    }
   ],
   "source": [
    "import numpy as np\n",
    "from scipy.spatial import distance_matrix\n",
    "\n",
    "def point_distance (N):\n",
    "    pt = np.random.uniform(0, 1, size=(N, 2))    \n",
    "    d = distance_matrix(pt, pt)\n",
    "\n",
    "%timeit point_distance(N=1000)"
   ]
  },
  {
   "cell_type": "markdown",
   "id": "53ab7db2",
   "metadata": {
    "slideshow": {
     "slide_type": "slide"
    }
   },
   "source": [
    "With a simple check of the online documentation we moved from 6.63s to 40.3ms\n",
    "\n",
    "Great job!"
   ]
  },
  {
   "cell_type": "markdown",
   "id": "c3ae2b39",
   "metadata": {
    "slideshow": {
     "slide_type": "fragment"
    }
   },
   "source": [
    "But the low level implementation is still better...\n",
    "\n",
    "We have spent more memory in the allocation of the entire matrix...\n",
    "\n",
    "Can we do better than this?!"
   ]
  },
  {
   "cell_type": "markdown",
   "id": "ee7fc949",
   "metadata": {
    "slideshow": {
     "slide_type": "slide"
    }
   },
   "source": [
    "## Some notes about optimization\n",
    "\n",
    "    “Premature optimization is the root of all evil” (cit. Donald Knuth)\n",
    "\n",
    "1. [x] Re-think your implementation, trying to optimize it\n",
    "2. [x] Use built-in libraries\n",
    "3. [ ] **Check if all the operations are usefull or not**\n",
    "4. [x] Optimize the memory accesses: less memory typically leads to poor performances, more memory is often the best approach so do not be greedy!"
   ]
  },
  {
   "cell_type": "code",
   "execution_count": 15,
   "id": "e0ef5685",
   "metadata": {
    "slideshow": {
     "slide_type": "slide"
    }
   },
   "outputs": [
    {
     "data": {
      "text/plain": [
       "array([[0.        , 0.36857021, 0.23499753, 0.34164238, 0.53563521],\n",
       "       [0.36857021, 0.        , 0.60320484, 0.3895317 , 0.16707837],\n",
       "       [0.23499753, 0.60320484, 0.        , 0.49651218, 0.77016262],\n",
       "       [0.34164238, 0.3895317 , 0.49651218, 0.        , 0.50861513],\n",
       "       [0.53563521, 0.16707837, 0.77016262, 0.50861513, 0.        ]])"
      ]
     },
     "execution_count": 15,
     "metadata": {},
     "output_type": "execute_result"
    }
   ],
   "source": [
    "N = 5\n",
    "pt = np.random.uniform(low=0, high=1, size=(N, 2))\n",
    "\n",
    "distance_matrix(pt, pt)"
   ]
  },
  {
   "cell_type": "markdown",
   "id": "3e5ab42f",
   "metadata": {
    "slideshow": {
     "slide_type": "slide"
    }
   },
   "source": [
    "### DAMN IT! The matrix is symmetric"
   ]
  },
  {
   "cell_type": "markdown",
   "id": "4f0195be",
   "metadata": {
    "slideshow": {
     "slide_type": "slide"
    }
   },
   "source": [
    "There are at least $\\frac{N\\times(N-1)}{2}$ useless operations..\n",
    "\n",
    "A better approach could involve the evaluation of only the interesting parts, without any redundancy"
   ]
  },
  {
   "cell_type": "code",
   "execution_count": 18,
   "id": "15278fbb",
   "metadata": {
    "slideshow": {
     "slide_type": "slide"
    }
   },
   "outputs": [
    {
     "name": "stdout",
     "output_type": "stream",
     "text": [
      "Help on function pdist in module scipy.spatial.distance:\n",
      "\n",
      "pdist(X, metric='euclidean', *, out=None, **kwargs)\n",
      "    Pairwise distances between observations in n-dimensional space.\n",
      "    \n",
      "    See Notes for common calling conventions.\n",
      "    \n",
      "    Parameters\n",
      "    ----------\n",
      "    X : array_like\n",
      "        An m by n array of m original observations in an\n",
      "        n-dimensional space.\n",
      "    metric : str or function, optional\n",
      "        The distance metric to use. The distance function can\n",
      "        be 'braycurtis', 'canberra', 'chebyshev', 'cityblock',\n",
      "        'correlation', 'cosine', 'dice', 'euclidean', 'hamming',\n",
      "        'jaccard', 'jensenshannon', 'kulsinski', 'kulczynski1',\n",
      "        'mahalanobis', 'matching', 'minkowski', 'rogerstanimoto',\n",
      "        'russellrao', 'seuclidean', 'sokalmichener', 'sokalsneath',\n",
      "        'sqeuclidean', 'yule'.\n",
      "    **kwargs : dict, optional\n",
      "        Extra arguments to `metric`: refer to each metric documentation for a\n",
      "        list of all possible arguments.\n",
      "    \n",
      "        Some possible arguments:\n",
      "    \n",
      "        p : scalar\n",
      "        The p-norm to apply for Minkowski, weighted and unweighted.\n",
      "        Default: 2.\n",
      "    \n",
      "        w : ndarray\n",
      "        The weight vector for metrics that support weights (e.g., Minkowski).\n",
      "    \n",
      "        V : ndarray\n",
      "        The variance vector for standardized Euclidean.\n",
      "        Default: var(X, axis=0, ddof=1)\n",
      "    \n",
      "        VI : ndarray\n",
      "        The inverse of the covariance matrix for Mahalanobis.\n",
      "        Default: inv(cov(X.T)).T\n",
      "    \n",
      "        out : ndarray.\n",
      "        The output array\n",
      "        If not None, condensed distance matrix Y is stored in this array.\n",
      "    \n",
      "    Returns\n",
      "    -------\n",
      "    Y : ndarray\n",
      "        Returns a condensed distance matrix Y. For each :math:`i` and :math:`j`\n",
      "        (where :math:`i<j<m`),where m is the number of original observations.\n",
      "        The metric ``dist(u=X[i], v=X[j])`` is computed and stored in entry ``m\n",
      "        * i + j - ((i + 2) * (i + 1)) // 2``.\n",
      "    \n",
      "    See Also\n",
      "    --------\n",
      "    squareform : converts between condensed distance matrices and\n",
      "                 square distance matrices.\n",
      "    \n",
      "    Notes\n",
      "    -----\n",
      "    See ``squareform`` for information on how to calculate the index of\n",
      "    this entry or to convert the condensed distance matrix to a\n",
      "    redundant square matrix.\n",
      "    \n",
      "    The following are common calling conventions.\n",
      "    \n",
      "    1. ``Y = pdist(X, 'euclidean')``\n",
      "    \n",
      "       Computes the distance between m points using Euclidean distance\n",
      "       (2-norm) as the distance metric between the points. The points\n",
      "       are arranged as m n-dimensional row vectors in the matrix X.\n",
      "    \n",
      "    2. ``Y = pdist(X, 'minkowski', p=2.)``\n",
      "    \n",
      "       Computes the distances using the Minkowski distance\n",
      "       :math:`\\|u-v\\|_p` (:math:`p`-norm) where :math:`p > 0` (note\n",
      "       that this is only a quasi-metric if :math:`0 < p < 1`).\n",
      "    \n",
      "    3. ``Y = pdist(X, 'cityblock')``\n",
      "    \n",
      "       Computes the city block or Manhattan distance between the\n",
      "       points.\n",
      "    \n",
      "    4. ``Y = pdist(X, 'seuclidean', V=None)``\n",
      "    \n",
      "       Computes the standardized Euclidean distance. The standardized\n",
      "       Euclidean distance between two n-vectors ``u`` and ``v`` is\n",
      "    \n",
      "       .. math::\n",
      "    \n",
      "          \\sqrt{\\sum {(u_i-v_i)^2 / V[x_i]}}\n",
      "    \n",
      "    \n",
      "       V is the variance vector; V[i] is the variance computed over all\n",
      "       the i'th components of the points.  If not passed, it is\n",
      "       automatically computed.\n",
      "    \n",
      "    5. ``Y = pdist(X, 'sqeuclidean')``\n",
      "    \n",
      "       Computes the squared Euclidean distance :math:`\\|u-v\\|_2^2` between\n",
      "       the vectors.\n",
      "    \n",
      "    6. ``Y = pdist(X, 'cosine')``\n",
      "    \n",
      "       Computes the cosine distance between vectors u and v,\n",
      "    \n",
      "       .. math::\n",
      "    \n",
      "          1 - \\frac{u \\cdot v}\n",
      "                   {{\\|u\\|}_2 {\\|v\\|}_2}\n",
      "    \n",
      "       where :math:`\\|*\\|_2` is the 2-norm of its argument ``*``, and\n",
      "       :math:`u \\cdot v` is the dot product of ``u`` and ``v``.\n",
      "    \n",
      "    7. ``Y = pdist(X, 'correlation')``\n",
      "    \n",
      "       Computes the correlation distance between vectors u and v. This is\n",
      "    \n",
      "       .. math::\n",
      "    \n",
      "          1 - \\frac{(u - \\bar{u}) \\cdot (v - \\bar{v})}\n",
      "                   {{\\|(u - \\bar{u})\\|}_2 {\\|(v - \\bar{v})\\|}_2}\n",
      "    \n",
      "       where :math:`\\bar{v}` is the mean of the elements of vector v,\n",
      "       and :math:`x \\cdot y` is the dot product of :math:`x` and :math:`y`.\n",
      "    \n",
      "    8. ``Y = pdist(X, 'hamming')``\n",
      "    \n",
      "       Computes the normalized Hamming distance, or the proportion of\n",
      "       those vector elements between two n-vectors ``u`` and ``v``\n",
      "       which disagree. To save memory, the matrix ``X`` can be of type\n",
      "       boolean.\n",
      "    \n",
      "    9. ``Y = pdist(X, 'jaccard')``\n",
      "    \n",
      "       Computes the Jaccard distance between the points. Given two\n",
      "       vectors, ``u`` and ``v``, the Jaccard distance is the\n",
      "       proportion of those elements ``u[i]`` and ``v[i]`` that\n",
      "       disagree.\n",
      "    \n",
      "    10. ``Y = pdist(X, 'jensenshannon')``\n",
      "    \n",
      "        Computes the Jensen-Shannon distance between two probability arrays.\n",
      "        Given two probability vectors, :math:`p` and :math:`q`, the\n",
      "        Jensen-Shannon distance is\n",
      "    \n",
      "        .. math::\n",
      "    \n",
      "           \\sqrt{\\frac{D(p \\parallel m) + D(q \\parallel m)}{2}}\n",
      "    \n",
      "        where :math:`m` is the pointwise mean of :math:`p` and :math:`q`\n",
      "        and :math:`D` is the Kullback-Leibler divergence.\n",
      "    \n",
      "    11. ``Y = pdist(X, 'chebyshev')``\n",
      "    \n",
      "        Computes the Chebyshev distance between the points. The\n",
      "        Chebyshev distance between two n-vectors ``u`` and ``v`` is the\n",
      "        maximum norm-1 distance between their respective elements. More\n",
      "        precisely, the distance is given by\n",
      "    \n",
      "        .. math::\n",
      "    \n",
      "           d(u,v) = \\max_i {|u_i-v_i|}\n",
      "    \n",
      "    12. ``Y = pdist(X, 'canberra')``\n",
      "    \n",
      "        Computes the Canberra distance between the points. The\n",
      "        Canberra distance between two points ``u`` and ``v`` is\n",
      "    \n",
      "        .. math::\n",
      "    \n",
      "          d(u,v) = \\sum_i \\frac{|u_i-v_i|}\n",
      "                               {|u_i|+|v_i|}\n",
      "    \n",
      "    \n",
      "    13. ``Y = pdist(X, 'braycurtis')``\n",
      "    \n",
      "        Computes the Bray-Curtis distance between the points. The\n",
      "        Bray-Curtis distance between two points ``u`` and ``v`` is\n",
      "    \n",
      "    \n",
      "        .. math::\n",
      "    \n",
      "             d(u,v) = \\frac{\\sum_i {|u_i-v_i|}}\n",
      "                            {\\sum_i {|u_i+v_i|}}\n",
      "    \n",
      "    14. ``Y = pdist(X, 'mahalanobis', VI=None)``\n",
      "    \n",
      "        Computes the Mahalanobis distance between the points. The\n",
      "        Mahalanobis distance between two points ``u`` and ``v`` is\n",
      "        :math:`\\sqrt{(u-v)(1/V)(u-v)^T}` where :math:`(1/V)` (the ``VI``\n",
      "        variable) is the inverse covariance. If ``VI`` is not None,\n",
      "        ``VI`` will be used as the inverse covariance matrix.\n",
      "    \n",
      "    15. ``Y = pdist(X, 'yule')``\n",
      "    \n",
      "        Computes the Yule distance between each pair of boolean\n",
      "        vectors. (see yule function documentation)\n",
      "    \n",
      "    16. ``Y = pdist(X, 'matching')``\n",
      "    \n",
      "        Synonym for 'hamming'.\n",
      "    \n",
      "    17. ``Y = pdist(X, 'dice')``\n",
      "    \n",
      "        Computes the Dice distance between each pair of boolean\n",
      "        vectors. (see dice function documentation)\n",
      "    \n",
      "    18. ``Y = pdist(X, 'kulsinski')``\n",
      "    \n",
      "        Computes the Kulsinski distance between each pair of\n",
      "        boolean vectors. (see kulsinski function documentation)\n",
      "    \n",
      "    19. ``Y = pdist(X, 'rogerstanimoto')``\n",
      "    \n",
      "        Computes the Rogers-Tanimoto distance between each pair of\n",
      "        boolean vectors. (see rogerstanimoto function documentation)\n",
      "    \n",
      "    20. ``Y = pdist(X, 'russellrao')``\n",
      "    \n",
      "        Computes the Russell-Rao distance between each pair of\n",
      "        boolean vectors. (see russellrao function documentation)\n",
      "    \n",
      "    21. ``Y = pdist(X, 'sokalmichener')``\n",
      "    \n",
      "        Computes the Sokal-Michener distance between each pair of\n",
      "        boolean vectors. (see sokalmichener function documentation)\n",
      "    \n",
      "    22. ``Y = pdist(X, 'sokalsneath')``\n",
      "    \n",
      "        Computes the Sokal-Sneath distance between each pair of\n",
      "        boolean vectors. (see sokalsneath function documentation)\n",
      "    \n",
      "    23. ``Y = pdist(X, 'kulczynski1')``\n",
      "    \n",
      "        Computes the Kulczynski 1 distance between each pair of\n",
      "        boolean vectors. (see kulczynski1 function documentation)\n",
      "    \n",
      "    24. ``Y = pdist(X, f)``\n",
      "    \n",
      "        Computes the distance between all pairs of vectors in X\n",
      "        using the user supplied 2-arity function f. For example,\n",
      "        Euclidean distance between the vectors could be computed\n",
      "        as follows::\n",
      "    \n",
      "          dm = pdist(X, lambda u, v: np.sqrt(((u-v)**2).sum()))\n",
      "    \n",
      "        Note that you should avoid passing a reference to one of\n",
      "        the distance functions defined in this library. For example,::\n",
      "    \n",
      "          dm = pdist(X, sokalsneath)\n",
      "    \n",
      "        would calculate the pair-wise distances between the vectors in\n",
      "        X using the Python function sokalsneath. This would result in\n",
      "        sokalsneath being called :math:`{n \\choose 2}` times, which\n",
      "        is inefficient. Instead, the optimized C version is more\n",
      "        efficient, and we call it using the following syntax.::\n",
      "    \n",
      "          dm = pdist(X, 'sokalsneath')\n",
      "\n"
     ]
    }
   ],
   "source": [
    "from scipy.spatial.distance import pdist\n",
    "\n",
    "help(pdist)"
   ]
  },
  {
   "cell_type": "code",
   "execution_count": 19,
   "id": "98303e38",
   "metadata": {
    "slideshow": {
     "slide_type": "slide"
    }
   },
   "outputs": [
    {
     "data": {
      "text/plain": [
       "array([0.66425941, 0.37999825, 0.54942056, 1.05839018, 0.79106797,\n",
       "       0.40562971, 0.39510475, 0.85226327, 1.14105877, 0.72397826])"
      ]
     },
     "execution_count": 19,
     "metadata": {},
     "output_type": "execute_result"
    }
   ],
   "source": [
    "N = 5\n",
    "pt = np.random.uniform(low=0, high=1, size=(N, 2))\n",
    "\n",
    "pdist(pt)"
   ]
  },
  {
   "cell_type": "markdown",
   "id": "70882415",
   "metadata": {
    "slideshow": {
     "slide_type": "slide"
    }
   },
   "source": [
    "Check if it works better now"
   ]
  },
  {
   "cell_type": "code",
   "execution_count": 20,
   "id": "b62582da",
   "metadata": {
    "slideshow": {
     "slide_type": "slide"
    }
   },
   "outputs": [
    {
     "name": "stdout",
     "output_type": "stream",
     "text": [
      "2.82 ms ± 36.9 µs per loop (mean ± std. dev. of 7 runs, 100 loops each)\n"
     ]
    }
   ],
   "source": [
    "import numpy as np\n",
    "from scipy.spatial.distance import pdist\n",
    "\n",
    "def point_distance (N):\n",
    "    pt = np.random.uniform(0, 1, size=(N, 2))    \n",
    "    d = pdist(pt)\n",
    "\n",
    "%timeit point_distance(N=1000)"
   ]
  },
  {
   "cell_type": "markdown",
   "id": "acf70892",
   "metadata": {
    "slideshow": {
     "slide_type": "slide"
    }
   },
   "source": [
    "Again, with a simple check of the online documentation we moved from 6.63s to 2.82ms\n",
    "\n",
    "Great(er) job!"
   ]
  },
  {
   "cell_type": "markdown",
   "id": "9a2733b3",
   "metadata": {
    "slideshow": {
     "slide_type": "slide"
    }
   },
   "source": [
    "But, again, the low level implementation is still better...\n",
    "\n",
    "Can we do better than this?!\n",
    "\n",
    "## Why Numpy is so fast?!"
   ]
  },
  {
   "cell_type": "markdown",
   "id": "499e8905",
   "metadata": {
    "slideshow": {
     "slide_type": "slide"
    }
   },
   "source": [
    "All the high level programming languages relies on a backend written in low level programming languages.\n",
    "\n",
    "In this way they can achieve valuable computational performances, simplifing the user interface and providing ready-to-use solutions"
   ]
  },
  {
   "cell_type": "markdown",
   "id": "33b4d7f7",
   "metadata": {
    "slideshow": {
     "slide_type": "slide"
    }
   },
   "source": [
    "As example\n",
    "\n",
    "* Low level programming languages $\\rightarrow$ Python $\\rightarrow$ prototyping\n",
    "\n",
    "* High level programming languages $\\rightarrow$ C++ $\\rightarrow$ efficiency"
   ]
  },
  {
   "cell_type": "markdown",
   "id": "75c0f75c",
   "metadata": {
    "slideshow": {
     "slide_type": "slide"
    }
   },
   "source": [
    "## How can we combine low and high levels?"
   ]
  },
  {
   "cell_type": "markdown",
   "id": "4e535f6f",
   "metadata": {
    "slideshow": {
     "slide_type": "slide"
    }
   },
   "source": [
    "Real world applications and codes involves the integration and usage of several programming languages together.\n",
    "\n",
    "The idea is that, despite we can potentially use a unique language to perform all our taks, there is always a better/faster language to perform a particular aim."
   ]
  },
  {
   "cell_type": "markdown",
   "id": "5e3c56f7",
   "metadata": {
    "slideshow": {
     "slide_type": "slide"
    }
   },
   "source": [
    "As example:\n",
    "\n",
    "* Python language is internally written in C++"
   ]
  },
  {
   "cell_type": "markdown",
   "id": "f2424e08",
   "metadata": {
    "slideshow": {
     "slide_type": "fragment"
    }
   },
   "source": [
    "* When you want to write a code you probably use an IDE which is developed in other languages (like Python)"
   ]
  },
  {
   "cell_type": "markdown",
   "id": "8804e1e0",
   "metadata": {
    "slideshow": {
     "slide_type": "fragment"
    }
   },
   "source": [
    "* When you want to execute a script you start from the command line, which supports languages like Bash or Powershell"
   ]
  },
  {
   "cell_type": "markdown",
   "id": "eff8e2b2",
   "metadata": {
    "slideshow": {
     "slide_type": "fragment"
    }
   },
   "source": [
    "* If you want to use a compiler for C++, you are using an executable built from a C++ script"
   ]
  },
  {
   "cell_type": "markdown",
   "id": "0f1305c6",
   "metadata": {
    "slideshow": {
     "slide_type": "fragment"
    }
   },
   "source": [
    "* This presentation is showed as HTML file, which is a markup language, in which the animations are rendered via Javascript (another language) and the style/font/formats delegated to CSS (another language)"
   ]
  },
  {
   "cell_type": "markdown",
   "id": "2bf02c2f",
   "metadata": {
    "slideshow": {
     "slide_type": "slide"
    }
   },
   "source": [
    "## Integrate C++ into Python"
   ]
  },
  {
   "cell_type": "markdown",
   "id": "bb96452a",
   "metadata": {
    "slideshow": {
     "slide_type": "slide"
    }
   },
   "source": [
    "Fortunately, also in this case there are several ready-to-use packages and techniques to achieve this purpose.\n",
    "\n",
    "The most famous are certainly:\n",
    "\n",
    "* [pybind11](https://github.com/pybind/pybind11)\n",
    "* [cython](https://github.com/cython/cython)"
   ]
  },
  {
   "cell_type": "markdown",
   "id": "43d0ea0a",
   "metadata": {
    "slideshow": {
     "slide_type": "slide"
    }
   },
   "source": [
    "## Cython\n",
    "\n",
    "Cython is a Python compiler that makes writing C extensions for Python as easy as Python itself. Cython is based on Pyrex, but supports more cutting edge functionality and optimizations.\n",
    "\n",
    "Cython translates Python code to C/C++ code, but additionally supports calling C functions and declaring C types on variables and class attributes. This allows the compiler to generate very efficient C code from Cython code.\n",
    "\n",
    "This makes Cython the ideal language for wrapping external C libraries, and for fast C modules that speed up the execution of Python code."
   ]
  },
  {
   "cell_type": "markdown",
   "id": "d42dd907",
   "metadata": {
    "slideshow": {
     "slide_type": "fragment"
    }
   },
   "source": [
    "```bash\n",
    "python -m pip install Cython\n",
    "```"
   ]
  },
  {
   "cell_type": "markdown",
   "id": "f2ecccd6",
   "metadata": {
    "slideshow": {
     "slide_type": "slide"
    }
   },
   "source": [
    "**NOTE:** The main difference between Python and C++ is the presence of a *compiler*\n",
    "\n",
    "Python is an interpretated language which does not require any preliminary step or check before its usage!\n",
    "\n",
    "C++ is a compiled language which must be compiled before its usage!"
   ]
  },
  {
   "cell_type": "markdown",
   "id": "80994ca4",
   "metadata": {
    "slideshow": {
     "slide_type": "slide"
    }
   },
   "source": [
    "## Example\n",
    "\n",
    "Our purpose is to write a very simple function in Python which takes a string of a \"Name\" and it returns the classical output\n",
    "\n",
    "```bash\n",
    "Hello \"Name\"\n",
    "```"
   ]
  },
  {
   "cell_type": "markdown",
   "id": "dc310d1f",
   "metadata": {
    "slideshow": {
     "slide_type": "fragment"
    }
   },
   "source": [
    "We want a very efficient way to address this task, so the string building will be performed using C++ function."
   ]
  },
  {
   "cell_type": "markdown",
   "id": "27429dba",
   "metadata": {
    "slideshow": {
     "slide_type": "slide"
    }
   },
   "source": [
    "### Requirements"
   ]
  },
  {
   "cell_type": "markdown",
   "id": "0aabc527",
   "metadata": {
    "slideshow": {
     "slide_type": "slide"
    }
   },
   "source": [
    "* A C++ function which takes a string as input and returns a string as output"
   ]
  },
  {
   "cell_type": "markdown",
   "id": "de9277ce",
   "metadata": {
    "slideshow": {
     "slide_type": "fragment"
    }
   },
   "source": [
    "```c++\n",
    "std :: string HelloWorld (const std :: string & name) {\n",
    "    std :: string msg = \"Hello \" + name;\n",
    "    return msg;\n",
    "}\n",
    "```"
   ]
  },
  {
   "cell_type": "markdown",
   "id": "ab443645",
   "metadata": {
    "slideshow": {
     "slide_type": "slide"
    }
   },
   "source": [
    "* A Python function which takes a string as input, it processes the string, and it returns a string as output."
   ]
  },
  {
   "cell_type": "markdown",
   "id": "b52e4b52",
   "metadata": {
    "slideshow": {
     "slide_type": "fragment"
    }
   },
   "source": [
    "```python\n",
    "def HelloWorld (name : str) -> str:\n",
    "    output = CppFunc(name)\n",
    "    return output\n",
    "```"
   ]
  },
  {
   "cell_type": "markdown",
   "id": "2800df52",
   "metadata": {
    "slideshow": {
     "slide_type": "slide"
    }
   },
   "source": [
    "* A way to compile the C++ function, making it visible from the Python counter part"
   ]
  },
  {
   "cell_type": "markdown",
   "id": "27e726ec",
   "metadata": {
    "slideshow": {
     "slide_type": "fragment"
    }
   },
   "source": [
    "Here is where the magic happens and the use of **Cython** makes all these steps possible and easy to use!"
   ]
  },
  {
   "cell_type": "markdown",
   "id": "3d404c9d",
   "metadata": {
    "slideshow": {
     "slide_type": "slide"
    }
   },
   "source": [
    "For the integration of cython in simple projects you can directly use the *cythonize* function provided by the package\n",
    "\n",
    "**helloworld.pyx**\n",
    "```python\n",
    "print(\"Hello World\")\n",
    "```\n",
    "\n",
    "**setup.py**\n",
    "```python\n",
    "from setuptools import setup\n",
    "from Cython.Build import cythonize\n",
    "\n",
    "setup(\n",
    "    ext_modules = cythonize('helloworld.pyx')\n",
    ")\n",
    "```"
   ]
  },
  {
   "cell_type": "markdown",
   "id": "3fd2fb9a",
   "metadata": {
    "slideshow": {
     "slide_type": "slide"
    }
   },
   "source": [
    "**cmd compiler**\n",
    "```bash\n",
    "$ python setup.py build_ext --inplace\n",
    "```\n",
    "\n",
    "**Python**\n",
    "```python\n",
    ">>> import helloworld\n",
    "Hello World\n",
    "```"
   ]
  },
  {
   "cell_type": "markdown",
   "id": "ea8465fc",
   "metadata": {
    "slideshow": {
     "slide_type": "slide"
    }
   },
   "source": [
    "In our case we want to perform something more advanced, involving the passing of variables between Python and C++ and back.\n",
    "\n",
    "In this case is very useful the integration of the [scikit-build](https://scikit-build.readthedocs.io/en/latest/) package, which provides a \"standardized\" way to integrate the two languages..."
   ]
  },
  {
   "cell_type": "markdown",
   "id": "3d21143e",
   "metadata": {
    "slideshow": {
     "slide_type": "fragment"
    }
   },
   "source": [
    "... involving the insertion of a third language, i.e. [CMake](https://cmake.org/)"
   ]
  },
  {
   "cell_type": "markdown",
   "id": "8004077e",
   "metadata": {
    "slideshow": {
     "slide_type": "slide"
    }
   },
   "source": [
    "## A step-by-step guide for your first multi-languages integration"
   ]
  },
  {
   "cell_type": "markdown",
   "id": "fb9ab6ec",
   "metadata": {
    "slideshow": {
     "slide_type": "slide"
    }
   },
   "source": [
    "```bash\n",
    "sktest/\n",
    "├── CMakeLists.txt\n",
    "├── LICENSE\n",
    "├── MANIFEST.in\n",
    "├── README.md\n",
    "├── SOURCES.txt\n",
    "├── cython_hello_world\n",
    "│   ├── __init__.py\n",
    "│   ├── __version__.py.in\n",
    "│   ├── lib\n",
    "│   │   ├── __init__.pxd\n",
    "│   │   └── hello.pxd\n",
    "│   └── source\n",
    "│       ├── CMakeLists.txt\n",
    "│       └── hello.pyx\n",
    "├── hpp\n",
    "├── include\n",
    "│   └── hello.h\n",
    "├── pyproject.toml\n",
    "├── requirements.txt\n",
    "├── setup.py\n",
    "└── src\n",
    "    └── hello.cxx\n",
    "\n",
    "6 directories, 16 files\n",
    "```"
   ]
  },
  {
   "cell_type": "markdown",
   "id": "c255fdf0",
   "metadata": {
    "slideshow": {
     "slide_type": "slide"
    }
   },
   "source": [
    "### C++ components"
   ]
  },
  {
   "cell_type": "markdown",
   "id": "211f9e9b",
   "metadata": {
    "slideshow": {
     "slide_type": "slide"
    }
   },
   "source": [
    "**`include/hello.h`**\n",
    "```c++\n",
    "#ifndef __hello_h__\n",
    "#define __hello_h__\n",
    "\n",
    "#include <iostream>\n",
    "\n",
    "namespace test\n",
    "{\n",
    "\t/**\n",
    "\t* @brief Dummy function\n",
    "\t*\n",
    "\t* @details Dummy Hello World function in C++\n",
    "\t* to combine two strings.\n",
    "\t*\n",
    "\t* @param name Input name to hello.\n",
    "\t* @return msg Hello message.\n",
    "\t*\n",
    "\t*/\n",
    "\tstd :: string HelloWorld (const std :: string & name); \n",
    "\t\n",
    "} // end namespace test\n",
    "\n",
    "#endif // __hello_h__\n",
    "```"
   ]
  },
  {
   "cell_type": "markdown",
   "id": "00748881",
   "metadata": {
    "slideshow": {
     "slide_type": "slide"
    }
   },
   "source": [
    "**`src/hello.cxx`**\n",
    "```c++\n",
    "#include <hello.h>\n",
    "\n",
    "namespace test\n",
    "{\n",
    "\tstd :: string HelloWorld (const std :: string & name)\n",
    "    {\n",
    "        std :: string msg = \"Hello \" + name;\n",
    "        return msg;\n",
    "    }\n",
    "\n",
    "} // end namespace test\n",
    "```"
   ]
  },
  {
   "cell_type": "markdown",
   "id": "2888178a",
   "metadata": {
    "slideshow": {
     "slide_type": "slide"
    }
   },
   "source": [
    "Some **NOTE**:\n",
    "\n",
    "1. The declaration of the functions must be put in an header file with the .h extension\n",
    "2. The implementation of those functions must be put in a source file with the .cxx, .c, .cpp extension\n",
    "3. If there are template function which must be compiled according to their usage in the source file, you can put them into a special header file with the extension .hpp"
   ]
  },
  {
   "cell_type": "markdown",
   "id": "da8c803d",
   "metadata": {
    "slideshow": {
     "slide_type": "slide"
    }
   },
   "source": [
    "Moreover:\n",
    "    \n",
    "1. The current documentation of the functions follows the Doxygen format, which is a standard for C++ code and it can be easily integrated also in Python (see later explanations)\n",
    "2. We have introduced also a namespace for a complete generalization of the current example\n",
    "3. The use of \\_\\_magic\\_\\_ define is a best practice to avoid multiple inclusions of the same definitions and errors in larger project"
   ]
  },
  {
   "cell_type": "markdown",
   "id": "085a27a6",
   "metadata": {
    "slideshow": {
     "slide_type": "slide"
    }
   },
   "source": [
    "### Cython components"
   ]
  },
  {
   "cell_type": "markdown",
   "id": "c04315d5",
   "metadata": {
    "slideshow": {
     "slide_type": "slide"
    }
   },
   "source": [
    "**`cython_hello_world/lib/hello.pxd`**\n",
    "```python\n",
    "# distutils: language = c++\n",
    "# cython: language_level=2\n",
    "\n",
    "# import the wrapped Cython type from the\n",
    "# cython std library\n",
    "from libcpp.string cimport string\n",
    "\n",
    "# define the import of the CXX functions from the\n",
    "# header files, following the syntax:\n",
    "#\n",
    "# cdef extern from \"header.h\" [namespace \"std\"] [nogil]:\n",
    "\n",
    "cdef extern from \"hello.h\" namespace \"test\" nogil:\n",
    "\n",
    "\tstring HelloWorld (const string & name) except +;\n",
    "```"
   ]
  },
  {
   "cell_type": "markdown",
   "id": "8ab2f009",
   "metadata": {
    "slideshow": {
     "slide_type": "slide"
    }
   },
   "source": [
    "**`cython_hello_world/lib/__init__.pxd`**\n",
    "```python\n",
    "# distutils: language = c++\n",
    "# cython: language_level=2\n",
    "\n",
    "cimport hello\n",
    "```"
   ]
  },
  {
   "cell_type": "markdown",
   "id": "4925c696",
   "metadata": {
    "slideshow": {
     "slide_type": "slide"
    }
   },
   "source": [
    "**`cython_hello_world/source/hello.pyx`**\n",
    "```python\n",
    "# distutils: language = c++\n",
    "# cython: language_level=2\n",
    "\n",
    "# import the declaration of the CXX function from the pxd header file\n",
    "from hello cimport HelloWorld\n",
    "\n",
    "__author__ = ['Nico Curti']\n",
    "__email__ = ['nico.curti2@unibo.it']\n",
    "\n",
    "# NOTE: the typing of the input variables\n",
    "# and returns boosts the efficiency of the\n",
    "# Cython wrap! Use it as much as possible...\n",
    "def _HelloWorld (str name) -> str:\n",
    "\t# NOTE: the management of the string between\n",
    "\t# Cython and CXX is not straightforward!\n",
    "\t# For the correct forward/backward transmission\n",
    "\t# you need to convert them in Bytes using the\n",
    "\t# correct encoding... (std way is utf-8 fmt)\n",
    "\tcdef bytes _name = name.encode('utf-8')\n",
    "\tcdef bytes res = HelloWorld(_name)\n",
    "\n",
    "\treturn res.decode('utf-8')\n",
    "```"
   ]
  },
  {
   "cell_type": "markdown",
   "id": "4f4eaba7",
   "metadata": {
    "slideshow": {
     "slide_type": "slide"
    }
   },
   "source": [
    "Some **NOTE**:\n",
    "\n",
    "1. The declaration of the functions must be put in an header file with the .pxd extension\n",
    "2. The implementation of those functions must be put in a source file with the .pyx extension\n",
    "3. The \\_\\_init\\_\\_.pxd file has the same properties of the standard \\_\\_init\\_\\_.py file and it provides the visibility to the functions that can be exported.\n",
    "    In this case it is used to guarantee the visibility of the other header files during the compilation and **cimport**ing"
   ]
  },
  {
   "cell_type": "markdown",
   "id": "ff2d2087",
   "metadata": {
    "slideshow": {
     "slide_type": "slide"
    }
   },
   "source": [
    "### Python components"
   ]
  },
  {
   "cell_type": "markdown",
   "id": "67285122",
   "metadata": {
    "slideshow": {
     "slide_type": "slide"
    }
   },
   "source": [
    "**`cython_hello_world/__version__.py.in`**\n",
    "```python\n",
    "#!/usr/bin/env python\n",
    "# -*- coding: utf-8 -*-\n",
    "\n",
    "__author__  = ['Nico Curti']\n",
    "__email__ = ['nico.curti2@unibo.it']\n",
    "\n",
    "__version__ = '@PACKAGE_VERSION@'\n",
    "```"
   ]
  },
  {
   "cell_type": "markdown",
   "id": "cd077373",
   "metadata": {
    "slideshow": {
     "slide_type": "slide"
    }
   },
   "source": [
    "**`cython_hello_world/__init__.py` (part 1)**\n",
    "```python\n",
    "import os\n",
    "\n",
    "# absolute path of the current file\n",
    "# NOTE: using the magic symbol __file__ you can\n",
    "# ensure the correctness of this path in any location in\n",
    "# which the script is called!\n",
    "path = os.path.dirname(__file__)\n",
    "\n",
    "try:\n",
    "    # try to import the Cython submodules of the package\n",
    "    from .hello import _HelloWorld as HelloWorld\n",
    "\n",
    "except ImportError as e:\n",
    "    import ctypes\n",
    "    import warnings\n",
    "    from glob import glob\n",
    "```"
   ]
  },
  {
   "cell_type": "markdown",
   "id": "366b321d",
   "metadata": {
    "slideshow": {
     "slide_type": "slide"
    }
   },
   "source": [
    "**`cython_hello_world/__init__.py` (part 2)**\n",
    "```python\n",
    "    # all these issues can be solved setting the LD_LIBRARY_PATH env\n",
    "    # variable to the correct path\n",
    "    warnings.warn( (\n",
    "        'Load of the dynamic library failed. '\n",
    "        f'To avoid this issue you must add to the LD_LIBRARY_PATH the path:{path} '\n",
    "        'Trying to solve this issue with a dynamic loading via ctypes '\n",
    "    ),\n",
    "    category=UserWarning\n",
    "    )\n",
    "\n",
    "    # set the library name\n",
    "    # NOTE: you can change this line and re-use the entire\n",
    "    # code (with the appropriated import...) in any other project\n",
    "    LIBRARY_NAME = 'cython_utils'\n",
    "    # search all the occurrences with that name in a library format\n",
    "    LIBRARY_PATH = glob(f'{path}/*{LIBRARY_NAME}[.-]*')\n",
    "```"
   ]
  },
  {
   "cell_type": "markdown",
   "id": "837b53fb",
   "metadata": {
    "slideshow": {
     "slide_type": "slide"
    }
   },
   "source": [
    "**`cython_hello_world/__init__.py` (part 3)**\n",
    "```python\n",
    "    if len(LIBRARY_PATH) != 1:\n",
    "        # there are multiple locations with the required name\n",
    "        # or there are no location found\n",
    "        raise ImportError('Failed to load the dynamic library')\n",
    "\n",
    "    # get the first item of the list\n",
    "    LIBRARY_PATH = LIBRARY_PATH[0]\n",
    "    # load the dynamic library\n",
    "    ctypes.cdll.LoadLibrary(LIBRARY_PATH)\n",
    "\n",
    "    # now you can correctly perform the import\n",
    "    from .hello import _HelloWorld as HelloWorld\n",
    "```"
   ]
  },
  {
   "cell_type": "markdown",
   "id": "af6169c7",
   "metadata": {
    "slideshow": {
     "slide_type": "slide"
    }
   },
   "source": [
    "Some **NOTE**:\n",
    "\n",
    "1. The \\_\\_version\\_\\_ file is used as \"initial\" file for the automated creation of the correct version (note the *.in* extension).\n",
    "    In particular, the parameters set with the name between @ symbols will be filled during the source file compilation.\n",
    "2. The \\_\\_init\\_\\_ file represents the core of this script and it is used to set the visibility of the cythonized functions and their export to standard python code.\n",
    "    In particular, the cython proxy function is replaced with an alias without underscore: this is used to avoid misunderstanding between the cython and python version of the same functions!\n",
    "3. All the notes about the libraries and other import managements are set to face the OS compatibility issues that can occur in terms of output file positioning"
   ]
  },
  {
   "cell_type": "markdown",
   "id": "928ec6f5",
   "metadata": {
    "slideshow": {
     "slide_type": "slide"
    }
   },
   "source": [
    "## Now we have all the elements ready and we need to compile the C++ components"
   ]
  },
  {
   "cell_type": "markdown",
   "id": "b66901a5",
   "metadata": {
    "slideshow": {
     "slide_type": "slide"
    }
   },
   "source": [
    "## CMake\n",
    "\n",
    "CMake is the de-facto standard for building C++ code (and other languages!)\n",
    "\n",
    "1. Advanced workflow management\n",
    "2. Make is for Unix-like architecture, while CMake works in any OS environment\n",
    "3. It has its own syntax, allowing an easy way to manage also the filesystem"
   ]
  },
  {
   "cell_type": "markdown",
   "id": "4b5991ad",
   "metadata": {
    "slideshow": {
     "slide_type": "slide"
    }
   },
   "source": [
    "### Minimal example (C++)\n",
    "\n",
    "```cmake\n",
    "cmake_minimum_required(VERSION 3.1...3.29)\n",
    "project(ProjectName VERSION 1.0 LANGUAGES CXX)\n",
    "add_executable(ExecExample simple_example.cpp)\n",
    "```"
   ]
  },
  {
   "cell_type": "markdown",
   "id": "0b430425",
   "metadata": {
    "slideshow": {
     "slide_type": "slide"
    }
   },
   "source": [
    "In our case we need to build a more advanced CMake file (which is commonly identified with the name *CMakeLists.txt*) since we are interested in building scripts with the support of Cython!"
   ]
  },
  {
   "cell_type": "markdown",
   "id": "9e5ec7e5",
   "metadata": {
    "slideshow": {
     "slide_type": "slide"
    }
   },
   "source": [
    "**`CMakeLists.txt` (part 1)**\n",
    "```cmake\n",
    "cmake_minimum_required(VERSION 3.18.22)\n",
    "\n",
    "# NOTE: the variable PACKAGE_VERSION and CMAKE_PROJECT_DESCRIPTION\n",
    "# are fed by the command line built by the setup.py script\n",
    "project(cython_hello\n",
    "  LANGUAGES CXX\n",
    "  VERSION ${PACKAGE_VERSION}\n",
    "  DESCRIPTION ${CMAKE_PROJECT_DESCRIPTION}\n",
    ")\n",
    "enable_language(C) # this is mandatory for scikit-build check\n",
    "enable_language(CXX)\n",
    "```"
   ]
  },
  {
   "cell_type": "markdown",
   "id": "1374850d",
   "metadata": {
    "slideshow": {
     "slide_type": "slide"
    }
   },
   "source": [
    "**`CMakeLists.txt` (part 2)**\n",
    "```cmake\n",
    "# mandatory script of the build\n",
    "find_package(Cython REQUIRED)\n",
    "find_package(PythonExtensions REQUIRED)\n",
    "\n",
    "# get the full list of scripts to build\n",
    "file(GLOB SOURCE_CXX  \"${CMAKE_CURRENT_LIST_DIR}/src/*.cxx\"  )\n",
    "file(GLOB HEADER_CXX  \"${CMAKE_CURRENT_LIST_DIR}/include/*.h\")\n",
    "\n",
    "# add the include directory to the list of paths in which\n",
    "# look for the -I cmd\n",
    "include_directories(\"${CMAKE_SOURCE_DIR}/include\")\n",
    "```"
   ]
  },
  {
   "cell_type": "markdown",
   "id": "de54e99c",
   "metadata": {
    "slideshow": {
     "slide_type": "slide"
    }
   },
   "source": [
    "**`CMakeLists.txt` (part 3)**\n",
    "```cmake\n",
    "# set the name of the utils library to build\n",
    "# NOTE: the utils library in this case stores\n",
    "# all the CXX scripts wrapped by Cython\n",
    "set (cython_utilslib cython_utils)\n",
    "\n",
    "# add the library to the list of builds, including\n",
    "# all the .cxx, .h, .hpp files as dependencies\n",
    "add_library(${cython_utilslib} SHARED ${SOURCE_CXX} ${HEADER_CXX})\n",
    "\n",
    "# install the cython_utils library in the same location\n",
    "# of the final Python package\n",
    "# (e.g. /.local/lib/python3.10/site-packages/cython_hello_world)\n",
    "install(TARGETS ${cython_utilslib}\n",
    "  LIBRARY DESTINATION cython_hello_world\n",
    "  RUNTIME DESTINATION cython_hello_world\n",
    ")\n",
    "\n",
    "# move to the cython CMakeFile sub-directory\n",
    "add_subdirectory(\"${CMAKE_CURRENT_SOURCE_DIR}/cython_hello_world/source\")\n",
    "```"
   ]
  },
  {
   "cell_type": "markdown",
   "id": "4f69e320",
   "metadata": {
    "slideshow": {
     "slide_type": "slide"
    }
   },
   "source": [
    "In this way we have set all the variable paths dedicated for the description of the C++ source codes.\n",
    "\n",
    "**NOTE:** CMake provides a long list of ready-to-use variables for the management of standard paths.\n",
    "    \n",
    "All these variables are identified by the prefix `CMAKE_*`\n",
    "    \n",
    "A complete list of them can be found [here](https://cmake.org/cmake/help/latest/manual/cmake-variables.7.html#variables-that-provide-information)"
   ]
  },
  {
   "cell_type": "markdown",
   "id": "dafe8dc2",
   "metadata": {
    "slideshow": {
     "slide_type": "slide"
    }
   },
   "source": [
    "In the above file we have \"delegated\" the management of the Cython scripts to a second CMake file, stored in the `cython_hello_world/source` directory.\n",
    "\n",
    "Let's see how we can define this second file..."
   ]
  },
  {
   "cell_type": "markdown",
   "id": "f4483218",
   "metadata": {
    "slideshow": {
     "slide_type": "slide"
    }
   },
   "source": [
    "**`cython_hello_world/source/CMakeLists.txt` (part 1)**\n",
    "```cmake\n",
    "# automatically fill the __version__.py script setting\n",
    "# the variable defined as @VAR@\n",
    "# NOTE: this is the standard way in which we can customize\n",
    "# a script according to runtime build.\n",
    "configure_file(\n",
    "  \"${CMAKE_SOURCE_DIR}/cython_hello_world/__version__.py.in\"\n",
    "  \"${CMAKE_SOURCE_DIR}/cython_hello_world/__version__.py\"\n",
    "  @ONLY\n",
    ")\n",
    "\n",
    "# Include the *.pxd directory\n",
    "include_directories(\"${CMAKE_SOURCE_DIR}/cython_hello_world/lib\")\n",
    "\n",
    "# add a new target for the Cython builder\n",
    "# setting the language of the build as CXX\n",
    "add_cython_target(hello CXX)\n",
    "```"
   ]
  },
  {
   "cell_type": "markdown",
   "id": "5c12cc73",
   "metadata": {
    "slideshow": {
     "slide_type": "slide"
    }
   },
   "source": [
    "**`cython_hello_world/source/CMakeLists.txt` (part 2)**\n",
    "```cmake\n",
    "# add the Cython library, configuring it as a module\n",
    "# of the resulting Python package\n",
    "# NOTE: this line creates an association between the target\n",
    "# and a new module with a custom name\n",
    "add_library(hello MODULE \"${hello}\")\n",
    "# setting the module for the final Python package\n",
    "python_extension_module(hello)\n",
    "\n",
    "# install the compiled Cython target in the same location\n",
    "# of the final Python package\n",
    "# NOTE: the resulting module will be built as a CXX library,\n",
    "# so a binary file in fmt .so, .dll according to the OS\n",
    "install(TARGETS hello LIBRARY DESTINATION cython_hello_world)\n",
    "# dynamic link the Cython library to the pre-built CXX utility\n",
    "# library\n",
    "# NOTE: This line is very important for the correct usage of\n",
    "# the final package and it requires a carefully management of\n",
    "# the imports and environment variables!!\n",
    "# (see cython_hello_world/__init__.py file for a detailed description\n",
    "# of the issues and their possible workarounds...)\n",
    "target_link_libraries(hello ${cython_utilslib})\n",
    "```"
   ]
  },
  {
   "cell_type": "markdown",
   "id": "7897931d",
   "metadata": {
    "slideshow": {
     "slide_type": "slide"
    }
   },
   "source": [
    "**NOTE:** The possibility to fill configuration file during compile time allows to easily generalize the scripts keeping track of the versioning of our package!\n",
    "\n",
    "The output of our compiler will be a library (aka `.so` file) which will contain all the instructions compatible with the Python interpreter.\n",
    "\n",
    "**Great language!**"
   ]
  },
  {
   "cell_type": "markdown",
   "id": "ed478496",
   "metadata": {
    "slideshow": {
     "slide_type": "slide"
    }
   },
   "source": [
    "## Steps\n",
    "\n",
    "* [x] write the C++ code\n",
    "* [x] write the Cython code\n",
    "* [x] write the instruction to compile our cython code with C++ compiler\n",
    "* [x] integrate the compiler with CMake support"
   ]
  },
  {
   "cell_type": "markdown",
   "id": "c97f3719",
   "metadata": {
    "slideshow": {
     "slide_type": "fragment"
    }
   },
   "source": [
    "* [ ] build the setup file for the correct building of the **Python** counter part!"
   ]
  },
  {
   "cell_type": "markdown",
   "id": "74f55a9f",
   "metadata": {
    "slideshow": {
     "slide_type": "slide"
    }
   },
   "source": [
    "**`setup.py` (part 1)**\n",
    "```python\n",
    "#!/usr/bin/env python\n",
    "# -*- coding: utf-8 -*-\n",
    "\n",
    "import warnings\n",
    "from skbuild import setup\n",
    "\n",
    "PACKAGE_NAME = 'cython_hello_world'\n",
    "AUTHOR = 'Nico Curti'\n",
    "EMAIL = 'nico.curti2@unibo.it'\n",
    "REQUIRES_PYTHON = '>=3.5'\n",
    "KEYWORDS = 'scikit-build cython examples dummy'\n",
    "PACKAGE_VERSION = '0.0.1'\n",
    "DESCRIPTION = 'MWE for Cython build with scikit-build support'\n",
    "```"
   ]
  },
  {
   "cell_type": "markdown",
   "id": "4862bc18",
   "metadata": {
    "slideshow": {
     "slide_type": "slide"
    }
   },
   "source": [
    "**`setup.py` (part 2)**\n",
    "```python\n",
    "setup(\n",
    "    name=PACKAGE_NAME,\n",
    "    version=PACKAGE_VERSION,\n",
    "    description=DESCRIPTION,\n",
    "    author=AUTHOR,\n",
    "    author_email=EMAIL,\n",
    "    maintainer=AUTHOR,\n",
    "    maintainer_email=EMAIL,\n",
    "    python_requires=REQUIRES_PYTHON,\n",
    "    keywords=KEYWORDS,\n",
    "    packages=[PACKAGE_NAME,],\n",
    "    package_data={PACKAGE_NAME: ['__version__.py.in',],},\n",
    "    cmake_install_dir='',\n",
    "    cmake_args=[\n",
    "      '-DCMAKE_BUILD_TYPE:STRING=Release',\n",
    "      f'-DPACKAGE_VERSION:STRING={PACKAGE_VERSION}',\n",
    "      f'-DCMAKE_PROJECT_DESCRIPTION:STRING={DESCRIPTION}',\n",
    "    ],)\n",
    "warnings.warn( (\n",
    "  'Dynamic libraries added to the installation path. '\n",
    "  'Please add to the LD_LIBRARY_PATH the current installation path to avoid '\n",
    "  'possible ImportError exception '\n",
    "  ),\n",
    "  category=UserWarning)\n",
    "```"
   ]
  },
  {
   "cell_type": "markdown",
   "id": "57e2d3ce",
   "metadata": {
    "slideshow": {
     "slide_type": "slide"
    }
   },
   "source": [
    "Some **NOTE**:\n",
    "\n",
    "1. The definition of the variables in the header of the setup script allows a fast editing of the information\n",
    "2. Further details about our package can be inserted into a dedicated `pyproject.toml` file, which follows the `ini` format\n",
    "3. The most important thing is the insertion of the generated library into the `LD_LIBRARY_PATH` environment variable.\n",
    "    To prevent possible user issue, a dedicated warning is raised at the end of the installation!\n",
    "    This could be avoided setting the installation of the Cython library in the standard library path, but it is a practice useful **only** for the release phase!"
   ]
  },
  {
   "cell_type": "markdown",
   "id": "58451d73",
   "metadata": {
    "slideshow": {
     "slide_type": "slide"
    }
   },
   "source": [
    "Now everything is ready and we can simply build all our project with the command\n",
    "\n",
    "```bash\n",
    "$ python -m pip install . -v\n",
    "```"
   ]
  },
  {
   "cell_type": "markdown",
   "id": "a1cc5f66",
   "metadata": {
    "slideshow": {
     "slide_type": "slide"
    }
   },
   "source": [
    "# Summary\n",
    "\n",
    "1. `C++` language for the source code definition and the \"real\" computation\n",
    "2. `CMake` language for the building of the C++ codes, providing a solution independent from the OS\n",
    "3. `Cython` language for the wrapping of the C++ code\n",
    "4. `Scikit-build` package for the integration of the CMake into Python\n",
    "5. `Python` for the setup of the package and final usage of the code\n",
    "6. `Bash`/`Powershell` for the run of the scripts\n",
    "\n",
    "**Extra:** we used Doxygen format for the declaration of the C++ information"
   ]
  },
  {
   "cell_type": "markdown",
   "id": "d517337c",
   "metadata": {
    "slideshow": {
     "slide_type": "slide"
    }
   },
   "source": [
    "The reward of all this work:\n",
    "\n",
    "```python\n",
    ">>> from cython_hello_world import HelloWorld\n",
    ">>> HelloWorld('Nico')\n",
    "'Hello Nico'\n",
    "```\n",
    "\n",
    "**GREAT JOB!!**"
   ]
  },
  {
   "cell_type": "markdown",
   "id": "0c9919ec",
   "metadata": {
    "slideshow": {
     "slide_type": "slide"
    }
   },
   "source": [
    "## And the vice versa??\n",
    "\n",
    "### Is it possible to integrate Python into C++?"
   ]
  },
  {
   "cell_type": "markdown",
   "id": "364b1a15",
   "metadata": {
    "slideshow": {
     "slide_type": "slide"
    }
   },
   "source": [
    "The Python language **is** a C++ code... so the answer is certainly **YES**\n",
    "\n",
    "There are also several libraries very interesting and useful which aim to address this task"
   ]
  },
  {
   "cell_type": "markdown",
   "id": "cd478b07",
   "metadata": {
    "slideshow": {
     "slide_type": "slide"
    }
   },
   "source": [
    "```c++\n",
    "#define PY_SSIZE_T_CLEAN\n",
    "#include <Python.h>\n",
    "\n",
    "int\n",
    "main(int argc, char *argv[])\n",
    "{\n",
    "    wchar_t *program = Py_DecodeLocale(argv[0], NULL);\n",
    "    if (program == NULL) {\n",
    "        fprintf(stderr, \"Fatal error: cannot decode argv[0]\\n\");\n",
    "        exit(1);\n",
    "    }\n",
    "    Py_SetProgramName(program);  /* optional but recommended */\n",
    "    Py_Initialize();\n",
    "    PyRun_SimpleString(\"from time import time,ctime\\n\"\n",
    "                       \"print('Today is', ctime(time()))\\n\");\n",
    "    if (Py_FinalizeEx() < 0) {\n",
    "        exit(120);\n",
    "    }\n",
    "    PyMem_RawFree(program);\n",
    "    return 0;\n",
    "}\n",
    "```"
   ]
  },
  {
   "cell_type": "markdown",
   "id": "7a887e7b",
   "metadata": {
    "slideshow": {
     "slide_type": "slide"
    }
   },
   "source": [
    "Other interesting libraries:\n",
    "\n",
    "* [matplotlib-cpp](https://github.com/lava/matplotlib-cpp) Possibly the simplest C++ plotting library.\n",
    "* [NumCpp](https://github.com/dpilger26/NumCpp) A Templatized Header Only C++ Implementation of the Python NumPy Library"
   ]
  }
 ],
 "metadata": {
  "celltoolbar": "Slideshow",
  "kernelspec": {
   "display_name": "Python 3 (ipykernel)",
   "language": "python",
   "name": "python3"
  },
  "language_info": {
   "codemirror_mode": {
    "name": "ipython",
    "version": 3
   },
   "file_extension": ".py",
   "mimetype": "text/x-python",
   "name": "python",
   "nbconvert_exporter": "python",
   "pygments_lexer": "ipython3",
   "version": "3.10.4"
  }
 },
 "nbformat": 4,
 "nbformat_minor": 5
}
