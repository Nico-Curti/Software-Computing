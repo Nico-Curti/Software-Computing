{
 "cells": [
  {
   "cell_type": "markdown",
   "id": "90a1f6fb",
   "metadata": {
    "slideshow": {
     "slide_type": "slide"
    }
   },
   "source": [
    "# Web API\n",
    "\n",
    "**Author:** Nico Curti\n",
    "\n",
    "**Course:** Software and Computing for Applied Physics - 87948\n",
    "\n",
    "**Github:** [Nico-Curti](https://github.com/Nico-Curti)"
   ]
  },
  {
   "cell_type": "markdown",
   "id": "ae91c2da",
   "metadata": {
    "slideshow": {
     "slide_type": "slide"
    }
   },
   "source": [
    "In many real case studies we need to develop applications capable to comunicate with an external program/database, getting the data from it and/or update its records from another program.\n",
    "\n",
    "All these tasks requires the creation of **communications** between programs and/or via internet connection."
   ]
  },
  {
   "cell_type": "markdown",
   "id": "df8a1c2c",
   "metadata": {
    "slideshow": {
     "slide_type": "slide"
    }
   },
   "source": [
    "## How can we comunicate with another program?"
   ]
  },
  {
   "cell_type": "markdown",
   "id": "5e0621c4",
   "metadata": {
    "slideshow": {
     "slide_type": "slide"
    }
   },
   "source": [
    "The communication between programs can be established via Internet connection, creating a \"dialog\" between programs who listen and communicate using the PORTs.\n",
    "\n",
    "The current Jupyter Notebook is a program which is running in my computer and it is sending some directives to a port in my computer (*localhost*) allowing me to write this slide!"
   ]
  },
  {
   "cell_type": "markdown",
   "id": "b57299b1",
   "metadata": {
    "slideshow": {
     "slide_type": "slide"
    }
   },
   "source": [
    "By definition:\n",
    "\n",
    "> A network **socket** is a software structure within a network node of a computer network that serves as an endpoint for sending and receiving data across the network. \n",
    "> The structure and properties of a socket are defined by an application programming interface (API) for the networking architecture. \n",
    "> Sockets are created only during the lifetime of a process of an application running in the node. "
   ]
  },
  {
   "cell_type": "markdown",
   "id": "8746bea6",
   "metadata": {
    "slideshow": {
     "slide_type": "slide"
    }
   },
   "source": [
    "In all your web API projects you need to manage (at the same time!) two main elements:\n",
    "\n",
    "* A **server** which hosts your information and it is ready to listen and send something\n",
    "* A **client** which typically produce something that must be sent to the *server*"
   ]
  },
  {
   "cell_type": "markdown",
   "id": "3882feec",
   "metadata": {
    "slideshow": {
     "slide_type": "slide"
    }
   },
   "source": [
    "If you want to simply test this behavior, you can try to use the standard **netcat** program in Unix systems:\n",
    "\n",
    "1. Open 2 shells (S1 and S2)\n",
    "2. In S1 run the command `nc -lv 1111`\n",
    "3. In S2 run the command `nc -v localhost 1111`\n",
    "4. Keeping both the shells side-by-side, write something in S2"
   ]
  },
  {
   "cell_type": "markdown",
   "id": "e928b193",
   "metadata": {
    "slideshow": {
     "slide_type": "fragment"
    }
   },
   "source": [
    "| Shell 1 | Shell 2|\n",
    "|:--------|:-------|\n",
    "|`$ nc -lv 1111` | `nc -v localhost 1111`|\n",
    "|`Listening on 0.0.0.0 1111` | `Connection to localhost 1111 port [tcp/*] succeeded!` |\n",
    "|`Hi My name is Nico`|`Hi My name is Nico`|"
   ]
  },
  {
   "cell_type": "markdown",
   "id": "fe0936f8",
   "metadata": {
    "slideshow": {
     "slide_type": "slide"
    }
   },
   "source": [
    "## You have just created your first chat system!\n",
    "\n",
    "\n",
    "### Now let's move to something more interesting"
   ]
  },
  {
   "cell_type": "markdown",
   "id": "7b5697f4",
   "metadata": {
    "slideshow": {
     "slide_type": "slide"
    }
   },
   "source": [
    "Python's socket module provides an interface to the Berkeley sockets API. \n",
    "\n",
    "As part of its standard library, Python also has classes that make using these low-level socket functions easier."
   ]
  },
  {
   "attachments": {},
   "cell_type": "markdown",
   "id": "96b03c8e",
   "metadata": {
    "slideshow": {
     "slide_type": "slide"
    }
   },
   "source": [
    "<img src=\"https://files.realpython.com/media/sockets-tcp-flow.1da426797e37.jpg\" width=\"400\"/>"
   ]
  },
  {
   "cell_type": "markdown",
   "id": "eb222dc5",
   "metadata": {
    "slideshow": {
     "slide_type": "slide"
    }
   },
   "source": [
    "## A very simple implementation\n",
    "\n",
    "Let's try to emulate the same behavior of `netcat` program with an `echo` communication."
   ]
  },
  {
   "cell_type": "markdown",
   "id": "740634d6",
   "metadata": {
    "slideshow": {
     "slide_type": "slide"
    }
   },
   "source": [
    "**Echo Server** `echo-server.py`\n",
    "\n",
    "```python\n",
    "import socket\n",
    "\n",
    "HOST = '127.0.0.1'  # Standard loopback interface address (localhost)\n",
    "PORT = 65432  # Port to listen on (non-privileged ports are > 1023)\n",
    "\n",
    "with socket.socket(socket.AF_INET, socket.SOCK_STREAM) as s:\n",
    "    s.bind((HOST, PORT))\n",
    "    s.listen()\n",
    "    conn, addr = s.accept()\n",
    "    with conn:\n",
    "        print(f'Connected by {addr}')\n",
    "        while True:\n",
    "            data = conn.recv(1024) # number of bytes\n",
    "            if not data:\n",
    "                break\n",
    "            conn.sendall(data)\n",
    "```"
   ]
  },
  {
   "cell_type": "markdown",
   "id": "64954ec6",
   "metadata": {
    "slideshow": {
     "slide_type": "slide"
    }
   },
   "source": [
    "**Echo Client** `echo-client.py`\n",
    "\n",
    "```python\n",
    "import socket\n",
    "\n",
    "HOST = '127.0.0.1'  # The server's hostname or IP address\n",
    "PORT = 65432  # The port used by the server\n",
    "\n",
    "with socket.socket(socket.AF_INET, socket.SOCK_STREAM) as s:\n",
    "    s.connect((HOST, PORT))\n",
    "    s.sendall(b'Hello, world')\n",
    "    data = s.recv(1024)\n",
    "\n",
    "print(f'Received {data!r}')\n",
    "```"
   ]
  },
  {
   "cell_type": "markdown",
   "id": "5135d8c7",
   "metadata": {
    "slideshow": {
     "slide_type": "slide"
    }
   },
   "source": [
    "Now we need to run the two codes in two different shells, starting from the *server* one (!!) which will start to listen in the given port"
   ]
  },
  {
   "cell_type": "markdown",
   "id": "0da6b1e8",
   "metadata": {
    "slideshow": {
     "slide_type": "fragment"
    }
   },
   "source": [
    "*Shell 1*\n",
    "```bash\n",
    "$ python echo-server.py\n",
    "```\n",
    "\n",
    "*Shell 2*\n",
    "```bash\n",
    "$ python echo-client.py\n",
    "Received b'Hello, world'\n",
    "```"
   ]
  },
  {
   "cell_type": "markdown",
   "id": "f378c63e",
   "metadata": {
    "slideshow": {
     "slide_type": "slide"
    }
   },
   "source": [
    "Some **NOTE**:\n",
    "\n",
    "1. The information sent by the server/client **must** be bytes!\n",
    "2. Despite all the variables defined in a software are \"composed\" by bytes, you need to always specify how convert them into bytes\n",
    "3. The object, indeed, must be **serializable** (!) and you can always define the criteria of serialization into your custom classes\n",
    "4. The same criteria is used for the communication between multiple processes into a **distributed computing** framework (ref. MPI)"
   ]
  },
  {
   "cell_type": "code",
   "execution_count": 4,
   "id": "34e90afc",
   "metadata": {
    "slideshow": {
     "slide_type": "slide"
    }
   },
   "outputs": [
    {
     "name": "stdout",
     "output_type": "stream",
     "text": [
      "{'Hello': 'World!'}\n",
      "b'\\x80\\x04\\x95\\x15\\x00\\x00\\x00\\x00\\x00\\x00\\x00}\\x94\\x8c\\x05Hello\\x94\\x8c\\x06World!\\x94s.'\n",
      "{'Hello': 'World!'}\n"
     ]
    }
   ],
   "source": [
    "import pickle\n",
    "\n",
    "test_dict = {'Hello': 'World!'}\n",
    "print(test_dict)\n",
    "\n",
    "test_dict_ba = pickle.dumps(test_dict)\n",
    "print(test_dict_ba)\n",
    "\n",
    "test_dict_reconstructed_ba = pickle.loads(test_dict_ba)\n",
    "print(test_dict_reconstructed_ba)"
   ]
  },
  {
   "cell_type": "code",
   "execution_count": 6,
   "id": "10281bdc",
   "metadata": {
    "slideshow": {
     "slide_type": "slide"
    }
   },
   "outputs": [
    {
     "name": "stdout",
     "output_type": "stream",
     "text": [
      "1\n",
      "Data from reconstructed object: 1\n"
     ]
    }
   ],
   "source": [
    "class NewClass:\n",
    "    def __init__(self, data):\n",
    "        print(data)\n",
    "        self.data = data\n",
    "\n",
    "# Create an object of NewClass\n",
    "new_class = NewClass(1)\n",
    " \n",
    "# Serialize and deserialize\n",
    "pickled_data = pickle.dumps(new_class)\n",
    "reconstructed = pickle.loads(pickled_data)\n",
    " \n",
    "# Verify\n",
    "print('Data from reconstructed object:', reconstructed.data)"
   ]
  },
  {
   "cell_type": "markdown",
   "id": "89143362",
   "metadata": {
    "slideshow": {
     "slide_type": "slide"
    }
   },
   "source": [
    "If your class has more complex data like `numpy` arrays, you can override the magic member function `__reduce__` to preserve the compatibility with `pickle` serialization"
   ]
  },
  {
   "cell_type": "code",
   "execution_count": 8,
   "id": "0e80214e",
   "metadata": {
    "slideshow": {
     "slide_type": "fragment"
    }
   },
   "outputs": [
    {
     "ename": "TypeError",
     "evalue": "cannot pickle '_io.BufferedWriter' object",
     "output_type": "error",
     "traceback": [
      "\u001b[1;31m---------------------------------------------------------------------------\u001b[0m",
      "\u001b[1;31mTypeError\u001b[0m                                 Traceback (most recent call last)",
      "Input \u001b[1;32mIn [8]\u001b[0m, in \u001b[0;36m<cell line: 10>\u001b[1;34m()\u001b[0m\n\u001b[0;32m      8\u001b[0m my_test \u001b[38;5;241m=\u001b[39m Test()\n\u001b[0;32m      9\u001b[0m \u001b[38;5;66;03m# Now, watch what happens when we try to pickle this object:\u001b[39;00m\n\u001b[1;32m---> 10\u001b[0m \u001b[43mpickle\u001b[49m\u001b[38;5;241;43m.\u001b[39;49m\u001b[43mdumps\u001b[49m\u001b[43m(\u001b[49m\u001b[43mmy_test\u001b[49m\u001b[43m)\u001b[49m\n",
      "\u001b[1;31mTypeError\u001b[0m: cannot pickle '_io.BufferedWriter' object"
     ]
    }
   ],
   "source": [
    "import pickle\n",
    "\n",
    "class Test(object):\n",
    "    def __init__(self, file_path='test1234567890.txt'):\n",
    "        # An open file in write mode\n",
    "        self.some_file_i_have_opened = open(file_path, 'wb')\n",
    "\n",
    "my_test = Test()\n",
    "# Now, watch what happens when we try to pickle this object:\n",
    "pickle.dumps(my_test)"
   ]
  },
  {
   "cell_type": "markdown",
   "id": "3f4d56d0",
   "metadata": {
    "slideshow": {
     "slide_type": "slide"
    }
   },
   "source": [
    "If your class has more complex data like `numpy` arrays, you can override the magic member function `__reduce__` to preserve the compatibility with `pickle` serialization"
   ]
  },
  {
   "cell_type": "code",
   "execution_count": 10,
   "id": "7a425cd9",
   "metadata": {
    "slideshow": {
     "slide_type": "fragment"
    }
   },
   "outputs": [
    {
     "name": "stdout",
     "output_type": "stream",
     "text": [
      "b'\\x80\\x04\\x95.\\x00\\x00\\x00\\x00\\x00\\x00\\x00\\x8c\\x08__main__\\x94\\x8c\\x04Test\\x94\\x93\\x94\\x8c\\x12test1234567890.txt\\x94\\x85\\x94R\\x94.'\n"
     ]
    }
   ],
   "source": [
    "import pickle\n",
    "\n",
    "class Test(object):\n",
    "    def __init__(self, file_path='test1234567890.txt'):\n",
    "        # Used later in __reduce__\n",
    "        self._file_name_we_opened = file_path\n",
    "        # An open file in write mode\n",
    "        self.some_file_i_have_opened = open(self._file_name_we_opened, 'wb')\n",
    "        \n",
    "    def __reduce__(self):\n",
    "        # we return a tuple of class_name to call,\n",
    "        # and optional parameters to pass when re-creating\n",
    "        return (self.__class__, (self._file_name_we_opened, ))\n",
    "\n",
    "my_test = Test()\n",
    "saved_object = pickle.dumps(my_test)\n",
    "print(repr(saved_object))"
   ]
  },
  {
   "cell_type": "markdown",
   "id": "3d207767",
   "metadata": {
    "slideshow": {
     "slide_type": "slide"
    }
   },
   "source": [
    "If you want to see a more advanced application of this type, sending and receiving more complex data and instructions, you can take a look at the [CryptoSocket](https://github.com/Nico-Curti/CryptoSocket) repository."
   ]
  },
  {
   "cell_type": "markdown",
   "id": "90ffe585",
   "metadata": {
    "slideshow": {
     "slide_type": "slide"
    }
   },
   "source": [
    "## Move to the Web"
   ]
  },
  {
   "cell_type": "markdown",
   "id": "aca93134",
   "metadata": {
    "slideshow": {
     "slide_type": "slide"
    }
   },
   "source": [
    "The major part of the current web development is performed using other languages like HTML, Javascript, and CSS.\n",
    "\n",
    "This is mainly due to the expertise of the current generation of developers and to the ease of Javascript.\n",
    "\n",
    "Since we need to keep up with them, let's move to `Javascript`."
   ]
  },
  {
   "cell_type": "markdown",
   "id": "fb882bd0",
   "metadata": {
    "slideshow": {
     "slide_type": "slide"
    }
   },
   "source": [
    "Some **NOTE**:\n",
    "\n",
    "1. **HyperText Markup Language** or **HTML** is the standard <u>markup</u> language for documents <u>designed</u> to be displayed in a web browser. \n",
    "    It defines the content and structure of web content.\n",
    "    \n",
    "2. **Cascading Style Sheets (CSS)** is a style sheet language used for specifying the <u>presentation</u> and <u>styling</u> of a document written in a markup language such as HTML or XML (including XML dialects such as SVG, MathML or XHTML)\n",
    "\n",
    "3. **JavaScript (JS)**, is a programming language and core technology of the Web, alongside HTML and CSS. 99% of websites use JavaScript on the client side for <u>webpage behavior</u>"
   ]
  },
  {
   "cell_type": "markdown",
   "id": "d0a2c8ba",
   "metadata": {
    "slideshow": {
     "slide_type": "slide"
    }
   },
   "source": [
    "If you want to keep your Python habits, you can easily change the Javascript support integrating your project with other third-party libraries.\n",
    "\n",
    "The most famous (and easy to use) is probably [Flask](https://flask.palletsprojects.com/en/3.0.x/)"
   ]
  },
  {
   "cell_type": "markdown",
   "id": "8800c6d7",
   "metadata": {
    "slideshow": {
     "slide_type": "slide"
    }
   },
   "source": [
    "## Our first Web Example"
   ]
  },
  {
   "cell_type": "markdown",
   "id": "50bf1946",
   "metadata": {
    "slideshow": {
     "slide_type": "fragment"
    }
   },
   "source": [
    "We have a very important database with private data that cannot be shared with the entire world."
   ]
  },
  {
   "cell_type": "markdown",
   "id": "994b40ce",
   "metadata": {
    "slideshow": {
     "slide_type": "fragment"
    }
   },
   "source": [
    "This database will be host by a private server with high computational power."
   ]
  },
  {
   "cell_type": "markdown",
   "id": "cd136492",
   "metadata": {
    "slideshow": {
     "slide_type": "fragment"
    }
   },
   "source": [
    "We have a series of collaborators who want to analyze our data and also update them with new records (data collection)."
   ]
  },
  {
   "cell_type": "markdown",
   "id": "1dbf2331",
   "metadata": {
    "slideshow": {
     "slide_type": "slide"
    }
   },
   "source": [
    "> In all your web API projects you need to manage (at the same time!) two main elements:\n",
    "> * A **server** which hosts your information and it is ready to listen and send something\n",
    "> * A **client** which typically produce something that must be sent to the *server*\n",
    "\n",
    "**Server**: the computer which host the data\n",
    "\n",
    "**Client**: the partners who want to get access to our data"
   ]
  },
  {
   "cell_type": "markdown",
   "id": "1e11c988",
   "metadata": {
    "slideshow": {
     "slide_type": "fragment"
    }
   },
   "source": [
    "And the protection?!"
   ]
  },
  {
   "cell_type": "markdown",
   "id": "b4d7ada7",
   "metadata": {
    "slideshow": {
     "slide_type": "slide"
    }
   },
   "source": [
    "### We need to develop a login authentication service"
   ]
  },
  {
   "cell_type": "markdown",
   "id": "f2444df7",
   "metadata": {
    "slideshow": {
     "slide_type": "slide"
    }
   },
   "source": [
    "```bash\n",
    "web\n",
    "├── client\n",
    "└── server\n",
    "\n",
    "2 directories, 0 files\n",
    "```"
   ]
  },
  {
   "cell_type": "markdown",
   "id": "f41b40cc",
   "metadata": {
    "slideshow": {
     "slide_type": "slide"
    }
   },
   "source": [
    "First of all we need to create a fake database to use as toy model.\n",
    "\n",
    "For sake of simplicity, we will use a standard `MySQL` database ([installer](https://dev.mysql.com/downloads/installer/)).\n",
    "\n",
    "```bash\n",
    "$ sudo service mysql start\n",
    "$ sudo mysql\n",
    "Welcome to the MySQL monitor.  Commands end with ; or \\g.\n",
    "Your MySQL connection id is 11\n",
    "Server version: 8.0.35-0ubuntu0.20.04.1 (Ubuntu)\n",
    "\n",
    "Copyright (c) 2000, 2023, Oracle and/or its affiliates.\n",
    "\n",
    "Oracle is a registered trademark of Oracle Corporation and/or its\n",
    "affiliates. Other names may be trademarks of their respective\n",
    "owners.\n",
    "\n",
    "Type 'help;' or '\\h' for help. Type '\\c' to clear the current input statement.\n",
    "\n",
    "mysql>\n",
    "```"
   ]
  },
  {
   "cell_type": "markdown",
   "id": "84bb1e26",
   "metadata": {
    "slideshow": {
     "slide_type": "slide"
    }
   },
   "source": [
    "MySQL has its own syntax and to keep track of the tables and data that we want to manage is always preferable to write a `scheme.sql` file."
   ]
  },
  {
   "cell_type": "markdown",
   "id": "12a7ceb1",
   "metadata": {
    "slideshow": {
     "slide_type": "slide"
    }
   },
   "source": [
    "**`server/scheme.sql`**\n",
    "```sql\n",
    "CREATE DATABASE IF NOT EXISTS `test` DEFAULT CHARACTER SET utf8 COLLATE utf8_general_ci;\n",
    "USE test;\n",
    "```"
   ]
  },
  {
   "cell_type": "markdown",
   "id": "01bfb4a6",
   "metadata": {
    "slideshow": {
     "slide_type": "slide"
    }
   },
   "source": [
    "**`server/scheme.sql`**\n",
    "```sql\n",
    "CREATE TABLE IF NOT EXISTS `accounts` (\n",
    "  `id` int(20) NOT NULL AUTO_INCREMENT,\n",
    "  `password` varchar(10) NOT NULL,\n",
    "  `email` varchar(100) NOT NULL,\n",
    "  `token` varchar(42),\n",
    "  `create_date` date NOT NULL,\n",
    "  `last_login` date,\n",
    "  PRIMARY KEY (`id`)\n",
    ") ENGINE=InnoDB AUTO_INCREMENT=1 DEFAULT CHARSET=utf8;\n",
    "```"
   ]
  },
  {
   "cell_type": "markdown",
   "id": "dea55301",
   "metadata": {
    "slideshow": {
     "slide_type": "slide"
    }
   },
   "source": [
    "**`server/scheme.sql`**\n",
    "```sql\n",
    "# debug account\n",
    "INSERT INTO `accounts` (`id`, `password`, `email`, `create_date`) VALUES (1, 'test', 'test@test.com', '2024-01-06');\n",
    "```"
   ]
  },
  {
   "cell_type": "markdown",
   "id": "d1e2b78b",
   "metadata": {
    "slideshow": {
     "slide_type": "slide"
    }
   },
   "source": [
    "You can find a complete list of the instructions for the MySQL database management at this [link](https://dev.mysql.com/doc/refman/8.0/en/sql-data-manipulation-statements.html)\n",
    "\n",
    "However, the most common queries involve the use of these keywords:\n",
    "\n",
    "* `SELECT`: allows to extract some information from a given table\n",
    "* `INSERT`: allows to add new records in a given table\n",
    "* `UPDATE`: allows to update an existing record in a given table\n",
    "* `DELETE`: allows to remove an existing record in a given table"
   ]
  },
  {
   "cell_type": "markdown",
   "id": "43534dc1",
   "metadata": {
    "slideshow": {
     "slide_type": "slide"
    }
   },
   "source": [
    "Now we have created the scheme of our database and we can simply copy&paste these instructions into the real MySQL database.\n",
    "\n",
    "```bash\n",
    "web\n",
    "├── client\n",
    "└── server\n",
    "    └── scheme.sql\n",
    "\n",
    "2 directories, 1 file\n",
    "```"
   ]
  },
  {
   "cell_type": "markdown",
   "id": "9934c2b4",
   "metadata": {
    "slideshow": {
     "slide_type": "slide"
    }
   },
   "source": [
    "For the management of the database we will use JS language.\n",
    "\n",
    "JS should already installed in your computer as much as the package manager associated to it.\n",
    "Since the MySQL support is provided by an external-package, you can simply install it (and verify the support of JS) using the command:\n",
    "\n",
    "```bash\n",
    "web/server$ npm install mysql2\n",
    "\n",
    "added 12 packages, and audited 14 packages in 1s\n",
    "\n",
    "found 0 vulnerabilities\n",
    "```"
   ]
  },
  {
   "cell_type": "markdown",
   "id": "b5d8b7b5",
   "metadata": {
    "slideshow": {
     "slide_type": "subslide"
    }
   },
   "source": [
    "If the software `npm` is already installed, you can simply get it using the commands\n",
    "\n",
    "```bash\n",
    "$ sudo apt update\n",
    "$ sudo apt install nodejs\n",
    "$ node -v\n",
    "$ sudo apt install npm\n",
    "```\n",
    "\n",
    "For Windows user, I recommend to take a look at this [page](https://docs.npmjs.com/downloading-and-installing-node-js-and-npm)"
   ]
  },
  {
   "cell_type": "markdown",
   "id": "38b1824c",
   "metadata": {
    "slideshow": {
     "slide_type": "slide"
    }
   },
   "source": [
    "Something happens in our folder tree:\n",
    "\n",
    "```bash\n",
    "web/\n",
    "├── client\n",
    "└── server\n",
    "    ├── node_modules\n",
    "    ├── package-lock.json\n",
    "    ├── package.json\n",
    "    └── scheme.sql\n",
    "\n",
    "3 directories, 3 files\n",
    "```"
   ]
  },
  {
   "cell_type": "markdown",
   "id": "ce3d08be",
   "metadata": {
    "slideshow": {
     "slide_type": "slide"
    }
   },
   "source": [
    "### Let's start with JS"
   ]
  },
  {
   "cell_type": "markdown",
   "id": "7b7d8dd3",
   "metadata": {
    "slideshow": {
     "slide_type": "slide"
    }
   },
   "source": [
    "**`server/database.js`**\n",
    "```js\n",
    "// connection with db\n",
    "import mysql from 'mysql2'\n",
    "\n",
    "// connect to the MYSQL db with a pool of\n",
    "// async connections\n",
    "const db = mysql.createPool({\n",
    "  host        : '127.0.0.1',\n",
    "  user        : 'nico.curti2',\n",
    "  password    : 'password',\n",
    "  port        : '3306',\n",
    "  database    : 'test',\n",
    "}).promise();\n",
    "```"
   ]
  },
  {
   "cell_type": "markdown",
   "id": "97003d31",
   "metadata": {
    "slideshow": {
     "slide_type": "slide"
    }
   },
   "source": [
    "Since we have already set a fake account, we can try to get the data inserted in our database using a simple *query*\n",
    "\n",
    "**`server/database.js`**\n",
    "```js\n",
    "const results = await db.query(`\n",
    "    SELECT *\n",
    "    FROM accounts\n",
    "  `);\n",
    "console.log(results);\n",
    "```"
   ]
  },
  {
   "cell_type": "markdown",
   "id": "21cb27bc",
   "metadata": {
    "slideshow": {
     "slide_type": "slide"
    }
   },
   "source": [
    "The keyword `promise` and `await` are standard syntaxes for the management of asynchronous processes.\n",
    "\n",
    "In the first case, your performing exactly a `promise` about something that will be evaluated (sooner or later), telling to the rest of program \"trust me, when you need it the result will be ready\".\n",
    "\n",
    "Since every promise can take a different level of time, the rest of the code should \"wait\" the result, creating a sort of barrier in the execution."
   ]
  },
  {
   "cell_type": "markdown",
   "id": "13a0bb7c",
   "metadata": {
    "slideshow": {
     "slide_type": "slide"
    }
   },
   "source": [
    "### Run our first JS script\n",
    "\n",
    "To run a JS script the syntax is simply `node script.js`, in our case:\n",
    "\n",
    "```bash\n",
    "web/server$ node database.js\n",
    "```"
   ]
  },
  {
   "cell_type": "markdown",
   "id": "10fa52f4",
   "metadata": {
    "slideshow": {
     "slide_type": "fragment"
    }
   },
   "source": [
    "```bash\n",
    "(node:4493) Warning: To load an ES module, set \"type\": \"module\" in the package.json or use the .mjs extension.\n",
    "(Use `node --trace-warnings ...` to show where the warning was created)\n",
    "/mnt/c/Users/utente/Desktop/CONFERENCE/SoftwareAndComputing24/web/server/database.js:3\n",
    "import mysql from 'mysql2'\n",
    "^^^^^^\n",
    "\n",
    "SyntaxError: Cannot use import statement outside a module\n",
    "```"
   ]
  },
  {
   "cell_type": "markdown",
   "id": "acae3343",
   "metadata": {
    "slideshow": {
     "slide_type": "slide"
    }
   },
   "source": [
    "### The error provides the solution!\n",
    "\n",
    "JS works in the same way of Python, so you can write your code directly in a script file **but** if you want to break it into a series of files (like in our case!) you need to declare the script as a \"module\" file.\n",
    "\n",
    "In our case, indeed, we are trying to import other functions from an independent (series of) file(s) stored in 'mysql2' folder"
   ]
  },
  {
   "cell_type": "markdown",
   "id": "833ca39f",
   "metadata": {
    "slideshow": {
     "slide_type": "slide"
    }
   },
   "source": [
    "**`server/package.json`**\n",
    "```json\n",
    "{\n",
    "  \"name\": \"test-server\",\n",
    "  \"type\": \"module\",\n",
    "  \"version\": \"0.0.1\",\n",
    "  \"keywords\": [],\n",
    "  \"author\": \"Nico Curti\",\n",
    "  \"license\": \"MIT\",\n",
    "  \"dependencies\": {\n",
    "    \"mysql2\": \"^3.9.7\"\n",
    "  }\n",
    "}\n",
    "```"
   ]
  },
  {
   "cell_type": "markdown",
   "id": "7dd7f362",
   "metadata": {
    "slideshow": {
     "slide_type": "slide"
    }
   },
   "source": [
    "Re-running the above code\n",
    "\n",
    "```bash\n",
    "web/server$ node database.js\n",
    "[\n",
    "  [\n",
    "    {\n",
    "      id: 1,\n",
    "      password: 'test',\n",
    "      email: 'test@test.com',      \n",
    "      create_date: '2024-04-26',\n",
    "      last_login: '2024-04-26'\n",
    "    }\n",
    "  ],\n",
    "  [\n",
    "    `id` INT(20) NOT NULL PRIMARY KEY AUTO_INCREMENT,\n",
    "    `password` VARCHAR(10) NOT NULL,\n",
    "    `email` VARCHAR(100) NOT NULL,\n",
    "    `create_date` DATE(10) NOT NULL,\n",
    "    `last_login` DATE(10)\n",
    "  ]\n",
    "]\n",
    "```"
   ]
  },
  {
   "cell_type": "markdown",
   "id": "68d665e0",
   "metadata": {
    "slideshow": {
     "slide_type": "slide"
    }
   },
   "source": [
    "The program doesn't stop at the end of the task, since JS should be always ready to listen and receive new information (great language!)\n",
    "\n",
    "The output is a simple list that can be manage with the \"standard\" syntax of all the other languages"
   ]
  },
  {
   "cell_type": "markdown",
   "id": "c5eb5c87",
   "metadata": {
    "slideshow": {
     "slide_type": "slide"
    }
   },
   "source": [
    "**`server/database.js`**\n",
    "```js\n",
    "const results = await db.query(`\n",
    "    SELECT *\n",
    "    FROM accounts\n",
    "  `);\n",
    "console.log(results[0]);\n",
    "```\n",
    "\n",
    "```bash\n",
    "web/server$ node database.js\n",
    "[\n",
    "  {\n",
    "    id: 1,\n",
    "    password: 'test',\n",
    "    email: 'test@test.com',      \n",
    "    create_date: '2024-04-26',\n",
    "    last_login: '2024-04-26'\n",
    "  }\n",
    "]\n",
    "```"
   ]
  },
  {
   "cell_type": "markdown",
   "id": "0a9f42d7",
   "metadata": {
    "slideshow": {
     "slide_type": "slide"
    }
   },
   "source": [
    "**`server/database.js`**\n",
    "```js\n",
    "const [value, table_info] = await db.query(`\n",
    "    SELECT *\n",
    "    FROM accounts\n",
    "  `);\n",
    "console.log(value);\n",
    "```\n",
    "\n",
    "```bash\n",
    "web/server$ node database.js\n",
    "[\n",
    "  {\n",
    "    id: 1,\n",
    "    password: 'test',\n",
    "    email: 'test@test.com',      \n",
    "    create_date: '2024-04-26',\n",
    "    last_login: '2024-04-26'\n",
    "  }\n",
    "]\n",
    "```"
   ]
  },
  {
   "cell_type": "markdown",
   "id": "0b1073c8",
   "metadata": {
    "slideshow": {
     "slide_type": "slide"
    }
   },
   "source": [
    "**`server/database.js`**\n",
    "```js\n",
    "const [value, table_info] = await db.query(`\n",
    "    SELECT *\n",
    "    FROM accounts\n",
    "  `);\n",
    "console.log(value[0].email, value[0].password);\n",
    "```\n",
    "\n",
    "```bash\n",
    "web/server$ node database.js\n",
    "test@test.com test\n",
    "```"
   ]
  },
  {
   "cell_type": "markdown",
   "id": "3d3232e2",
   "metadata": {
    "slideshow": {
     "slide_type": "slide"
    }
   },
   "source": [
    "To check whether you are authorized to have access to our database we need to verify if the pair given by (`email`, `password`) is included in our `accounts` table.\n",
    "\n",
    "It would be great to declare a function able to verify this condition!"
   ]
  },
  {
   "cell_type": "markdown",
   "id": "27e35578",
   "metadata": {
    "slideshow": {
     "slide_type": "slide"
    }
   },
   "source": [
    "**`server/database.js`**\n",
    "```js\n",
    "// check the correctness of the pair info\n",
    "// provided in input\n",
    "export async function checkAccount (email, pwd) {\n",
    "  const [rows] = await db.query(`\n",
    "    SELECT *\n",
    "    FROM accounts\n",
    "    WHERE\n",
    "      email = ?\n",
    "    AND\n",
    "      password = ?\n",
    "  `, [email, pwd]);\n",
    "  return rows.length > 0 ? true : false;\n",
    "}\n",
    "\n",
    "const valid = await checkAccount('test@test.com', 'test')\n",
    "console.log(valid);\n",
    "\n",
    "const invalid = await checkAccount('test@test.com', 'hello')\n",
    "console.log(invalid);\n",
    "```"
   ]
  },
  {
   "cell_type": "markdown",
   "id": "b6c3943d",
   "metadata": {
    "slideshow": {
     "slide_type": "slide"
    }
   },
   "source": [
    "Some **NOTE**:\n",
    "\n",
    "* Our function must be callable also from other programs, so we need to \"mark\" it with the keyword `export`.\n",
    "* Our function should work in an asynchronous framework, so we need to \"mark\" it with the keyword `async`.\n",
    "* Our function must tell us if there is at least one record with these two features, so a simple True/False is sufficient."
   ]
  },
  {
   "cell_type": "markdown",
   "id": "aa36ec5a",
   "metadata": {
    "slideshow": {
     "slide_type": "fragment"
    }
   },
   "source": [
    "```bash\n",
    "web/server$ node database.js\n",
    "true\n",
    "false\n",
    "```"
   ]
  },
  {
   "cell_type": "markdown",
   "id": "124fe760",
   "metadata": {
    "slideshow": {
     "slide_type": "slide"
    }
   },
   "source": [
    "Some **NOTE**:\n",
    "\n",
    "* It is never a good option to explicity write our credentials into a script (!)\n",
    "* Furthermore, if we want to upload our codes on Github, it represents a giant vulnerability (!!)\n",
    "* A possibility is given by using a configuration file, loaded at the beginning of the script."
   ]
  },
  {
   "cell_type": "markdown",
   "id": "cb26167e",
   "metadata": {
    "slideshow": {
     "slide_type": "fragment"
    }
   },
   "source": [
    "Fortunately, JS has already thought about these very common issues and provides a ready-to-use solution to address this problem.\n",
    "\n",
    "```bash\n",
    "web/server$ npm install dotenv\n",
    "```"
   ]
  },
  {
   "cell_type": "markdown",
   "id": "1fa2da9b",
   "metadata": {
    "slideshow": {
     "slide_type": "slide"
    }
   },
   "source": [
    "```bash\n",
    "web/\n",
    "├── client\n",
    "└── server\n",
    "    ├── .env\n",
    "    ├── database.js\n",
    "    ├── node_modules\n",
    "    ├── package-lock.json\n",
    "    ├── package.json\n",
    "    └── scheme.sql\n",
    "\n",
    "3 directories, 5 files\n",
    "```"
   ]
  },
  {
   "cell_type": "markdown",
   "id": "c04097e3",
   "metadata": {
    "slideshow": {
     "slide_type": "slide"
    }
   },
   "source": [
    "**`server/.env`**\n",
    "```js\n",
    "MYSQL_HOST='127.0.0.1'\n",
    "MYSQL_USER='nico.curti2'\n",
    "MYSQL_PWD='password'\n",
    "MYSQL_PORT='3306'\n",
    "MYSQL_DATABASE='test'\n",
    "```"
   ]
  },
  {
   "cell_type": "markdown",
   "id": "a0aa26a6",
   "metadata": {
    "slideshow": {
     "slide_type": "slide"
    }
   },
   "source": [
    "**`server/database.js`**\n",
    "```js\n",
    "// connection with db\n",
    "import mysql from 'mysql2'\n",
    "// usage of env variables\n",
    "import dotenv from 'dotenv'\n",
    "\n",
    "// load the env variables from .env file\n",
    "dotenv.config();\n",
    "\n",
    "// connect to the MYSQL db with a pool of\n",
    "// async connections\n",
    "const db = mysql.createPool({\n",
    "  host        : process.env.MYSQL_HOST,\n",
    "  user        : process.env.MYSQL_USER,\n",
    "  password    : process.env.MYSQL_PWD,\n",
    "  port        : process.env.MYSQL_PORT,\n",
    "  database    : process.env.MYSQL_DATABASE,\n",
    "}).promise();\n",
    "```"
   ]
  },
  {
   "cell_type": "markdown",
   "id": "493f0e58",
   "metadata": {
    "slideshow": {
     "slide_type": "slide"
    }
   },
   "source": [
    "Up to now we have defined all the functions which connect our database with a JS script.\n",
    "\n",
    "**NOTE**: the MySQL database is running on a port of our computer (PORT=3306) and it should be already accessible from an authorized program.\n",
    "With our JS script we simply build a user friendly interface to manage the database by *other* programs!"
   ]
  },
  {
   "cell_type": "markdown",
   "id": "4801edc8",
   "metadata": {
    "slideshow": {
     "slide_type": "slide"
    }
   },
   "source": [
    "## Let's move to the web"
   ]
  },
  {
   "cell_type": "markdown",
   "id": "9cefd206",
   "metadata": {
    "slideshow": {
     "slide_type": "slide"
    }
   },
   "source": [
    "We need to create the server application script\n",
    "\n",
    "```bash\n",
    "web/\n",
    "├── client\n",
    "└── server\n",
    "    ├── .env\n",
    "    ├── app.js\n",
    "    ├── database.js\n",
    "    ├── node_modules\n",
    "    ├── package-lock.json\n",
    "    ├── package.json\n",
    "    └── scheme.sql\n",
    "\n",
    "3 directories, 6 files\n",
    "```"
   ]
  },
  {
   "cell_type": "markdown",
   "id": "1d2c6950",
   "metadata": {
    "slideshow": {
     "slide_type": "slide"
    }
   },
   "source": [
    "The purpose of the application script is to play the role of the **server** in our framework.\n",
    "\n",
    "It should be able to listen the information from the environment (setting a particular PORT) and to send information to the possible **client**s."
   ]
  },
  {
   "cell_type": "markdown",
   "id": "df4bc491",
   "metadata": {
    "slideshow": {
     "slide_type": "slide"
    }
   },
   "source": [
    "## How can we communicate with a Web page?"
   ]
  },
  {
   "cell_type": "markdown",
   "id": "2e7ae785",
   "metadata": {
    "slideshow": {
     "slide_type": "slide"
    }
   },
   "source": [
    "When you type an address such as www.google.com into your browser, you are commanding it to open a TCP channel to the server that responds to that URL (or Uniform Resource Locator).\n",
    "\n",
    "In this situation, your computer, which is making the request, is called the client. \n",
    "The URL you are requesting is the address that belongs to the server. \n",
    "Once the TCP connection is established, the client sends a **HTTP GET** request to the server to retrieve the webpage it should display. \n",
    "After the server has sent the response, it closes the TCP connection."
   ]
  },
  {
   "cell_type": "markdown",
   "id": "edfb9a7a",
   "metadata": {
    "slideshow": {
     "slide_type": "slide"
    }
   },
   "source": [
    "Independently by the language/software/code in which you are working, there are 2 main ways to schematize the communication between 2 elements (server and client):\n",
    "\n",
    "* **POST** request: takes in input something to analyze\n",
    "* **GET** request: provides in output the result of the request"
   ]
  },
  {
   "cell_type": "markdown",
   "id": "db60272d",
   "metadata": {
    "slideshow": {
     "slide_type": "slide"
    }
   },
   "source": [
    "### And in our case?\n",
    "\n",
    "We need to provide an authentication, so:\n",
    "\n",
    "* The **client** needs to perform a POST request to server providing the user information\n",
    "* The **server** needs to analyze these infos, giving in output the response"
   ]
  },
  {
   "cell_type": "markdown",
   "id": "b3c258fc",
   "metadata": {
    "slideshow": {
     "slide_type": "slide"
    }
   },
   "source": [
    "Also in this case there is a series of ready-to-use solutions in JS language and in our current example we will use the `express` package\n",
    "\n",
    "```bash\n",
    "web/server$ npm install express\n",
    "\n",
    "added 64 packages, and audited 78 packages in 2s\n",
    "\n",
    "13 packages are looking for funding\n",
    "  run `npm fund` for details\n",
    "\n",
    "found 0 vulnerabilities\n",
    "```"
   ]
  },
  {
   "cell_type": "markdown",
   "id": "eaa5a4e9",
   "metadata": {
    "slideshow": {
     "slide_type": "slide"
    }
   },
   "source": [
    "**`server/app.js`**\n",
    "```js\n",
    "// get/post requests\n",
    "import express from 'express'\n",
    "// import query functions\n",
    "import {\n",
    "  checkAccount\n",
    "} from './database.js'\n",
    "\n",
    "// declare the application\n",
    "const app = express();\n",
    "```"
   ]
  },
  {
   "cell_type": "markdown",
   "id": "99ecd8ac",
   "metadata": {
    "slideshow": {
     "slide_type": "slide"
    }
   },
   "source": [
    "To check the correctness of our script, we can create a simple dummy page that *gets* a message in response."
   ]
  },
  {
   "cell_type": "markdown",
   "id": "9b107657",
   "metadata": {
    "slideshow": {
     "slide_type": "fragment"
    }
   },
   "source": [
    "**`server/app.js`**\n",
    "```js\n",
    "// info and port setting\n",
    "app.listen(8080, () => {\n",
    "  console.log('Server is running on PORT 8080');\n",
    "})\n",
    "// initial page => https://localhost:8080\n",
    "app.get('/', async (req, res) => {\n",
    "  res.status(200).send('Test server is running');\n",
    "});\n",
    "```"
   ]
  },
  {
   "cell_type": "markdown",
   "id": "ddb2f2b8",
   "metadata": {
    "slideshow": {
     "slide_type": "slide"
    }
   },
   "source": [
    "```bash\n",
    "web/server$ node app.js\n",
    "Server is running on PORT 8080\n",
    "```"
   ]
  },
  {
   "cell_type": "markdown",
   "id": "e9200d32",
   "metadata": {
    "slideshow": {
     "slide_type": "fragment"
    }
   },
   "source": [
    "And what's happening in our browser at the address `http://localhost:8080`?"
   ]
  },
  {
   "cell_type": "markdown",
   "id": "6f1a57b1",
   "metadata": {
    "slideshow": {
     "slide_type": "slide"
    }
   },
   "source": [
    "Some **NOTE**:\n",
    "\n",
    "* In the \"standard\" web pages we use the HTTP**S** protocol to achieve the page, while in the above address we have the **HTTP** one!\n",
    "* The *Hypertext Transfer Protocol* (HTTP) is a protocol or an ensemble of rules for the communication between client and server. \n",
    "* The *Hypertext Transfer Protocol Secure* (HTTPS) is a safer way and extension of the classical HTTP. The security is guaranteed by a safer connection between the client and server using cryptography."
   ]
  },
  {
   "cell_type": "markdown",
   "id": "90d7c2fe",
   "metadata": {
    "slideshow": {
     "slide_type": "slide"
    }
   },
   "source": [
    "GET request - Our server is outputting something..."
   ]
  },
  {
   "cell_type": "markdown",
   "id": "15bcf0cf",
   "metadata": {
    "slideshow": {
     "slide_type": "fragment"
    }
   },
   "source": [
    "...but it must be able also to get something in input - POST request"
   ]
  },
  {
   "cell_type": "markdown",
   "id": "753a92e3",
   "metadata": {
    "slideshow": {
     "slide_type": "slide"
    }
   },
   "source": [
    "### Where do we put the data?"
   ]
  },
  {
   "cell_type": "markdown",
   "id": "a94f0af5",
   "metadata": {
    "slideshow": {
     "slide_type": "slide"
    }
   },
   "source": [
    "All the communications between server and client(s) must be performed using *serializable* data structures.\n",
    "\n",
    "The easier way is given by the `JSON` format, which contains both the value and names of the data."
   ]
  },
  {
   "cell_type": "markdown",
   "id": "a715b841",
   "metadata": {
    "slideshow": {
     "slide_type": "slide"
    }
   },
   "source": [
    "The structure of the JSON in HTTP request is well standardized and for our tasks there are 2 main components to take care:\n",
    "\n",
    "* *header*: the header of the request is typically used to extract sensitive information in a GET request\n",
    "* *body*: the body of the request is typically used to send the data, storing all the relevant information to POST"
   ]
  },
  {
   "cell_type": "markdown",
   "id": "08f586e5",
   "metadata": {
    "slideshow": {
     "slide_type": "slide"
    }
   },
   "source": [
    "To allow the correct management of the *body* serialization/de-serialization, we need to add an extra package to our code:\n",
    "\n",
    "```bash\n",
    "web/server$ npm install body-parser\n",
    "```"
   ]
  },
  {
   "cell_type": "markdown",
   "id": "464a27d1",
   "metadata": {
    "slideshow": {
     "slide_type": "slide"
    }
   },
   "source": [
    "And edit our app code:\n",
    "\n",
    "**`server/app.js`**\n",
    "```js\n",
    "// necessary for request body parsing\n",
    "import bodyParser from 'body-parser'\n",
    "\n",
    "// declare the application\n",
    "const app = express();\n",
    "// set the parser for the body post request\n",
    "app.use(bodyParser.json());\n",
    "```"
   ]
  },
  {
   "cell_type": "markdown",
   "id": "17180100",
   "metadata": {
    "slideshow": {
     "slide_type": "slide"
    }
   },
   "source": [
    "Now we can create our POST request, extracting the info from the body of the request and verifying their validity using our `checkAccount` function."
   ]
  },
  {
   "cell_type": "markdown",
   "id": "3388ecd7",
   "metadata": {
    "slideshow": {
     "slide_type": "slide"
    }
   },
   "source": [
    "**`server/app.js`**\n",
    "```js\n",
    "// check authentication\n",
    "app.post('/auth', async (req, res) => {\n",
    "  // extract the user, pwd from the post request\n",
    "  const { email, password } = req.body;\n",
    "  // query the db in the user table\n",
    "  let account = await checkAccount(email, password);\n",
    "  // if it is valid\n",
    "  if (account) {\n",
    "    res.status(200).send('Login Success');\n",
    "  } else {\n",
    "    res.status(201).send('Login Failed');\n",
    "  }\n",
    "});\n",
    "```"
   ]
  },
  {
   "cell_type": "markdown",
   "id": "556ca44b",
   "metadata": {
    "slideshow": {
     "slide_type": "slide"
    }
   },
   "source": [
    "## How do we test it?\n",
    "\n",
    "To test our framework we need to provide a *client*"
   ]
  },
  {
   "cell_type": "markdown",
   "id": "d2b63c7b",
   "metadata": {
    "slideshow": {
     "slide_type": "slide"
    }
   },
   "source": [
    "Two possibilities:\n",
    "\n",
    "1. Write another \"server\" which plays the role of the client.\n",
    "2. Perform GET/POST requests using other languages and softwares."
   ]
  },
  {
   "cell_type": "markdown",
   "id": "99712885",
   "metadata": {
    "slideshow": {
     "slide_type": "slide"
    }
   },
   "source": [
    "### A ready-to-use solution"
   ]
  },
  {
   "cell_type": "markdown",
   "id": "a8330713",
   "metadata": {
    "slideshow": {
     "slide_type": "fragment"
    }
   },
   "source": [
    "Simply using `curl`\n",
    "\n",
    "```bash\n",
    "$ curl -H 'Content-Type: application/json' -d '{\"email\" : \"test@test.com\", \"password\" : \"test\"}' -X POST http://localhost:8080/auth/\n",
    "> Login success\n",
    "```"
   ]
  },
  {
   "cell_type": "markdown",
   "id": "8dbba65a",
   "metadata": {
    "slideshow": {
     "slide_type": "slide"
    }
   },
   "source": [
    "### A Pythonic one"
   ]
  },
  {
   "cell_type": "code",
   "execution_count": 8,
   "id": "b006f5d8",
   "metadata": {
    "slideshow": {
     "slide_type": "fragment"
    }
   },
   "outputs": [
    {
     "name": "stdout",
     "output_type": "stream",
     "text": [
      "Login: Success\n"
     ]
    }
   ],
   "source": [
    "import requests\n",
    "\n",
    "# set the url of the API\n",
    "api_url = 'http://localhost:8080/auth/'\n",
    "# set the user information for the login\n",
    "data = {\n",
    "    'email' : 'test@test.com',\n",
    "    'password' : 'test',\n",
    "}\n",
    "# send the login request\n",
    "res = requests.post(api_url, json=data)\n",
    "# verify the status code\n",
    "if res.status_code == 200:\n",
    "    print('Login: Success')\n",
    "else:\n",
    "    print('Login Failed')"
   ]
  }
 ],
 "metadata": {
  "celltoolbar": "Slideshow",
  "kernelspec": {
   "display_name": "Python 3 (ipykernel)",
   "language": "python",
   "name": "python3"
  },
  "language_info": {
   "codemirror_mode": {
    "name": "ipython",
    "version": 3
   },
   "file_extension": ".py",
   "mimetype": "text/x-python",
   "name": "python",
   "nbconvert_exporter": "python",
   "pygments_lexer": "ipython3",
   "version": "3.10.4"
  }
 },
 "nbformat": 4,
 "nbformat_minor": 5
}
